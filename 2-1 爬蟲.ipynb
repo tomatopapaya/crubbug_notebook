{
 "cells": [
  {
   "cell_type": "markdown",
   "id": "d114a4fd",
   "metadata": {},
   "source": [
    "### 函數"
   ]
  },
  {
   "cell_type": "code",
   "execution_count": 1,
   "id": "0b10c8c3",
   "metadata": {},
   "outputs": [],
   "source": [
    "import requests\n",
    "from bs4 import BeautifulSoup\n",
    "\n",
    "def get_soup(url):\n",
    "    try:\n",
    "        resp=requests.get(url)\n",
    "        if resp.status_code==200:\n",
    "            resp.encoding='utf-8'\n",
    "            \n",
    "            return BeautifulSoup(resp.text,'lxml')\n",
    "        \n",
    "    except Exception as e:\n",
    "        print(e)\n",
    "        \n",
    "    return None"
   ]
  },
  {
   "cell_type": "code",
   "execution_count": 2,
   "id": "b947d4b4",
   "metadata": {},
   "outputs": [],
   "source": [
    "url=(\"https://tw.news.yahoo.com/most-popular'\")"
   ]
  },
  {
   "cell_type": "code",
   "execution_count": 3,
   "id": "cdb64640",
   "metadata": {},
   "outputs": [],
   "source": [
    "domain_url=(\"https://tw.yahoo.com\")"
   ]
  },
  {
   "cell_type": "code",
   "execution_count": 4,
   "id": "9e0b6ff6",
   "metadata": {},
   "outputs": [],
   "source": [
    "soup=get_soup(url)\n"
   ]
  },
  {
   "cell_type": "code",
   "execution_count": 5,
   "id": "fa77e35a",
   "metadata": {},
   "outputs": [
    {
     "data": {
      "text/plain": [
       "<div class=\"Cf\" data-reactid=\"6\"><div class=\"Fl(start) Pos(r) Mt(2px) W(26.5%) Maw(220px)\" data-reactid=\"7\"><div class=\"H(0) Ov(h) Bdrs(2px)\" data-reactid=\"8\" style=\"padding-bottom:56%;\"><img alt=\"\" class=\"W(100%) Trsdu(0s)! Bdrs(2px)\" data-reactid=\"9\" src=\"https://s.yimg.com/uu/api/res/1.2/Dn7Ahm5juZyxZHa.8FecVg--~B/Zmk9c3RyaW07aD0xMjM7cT04MDt3PTIyMDthcHBpZD15dGFjaHlvbg--/https://s.yimg.com/uu/api/res/1.2/G6WaSgu3WJn8Suhvdt.FOg--~B/aD01MzA7dz04MDA7YXBwaWQ9eXRhY2h5b24-/https://media.zenfs.com/zh-tw/mirrormedia.mg/ca4ab13ebaa834cab58f90dc8ee56b5d.cf.jpg\" srcset=\"https://s.yimg.com/uu/api/res/1.2/Dn7Ahm5juZyxZHa.8FecVg--~B/Zmk9c3RyaW07aD0xMjM7cT04MDt3PTIyMDthcHBpZD15dGFjaHlvbg--/https://s.yimg.com/uu/api/res/1.2/G6WaSgu3WJn8Suhvdt.FOg--~B/aD01MzA7dz04MDA7YXBwaWQ9eXRhY2h5b24-/https://media.zenfs.com/zh-tw/mirrormedia.mg/ca4ab13ebaa834cab58f90dc8ee56b5d.cf.jpg 1x,https://s.yimg.com/uu/api/res/1.2/emPx6kpswH6vkTfveb9bSw--~B/Zmk9c3RyaW07aD0yNDY7cT04MDt3PTQ0MDthcHBpZD15dGFjaHlvbg--/https://s.yimg.com/uu/api/res/1.2/G6WaSgu3WJn8Suhvdt.FOg--~B/aD01MzA7dz04MDA7YXBwaWQ9eXRhY2h5b24-/https://media.zenfs.com/zh-tw/mirrormedia.mg/ca4ab13ebaa834cab58f90dc8ee56b5d.cf.jpg 2x\"/></div></div><div class=\"Ov(h) Pend(44px) Pstart(25px)\" data-reactid=\"10\"><div class=\"C(#959595) Fz(13px) C($c-fuji-grey-f)! D(ib) Mb(6px)\" data-reactid=\"11\">鏡週刊Mirror Media</div><h3 class=\"Mb(5px)\" data-reactid=\"12\"><a class=\"C($c-fuji-grey-l) Fw(b) Fz(20px) Lh(23px) LineClamp(2,46px) Fz(17px)--sm1024 Lh(19px)--sm1024 LineClamp(2,38px)--sm1024 mega-item-header-link Td(n) C(#0078ff):h C(#000) LineClamp(2,46px) LineClamp(2,38px)--sm1024 not-isInStreamVideoEnabled\" data-reactid=\"13\" href=\"/%E7%8E%8B%E5%BF%85%E5%8B%9D%E7%88%86%E4%B8%8D%E5%80%AB%E6%88%80-%E6%9B%96%E6%98%A7%E5%B0%8F15%E6%AD%B2%E8%AD%B7%E7%90%86%E5%B8%AB-%E6%8A%97%E7%96%AB%E8%8B%B1%E9%9B%84-%E7%8E%8B%E5%BF%85%E5%8B%9D%E8%A6%AA%E5%AF%863%E4%BA%BA%E5%87%BA%E9%81%8A%E7%9B%B4%E6%93%8A-215859626.html\"><u class=\"StretchedBox\" data-reactid=\"14\"></u><!-- react-text: 15 -->【王必勝爆不倫戀】曖昧小15歲護理師　「抗疫英雄」王必勝親密3人出遊直擊<!-- /react-text --></a></h3><p class=\"Mt(12px) Lh(1.4) Fz(16px) C($c-fuji-grey-l) LineClamp(2,44px) M(0)\" data-reactid=\"16\">中央流行疫情指揮中心醫療應變組副組長，同時也是衛福部醫福會執行長的王必勝，因屢次受命前往新冠肺炎（COVID-19）重大群聚感染區坐鎮指揮，並順利解除危機，贏得「抗疫救援王」及「拆彈專家」等美名。但本刊接獲爆料，指已婚的王必勝與一名小他15歲的女護理師外遇多年，對方去年還疑似替他生下一名女兒，但王否認，強調小孩是護理師與前男友所生。</p></div><div class=\"Pos(a) T(14px) End(0) W(36px) Ta(c) NoJs_D(n) Mt(20px)\" data-reactid=\"17\"><a aria-label=\"839 留言。點選即可檢視留言\" class=\"comment-btn-link Pos(r) Cur(p) Va(m) Td(n) D(ib) Pb(6px) desktop_W(100%)\" data-reactid=\"18\" href=\"/%E7%8E%8B%E5%BF%85%E5%8B%9D%E7%88%86%E4%B8%8D%E5%80%AB%E6%88%80-%E6%9B%96%E6%98%A7%E5%B0%8F15%E6%AD%B2%E8%AD%B7%E7%90%86%E5%B8%AB-%E6%8A%97%E7%96%AB%E8%8B%B1%E9%9B%84-%E7%8E%8B%E5%BF%85%E5%8B%9D%E8%A6%AA%E5%AF%863%E4%BA%BA%E5%87%BA%E9%81%8A%E7%9B%B4%E6%93%8A-215859626.html\"><span class=\"comment-btn-count Fw(b) Mt(-14px) Pos(r) D(b) Fz(11px)\" data-reactid=\"19\" style=\"color:#959595;\">839</span><svg class=\"Cur(p)\" data-icon=\"comments\" data-reactid=\"20\" height=\"20\" style=\"position:relative;top:1px;margin:auto;vertical-align:middle;fill:#959595;stroke:#959595;stroke-width:0;\" viewbox=\"0 0 16 16\" width=\"20\"><path d=\"M14.002 10c0 .735-.625 1.333-1.395 1.333h-8.58l-2.028 1.892-.002-9.892C1.998 2.598 2.623 2 3.392 2h9.215c.77 0 1.395.598 1.395 1.333V10zM3.392.667C1.887.667.667 1.86.667 3.334v11.333c0 .265.157.505.4.61.085.038.176.056.266.056.165 0 .328-.062.453-.18l2.765-2.486h8.058c1.505 0 2.726-1.194 2.726-2.667V3.333c0-1.473-1.22-2.667-2.726-2.667H3.393zm7.947 4H4.68c-.367 0-.666.298-.666.667S4.314 6 4.682 6h6.657c.367 0 .665-.298.665-.666s-.298-.667-.666-.667zM4.68 7.333c-.367 0-.666.298-.666.667s.298.667.666.667h6.657c.367 0 .665-.3.665-.667s-.298-.667-.666-.667H4.68z\" data-reactid=\"21\"></path></svg></a><div class=\"share-menu-wrapper D(ib) Pos(r)\" data-reactid=\"22\" style=\"-webkit-tap-highlight-color:transparent;\"><div data-reactid=\"23\" style=\"margin:-10px;\"><button aria-label=\"分享選單\" class=\"share-open-button O(0):f Bd(0) react-button\" data-reactid=\"24\" style=\"padding:10px;\"><svg class=\"M(a) Cur(p)\" data-icon=\"share\" data-reactid=\"25\" height=\"20\" style=\"fill:#959595;stroke:#959595;stroke-width:0;vertical-align:bottom;\" viewbox=\"0 0 48 48\" width=\"20\"><path d=\"M41.574 18.795c-1.104 0-2 .896-2 2v22h-28v-22c0-1.104-.896-2-2-2s-2 .896-2 2v24c0 1.105.896 2 2 2h32c1.104 0 2-.895 2-2v-24c0-1.104-.894-2-2-2zM21.044 13.652l2.53-2.742v22.385h4V10.91l2.53 2.742c.395.428.932.643 1.47.643.484 0 .972-.174 1.355-.53.81-.75.86-2.015.112-2.825l-7.47-8.092-7.47 8.092c-.75.81-.698 2.076.113 2.826.813.748 2.078.697 2.83-.114z\" data-reactid=\"26\"></path></svg></button></div></div></div></div>"
      ]
     },
     "execution_count": 5,
     "metadata": {},
     "output_type": "execute_result"
    }
   ],
   "source": [
    "data=soup.find('div',class_='Cf')\n",
    "data"
   ]
  },
  {
   "cell_type": "code",
   "execution_count": 6,
   "id": "d9d812d5",
   "metadata": {},
   "outputs": [
    {
     "data": {
      "text/plain": [
       "'【王必勝爆不倫戀】曖昧小15歲護理師\\u3000「抗疫英雄」王必勝親密3人出遊直擊'"
      ]
     },
     "execution_count": 6,
     "metadata": {},
     "output_type": "execute_result"
    }
   ],
   "source": [
    "data.find('a').text.strip()"
   ]
  },
  {
   "cell_type": "code",
   "execution_count": 7,
   "id": "dd01a281",
   "metadata": {
    "scrolled": true
   },
   "outputs": [
    {
     "name": "stdout",
     "output_type": "stream",
     "text": [
      "https://tw.yahoo.com/%E7%8E%8B%E5%BF%85%E5%8B%9D%E7%88%86%E4%B8%8D%E5%80%AB%E6%88%80-%E6%9B%96%E6%98%A7%E5%B0%8F15%E6%AD%B2%E8%AD%B7%E7%90%86%E5%B8%AB-%E6%8A%97%E7%96%AB%E8%8B%B1%E9%9B%84-%E7%8E%8B%E5%BF%85%E5%8B%9D%E8%A6%AA%E5%AF%863%E4%BA%BA%E5%87%BA%E9%81%8A%E7%9B%B4%E6%93%8A-215859626.html\n"
     ]
    }
   ],
   "source": [
    "print(domain_url+data.find('a').get('href'))"
   ]
  },
  {
   "cell_type": "code",
   "execution_count": 8,
   "id": "d5f15ec9",
   "metadata": {},
   "outputs": [
    {
     "name": "stdout",
     "output_type": "stream",
     "text": [
      "https://s.yimg.com/uu/api/res/1.2/Dn7Ahm5juZyxZHa.8FecVg--~B/Zmk9c3RyaW07aD0xMjM7cT04MDt3PTIyMDthcHBpZD15dGFjaHlvbg--/https://s.yimg.com/uu/api/res/1.2/G6WaSgu3WJn8Suhvdt.FOg--~B/aD01MzA7dz04MDA7YXBwaWQ9eXRhY2h5b24-/https://media.zenfs.com/zh-tw/mirrormedia.mg/ca4ab13ebaa834cab58f90dc8ee56b5d.cf.jpg\n"
     ]
    }
   ],
   "source": [
    "print(data.find('img').get('src'))\n"
   ]
  },
  {
   "cell_type": "markdown",
   "id": "3c1c5074",
   "metadata": {},
   "source": [
    "### 查找所有新聞"
   ]
  },
  {
   "cell_type": "markdown",
   "id": "c85de237",
   "metadata": {},
   "source": [
    "- find_all"
   ]
  },
  {
   "cell_type": "code",
   "execution_count": 9,
   "id": "8e75ea8f",
   "metadata": {},
   "outputs": [
    {
     "data": {
      "text/plain": [
       "[<div class=\"Cf\" data-reactid=\"6\"><div class=\"Fl(start) Pos(r) Mt(2px) W(26.5%) Maw(220px)\" data-reactid=\"7\"><div class=\"H(0) Ov(h) Bdrs(2px)\" data-reactid=\"8\" style=\"padding-bottom:56%;\"><img alt=\"\" class=\"W(100%) Trsdu(0s)! Bdrs(2px)\" data-reactid=\"9\" src=\"https://s.yimg.com/uu/api/res/1.2/Dn7Ahm5juZyxZHa.8FecVg--~B/Zmk9c3RyaW07aD0xMjM7cT04MDt3PTIyMDthcHBpZD15dGFjaHlvbg--/https://s.yimg.com/uu/api/res/1.2/G6WaSgu3WJn8Suhvdt.FOg--~B/aD01MzA7dz04MDA7YXBwaWQ9eXRhY2h5b24-/https://media.zenfs.com/zh-tw/mirrormedia.mg/ca4ab13ebaa834cab58f90dc8ee56b5d.cf.jpg\" srcset=\"https://s.yimg.com/uu/api/res/1.2/Dn7Ahm5juZyxZHa.8FecVg--~B/Zmk9c3RyaW07aD0xMjM7cT04MDt3PTIyMDthcHBpZD15dGFjaHlvbg--/https://s.yimg.com/uu/api/res/1.2/G6WaSgu3WJn8Suhvdt.FOg--~B/aD01MzA7dz04MDA7YXBwaWQ9eXRhY2h5b24-/https://media.zenfs.com/zh-tw/mirrormedia.mg/ca4ab13ebaa834cab58f90dc8ee56b5d.cf.jpg 1x,https://s.yimg.com/uu/api/res/1.2/emPx6kpswH6vkTfveb9bSw--~B/Zmk9c3RyaW07aD0yNDY7cT04MDt3PTQ0MDthcHBpZD15dGFjaHlvbg--/https://s.yimg.com/uu/api/res/1.2/G6WaSgu3WJn8Suhvdt.FOg--~B/aD01MzA7dz04MDA7YXBwaWQ9eXRhY2h5b24-/https://media.zenfs.com/zh-tw/mirrormedia.mg/ca4ab13ebaa834cab58f90dc8ee56b5d.cf.jpg 2x\"/></div></div><div class=\"Ov(h) Pend(44px) Pstart(25px)\" data-reactid=\"10\"><div class=\"C(#959595) Fz(13px) C($c-fuji-grey-f)! D(ib) Mb(6px)\" data-reactid=\"11\">鏡週刊Mirror Media</div><h3 class=\"Mb(5px)\" data-reactid=\"12\"><a class=\"C($c-fuji-grey-l) Fw(b) Fz(20px) Lh(23px) LineClamp(2,46px) Fz(17px)--sm1024 Lh(19px)--sm1024 LineClamp(2,38px)--sm1024 mega-item-header-link Td(n) C(#0078ff):h C(#000) LineClamp(2,46px) LineClamp(2,38px)--sm1024 not-isInStreamVideoEnabled\" data-reactid=\"13\" href=\"/%E7%8E%8B%E5%BF%85%E5%8B%9D%E7%88%86%E4%B8%8D%E5%80%AB%E6%88%80-%E6%9B%96%E6%98%A7%E5%B0%8F15%E6%AD%B2%E8%AD%B7%E7%90%86%E5%B8%AB-%E6%8A%97%E7%96%AB%E8%8B%B1%E9%9B%84-%E7%8E%8B%E5%BF%85%E5%8B%9D%E8%A6%AA%E5%AF%863%E4%BA%BA%E5%87%BA%E9%81%8A%E7%9B%B4%E6%93%8A-215859626.html\"><u class=\"StretchedBox\" data-reactid=\"14\"></u><!-- react-text: 15 -->【王必勝爆不倫戀】曖昧小15歲護理師　「抗疫英雄」王必勝親密3人出遊直擊<!-- /react-text --></a></h3><p class=\"Mt(12px) Lh(1.4) Fz(16px) C($c-fuji-grey-l) LineClamp(2,44px) M(0)\" data-reactid=\"16\">中央流行疫情指揮中心醫療應變組副組長，同時也是衛福部醫福會執行長的王必勝，因屢次受命前往新冠肺炎（COVID-19）重大群聚感染區坐鎮指揮，並順利解除危機，贏得「抗疫救援王」及「拆彈專家」等美名。但本刊接獲爆料，指已婚的王必勝與一名小他15歲的女護理師外遇多年，對方去年還疑似替他生下一名女兒，但王否認，強調小孩是護理師與前男友所生。</p></div><div class=\"Pos(a) T(14px) End(0) W(36px) Ta(c) NoJs_D(n) Mt(20px)\" data-reactid=\"17\"><a aria-label=\"839 留言。點選即可檢視留言\" class=\"comment-btn-link Pos(r) Cur(p) Va(m) Td(n) D(ib) Pb(6px) desktop_W(100%)\" data-reactid=\"18\" href=\"/%E7%8E%8B%E5%BF%85%E5%8B%9D%E7%88%86%E4%B8%8D%E5%80%AB%E6%88%80-%E6%9B%96%E6%98%A7%E5%B0%8F15%E6%AD%B2%E8%AD%B7%E7%90%86%E5%B8%AB-%E6%8A%97%E7%96%AB%E8%8B%B1%E9%9B%84-%E7%8E%8B%E5%BF%85%E5%8B%9D%E8%A6%AA%E5%AF%863%E4%BA%BA%E5%87%BA%E9%81%8A%E7%9B%B4%E6%93%8A-215859626.html\"><span class=\"comment-btn-count Fw(b) Mt(-14px) Pos(r) D(b) Fz(11px)\" data-reactid=\"19\" style=\"color:#959595;\">839</span><svg class=\"Cur(p)\" data-icon=\"comments\" data-reactid=\"20\" height=\"20\" style=\"position:relative;top:1px;margin:auto;vertical-align:middle;fill:#959595;stroke:#959595;stroke-width:0;\" viewbox=\"0 0 16 16\" width=\"20\"><path d=\"M14.002 10c0 .735-.625 1.333-1.395 1.333h-8.58l-2.028 1.892-.002-9.892C1.998 2.598 2.623 2 3.392 2h9.215c.77 0 1.395.598 1.395 1.333V10zM3.392.667C1.887.667.667 1.86.667 3.334v11.333c0 .265.157.505.4.61.085.038.176.056.266.056.165 0 .328-.062.453-.18l2.765-2.486h8.058c1.505 0 2.726-1.194 2.726-2.667V3.333c0-1.473-1.22-2.667-2.726-2.667H3.393zm7.947 4H4.68c-.367 0-.666.298-.666.667S4.314 6 4.682 6h6.657c.367 0 .665-.298.665-.666s-.298-.667-.666-.667zM4.68 7.333c-.367 0-.666.298-.666.667s.298.667.666.667h6.657c.367 0 .665-.3.665-.667s-.298-.667-.666-.667H4.68z\" data-reactid=\"21\"></path></svg></a><div class=\"share-menu-wrapper D(ib) Pos(r)\" data-reactid=\"22\" style=\"-webkit-tap-highlight-color:transparent;\"><div data-reactid=\"23\" style=\"margin:-10px;\"><button aria-label=\"分享選單\" class=\"share-open-button O(0):f Bd(0) react-button\" data-reactid=\"24\" style=\"padding:10px;\"><svg class=\"M(a) Cur(p)\" data-icon=\"share\" data-reactid=\"25\" height=\"20\" style=\"fill:#959595;stroke:#959595;stroke-width:0;vertical-align:bottom;\" viewbox=\"0 0 48 48\" width=\"20\"><path d=\"M41.574 18.795c-1.104 0-2 .896-2 2v22h-28v-22c0-1.104-.896-2-2-2s-2 .896-2 2v24c0 1.105.896 2 2 2h32c1.104 0 2-.895 2-2v-24c0-1.104-.894-2-2-2zM21.044 13.652l2.53-2.742v22.385h4V10.91l2.53 2.742c.395.428.932.643 1.47.643.484 0 .972-.174 1.355-.53.81-.75.86-2.015.112-2.825l-7.47-8.092-7.47 8.092c-.75.81-.698 2.076.113 2.826.813.748 2.078.697 2.83-.114z\" data-reactid=\"26\"></path></svg></button></div></div></div></div>,\n",
       " <div class=\"Cf\" data-reactid=\"29\"><div class=\"Fl(start) Pos(r) Mt(2px) W(26.5%) Maw(220px)\" data-reactid=\"30\"><div class=\"H(0) Ov(h) Bdrs(2px)\" data-reactid=\"31\" style=\"padding-bottom:56%;\"><img alt=\"\" class=\"W(100%) Trsdu(0s)! Bdrs(2px)\" data-reactid=\"32\" src=\"https://s.yimg.com/uu/api/res/1.2/WqD7WoaJ8yFa0NlbMhQRrw--~B/Zmk9c3RyaW07aD0xMjM7cT04MDt3PTIyMDthcHBpZD15dGFjaHlvbg--/https://s.yimg.com/uu/api/res/1.2/.pMCnZKnLgSrH80fuf2byw--~B/aD0zNzA7dz02OTY7YXBwaWQ9eXRhY2h5b24-/https://media.zenfs.com/zh-tw/nownews.com/e1f850c44d38f4426eeaa3fcc273f1cb.cf.jpg\" srcset=\"https://s.yimg.com/uu/api/res/1.2/WqD7WoaJ8yFa0NlbMhQRrw--~B/Zmk9c3RyaW07aD0xMjM7cT04MDt3PTIyMDthcHBpZD15dGFjaHlvbg--/https://s.yimg.com/uu/api/res/1.2/.pMCnZKnLgSrH80fuf2byw--~B/aD0zNzA7dz02OTY7YXBwaWQ9eXRhY2h5b24-/https://media.zenfs.com/zh-tw/nownews.com/e1f850c44d38f4426eeaa3fcc273f1cb.cf.jpg 1x,https://s.yimg.com/uu/api/res/1.2/kv5aI2d00Q0hQbBOsp3.0A--~B/Zmk9c3RyaW07aD0yNDY7cT04MDt3PTQ0MDthcHBpZD15dGFjaHlvbg--/https://s.yimg.com/uu/api/res/1.2/.pMCnZKnLgSrH80fuf2byw--~B/aD0zNzA7dz02OTY7YXBwaWQ9eXRhY2h5b24-/https://media.zenfs.com/zh-tw/nownews.com/e1f850c44d38f4426eeaa3fcc273f1cb.cf.jpg 2x\"/></div></div><div class=\"Ov(h) Pend(44px) Pstart(25px)\" data-reactid=\"33\"><div class=\"C(#959595) Fz(13px) C($c-fuji-grey-f)! D(ib) Mb(6px)\" data-reactid=\"34\">今日新聞NOWnews</div><h3 class=\"Mb(5px)\" data-reactid=\"35\"><a class=\"C($c-fuji-grey-l) Fw(b) Fz(20px) Lh(23px) LineClamp(2,46px) Fz(17px)--sm1024 Lh(19px)--sm1024 LineClamp(2,38px)--sm1024 mega-item-header-link Td(n) C(#0078ff):h C(#000) LineClamp(2,46px) LineClamp(2,38px)--sm1024 not-isInStreamVideoEnabled\" data-reactid=\"36\" href=\"/%E7%99%BE%E5%85%83%E5%89%AA%E9%AB%AE%E6%80%8E%E7%AA%81%E7%84%B6%E6%9A%B4%E9%A2%A8%E6%B6%88%E5%A4%B1-%E7%9C%9F%E7%9B%B8%E6%9B%9D%E5%85%89-003100063.html\"><u class=\"StretchedBox\" data-reactid=\"37\"></u><!-- react-text: 38 -->百元剪髮怎突然暴風消失？真相曝光<!-- /react-text --></a></h3><p class=\"Mt(12px) Lh(1.4) Fz(16px) C($c-fuji-grey-l) LineClamp(2,44px) M(0)\" data-reactid=\"39\">百元剪髮近幾年頗夯，相比較格昂貴的髮廊，因為擁有便宜且快速的優勢，深受不少大眾喜愛，現在不少大賣場內甚至有百元剪髮進駐，相當方便。而近日，就有網友討論「為何百元剪髮已經陸續在消失？」貼文引發廣大迴響。...</p></div><div class=\"Pos(a) T(14px) End(0) W(36px) Ta(c) NoJs_D(n) Mt(20px)\" data-reactid=\"40\"><a aria-label=\"134 留言。點選即可檢視留言\" class=\"comment-btn-link Pos(r) Cur(p) Va(m) Td(n) D(ib) Pb(6px) desktop_W(100%)\" data-reactid=\"41\" href=\"/%E7%99%BE%E5%85%83%E5%89%AA%E9%AB%AE%E6%80%8E%E7%AA%81%E7%84%B6%E6%9A%B4%E9%A2%A8%E6%B6%88%E5%A4%B1-%E7%9C%9F%E7%9B%B8%E6%9B%9D%E5%85%89-003100063.html\"><span class=\"comment-btn-count Fw(b) Mt(-14px) Pos(r) D(b) Fz(11px)\" data-reactid=\"42\" style=\"color:#959595;\">134</span><svg class=\"Cur(p)\" data-icon=\"comments\" data-reactid=\"43\" height=\"20\" style=\"position:relative;top:1px;margin:auto;vertical-align:middle;fill:#959595;stroke:#959595;stroke-width:0;\" viewbox=\"0 0 16 16\" width=\"20\"><path d=\"M14.002 10c0 .735-.625 1.333-1.395 1.333h-8.58l-2.028 1.892-.002-9.892C1.998 2.598 2.623 2 3.392 2h9.215c.77 0 1.395.598 1.395 1.333V10zM3.392.667C1.887.667.667 1.86.667 3.334v11.333c0 .265.157.505.4.61.085.038.176.056.266.056.165 0 .328-.062.453-.18l2.765-2.486h8.058c1.505 0 2.726-1.194 2.726-2.667V3.333c0-1.473-1.22-2.667-2.726-2.667H3.393zm7.947 4H4.68c-.367 0-.666.298-.666.667S4.314 6 4.682 6h6.657c.367 0 .665-.298.665-.666s-.298-.667-.666-.667zM4.68 7.333c-.367 0-.666.298-.666.667s.298.667.666.667h6.657c.367 0 .665-.3.665-.667s-.298-.667-.666-.667H4.68z\" data-reactid=\"44\"></path></svg></a><div class=\"share-menu-wrapper D(ib) Pos(r)\" data-reactid=\"45\" style=\"-webkit-tap-highlight-color:transparent;\"><div data-reactid=\"46\" style=\"margin:-10px;\"><button aria-label=\"分享選單\" class=\"share-open-button O(0):f Bd(0) react-button\" data-reactid=\"47\" style=\"padding:10px;\"><svg class=\"M(a) Cur(p)\" data-icon=\"share\" data-reactid=\"48\" height=\"20\" style=\"fill:#959595;stroke:#959595;stroke-width:0;vertical-align:bottom;\" viewbox=\"0 0 48 48\" width=\"20\"><path d=\"M41.574 18.795c-1.104 0-2 .896-2 2v22h-28v-22c0-1.104-.896-2-2-2s-2 .896-2 2v24c0 1.105.896 2 2 2h32c1.104 0 2-.895 2-2v-24c0-1.104-.894-2-2-2zM21.044 13.652l2.53-2.742v22.385h4V10.91l2.53 2.742c.395.428.932.643 1.47.643.484 0 .972-.174 1.355-.53.81-.75.86-2.015.112-2.825l-7.47-8.092-7.47 8.092c-.75.81-.698 2.076.113 2.826.813.748 2.078.697 2.83-.114z\" data-reactid=\"49\"></path></svg></button></div></div></div></div>,\n",
       " <div class=\"Cf\" data-reactid=\"52\"><div class=\"Fl(start) Pos(r) Mt(2px) W(26.5%) Maw(220px)\" data-reactid=\"53\"><div class=\"H(0) Ov(h) Bdrs(2px)\" data-reactid=\"54\" style=\"padding-bottom:56%;\"><img alt=\"\" class=\"W(100%) Trsdu(0s)! Bdrs(2px)\" data-reactid=\"55\" src=\"https://s.yimg.com/uu/api/res/1.2/Jkk2ljvYJN64JgEeiVL_2A--~B/Zmk9c3RyaW07aD0xMjM7cT04MDt3PTIyMDthcHBpZD15dGFjaHlvbg--/https://s.yimg.com/uu/api/res/1.2/UxGck3f.xbIka8iULZWMUA--~B/aD0zNDM7dz02MDk7YXBwaWQ9eXRhY2h5b24-/https://media.zenfs.com/ko/ftvn.com.tw/ce0fccecddff5ce64d4ed31b294af5ef.cf.jpg\" srcset=\"https://s.yimg.com/uu/api/res/1.2/Jkk2ljvYJN64JgEeiVL_2A--~B/Zmk9c3RyaW07aD0xMjM7cT04MDt3PTIyMDthcHBpZD15dGFjaHlvbg--/https://s.yimg.com/uu/api/res/1.2/UxGck3f.xbIka8iULZWMUA--~B/aD0zNDM7dz02MDk7YXBwaWQ9eXRhY2h5b24-/https://media.zenfs.com/ko/ftvn.com.tw/ce0fccecddff5ce64d4ed31b294af5ef.cf.jpg 1x,https://s.yimg.com/uu/api/res/1.2/Ehl4fYwvHAylGDTxuMPPQQ--~B/Zmk9c3RyaW07aD0yNDY7cT04MDt3PTQ0MDthcHBpZD15dGFjaHlvbg--/https://s.yimg.com/uu/api/res/1.2/UxGck3f.xbIka8iULZWMUA--~B/aD0zNDM7dz02MDk7YXBwaWQ9eXRhY2h5b24-/https://media.zenfs.com/ko/ftvn.com.tw/ce0fccecddff5ce64d4ed31b294af5ef.cf.jpg 2x\"/></div></div><div class=\"Ov(h) Pend(44px) Pstart(25px)\" data-reactid=\"56\"><div class=\"C(#959595) Fz(13px) C($c-fuji-grey-f)! D(ib) Mb(6px)\" data-reactid=\"57\">民視</div><h3 class=\"Mb(5px)\" data-reactid=\"58\"><a class=\"C($c-fuji-grey-l) Fw(b) Fz(20px) Lh(23px) LineClamp(2,46px) Fz(17px)--sm1024 Lh(19px)--sm1024 LineClamp(2,38px)--sm1024 mega-item-header-link Td(n) C(#0078ff):h C(#000) LineClamp(2,46px) LineClamp(2,38px)--sm1024 not-isInStreamVideoEnabled\" data-reactid=\"59\" href=\"/%E9%A6%AC%E7%A5%96%E5%A5%B3%E8%80%81%E5%B8%AB%E5%A4%AA%E7%8A%A7%E7%89%B2-%E7%A9%BF-%E7%89%B9%E6%AE%8A%E6%9C%8D%E8%A3%9D-%E6%95%99%E4%BA%BA%E9%AB%94%E6%A7%8B%E9%80%A0-083826373.html\"><u class=\"StretchedBox\" data-reactid=\"60\"></u><!-- react-text: 61 -->馬祖女老師太犧牲！穿「特殊服裝」教人體構造<!-- /react-text --></a></h3><p class=\"Mt(12px) Lh(1.4) Fz(16px) C($c-fuji-grey-l) LineClamp(2,44px) M(0)\" data-reactid=\"62\">生活中心／綜合報導要讓孩子能夠更投入學習，許多老師都有獨門的招數，但有網友在臉書上分享，一名在馬祖教書的老師實在太過犧牲，為讓學生清楚理解人類生理構造，竟然套上特殊服裝，把自己變成「內臟人」，看起來也有點像知名動漫裡的巨人，迅速引起網友討論，大讚這名老師真的很用心。</p></div><div class=\"Pos(a) T(14px) End(0) W(36px) Ta(c) NoJs_D(n) Mt(20px)\" data-reactid=\"63\"><a aria-label=\"111 留言。點選即可檢視留言\" class=\"comment-btn-link Pos(r) Cur(p) Va(m) Td(n) D(ib) Pb(6px) desktop_W(100%)\" data-reactid=\"64\" href=\"/%E9%A6%AC%E7%A5%96%E5%A5%B3%E8%80%81%E5%B8%AB%E5%A4%AA%E7%8A%A7%E7%89%B2-%E7%A9%BF-%E7%89%B9%E6%AE%8A%E6%9C%8D%E8%A3%9D-%E6%95%99%E4%BA%BA%E9%AB%94%E6%A7%8B%E9%80%A0-083826373.html\"><span class=\"comment-btn-count Fw(b) Mt(-14px) Pos(r) D(b) Fz(11px)\" data-reactid=\"65\" style=\"color:#959595;\">111</span><svg class=\"Cur(p)\" data-icon=\"comments\" data-reactid=\"66\" height=\"20\" style=\"position:relative;top:1px;margin:auto;vertical-align:middle;fill:#959595;stroke:#959595;stroke-width:0;\" viewbox=\"0 0 16 16\" width=\"20\"><path d=\"M14.002 10c0 .735-.625 1.333-1.395 1.333h-8.58l-2.028 1.892-.002-9.892C1.998 2.598 2.623 2 3.392 2h9.215c.77 0 1.395.598 1.395 1.333V10zM3.392.667C1.887.667.667 1.86.667 3.334v11.333c0 .265.157.505.4.61.085.038.176.056.266.056.165 0 .328-.062.453-.18l2.765-2.486h8.058c1.505 0 2.726-1.194 2.726-2.667V3.333c0-1.473-1.22-2.667-2.726-2.667H3.393zm7.947 4H4.68c-.367 0-.666.298-.666.667S4.314 6 4.682 6h6.657c.367 0 .665-.298.665-.666s-.298-.667-.666-.667zM4.68 7.333c-.367 0-.666.298-.666.667s.298.667.666.667h6.657c.367 0 .665-.3.665-.667s-.298-.667-.666-.667H4.68z\" data-reactid=\"67\"></path></svg></a><div class=\"share-menu-wrapper D(ib) Pos(r)\" data-reactid=\"68\" style=\"-webkit-tap-highlight-color:transparent;\"><div data-reactid=\"69\" style=\"margin:-10px;\"><button aria-label=\"分享選單\" class=\"share-open-button O(0):f Bd(0) react-button\" data-reactid=\"70\" style=\"padding:10px;\"><svg class=\"M(a) Cur(p)\" data-icon=\"share\" data-reactid=\"71\" height=\"20\" style=\"fill:#959595;stroke:#959595;stroke-width:0;vertical-align:bottom;\" viewbox=\"0 0 48 48\" width=\"20\"><path d=\"M41.574 18.795c-1.104 0-2 .896-2 2v22h-28v-22c0-1.104-.896-2-2-2s-2 .896-2 2v24c0 1.105.896 2 2 2h32c1.104 0 2-.895 2-2v-24c0-1.104-.894-2-2-2zM21.044 13.652l2.53-2.742v22.385h4V10.91l2.53 2.742c.395.428.932.643 1.47.643.484 0 .972-.174 1.355-.53.81-.75.86-2.015.112-2.825l-7.47-8.092-7.47 8.092c-.75.81-.698 2.076.113 2.826.813.748 2.078.697 2.83-.114z\" data-reactid=\"72\"></path></svg></button></div></div></div></div>,\n",
       " <div class=\"Cf\" data-reactid=\"75\"><div class=\"Fl(start) Pos(r) Mt(2px) W(26.5%) Maw(220px)\" data-reactid=\"76\"><div class=\"H(0) Ov(h) Bdrs(2px)\" data-reactid=\"77\" style=\"padding-bottom:56%;\"><img alt=\"\" class=\"JsEnabled_Op(0) JsEnabled_Bg(n) Trsdu(.42s) Bgr(nr) Bgz(cv) W(100%) Trsdu(0s)! Bdrs(2px)\" data-reactid=\"78\" src=\"https://s.yimg.com/g/images/spaceball.gif\" style=\"background-image:url(https://s.yimg.com/uu/api/res/1.2/9UkWpxCgstFjVaP9qLzGPg--~B/Zmk9c3RyaW07aD0xMjM7cT04MDt3PTIyMDthcHBpZD15dGFjaHlvbg--/https://s.yimg.com/hd/cp-video-transcode/prod/2021-10/25/61765b2571a0642948a42e2f/61765b2571a0642948a42e30_o_U_v2.jpg.cf.jpg);\"/><span class=\"JsEnabled_Op(0) JsEnabled_Bg(n) Trsdu(.42s) Bgr(nr) Bgz(cv) StretchedBox M(a) lightweight_D(n) Trsdu(0s)!\" data-reactid=\"79\" dir=\"ltr\" style=\"height:50px;width:50px;background-size:50px;background-image:url(https://s.yimg.com/cv/apiv2/default/20200910/Oval_x3.png);\"><svg class=\"D(b) Pos(r) Mstart(2px) Cur(p)\" data-icon=\"CorePlay\" data-reactid=\"80\" height=\"20\" style=\"left:15px;top:15px;fill:#fff;stroke:#fff;stroke-width:0;vertical-align:bottom;\" viewbox=\"0 0 512 512\" width=\"20\"><path d=\"M82.294 490.295c-20.327 11.736-36.952 2.14-36.952-21.332V42.295c0-23.472 16.632-33.055 36.952-21.332L451.67 234.295c20.318 11.75 20.318 30.945 0 42.682L82.294 490.295z\" data-reactid=\"81\"></path></svg></span></div></div><div class=\"Ov(h) Pend(44px) Pstart(25px)\" data-reactid=\"82\"><div class=\"C(#959595) Fz(13px) C($c-fuji-grey-f)! D(ib) Mb(6px)\" data-reactid=\"83\">阿滴英文</div><h3 class=\"Mb(5px)\" data-reactid=\"84\"><a class=\"C($c-fuji-grey-l) Fw(b) Fz(20px) Lh(23px) LineClamp(2,46px) Fz(17px)--sm1024 Lh(19px)--sm1024 LineClamp(2,38px)--sm1024 mega-item-header-link Td(n) C(#0078ff):h C(#000) LineClamp(2,46px) LineClamp(2,38px)--sm1024 not-isInStreamVideoEnabled\" data-reactid=\"85\" href=\"/%E6%96%87%E7%B5%84%E7%94%9Fvs%E6%9C%AB%E4%BB%A3%E6%8C%87%E8%80%83%E6%95%B8%E7%94%B2-%E8%AA%B0%E8%83%BD%E7%AA%81%E7%A0%B4%E9%9B%B6%E5%88%86-ft-%E9%BB%83%E5%A4%A7%E8%AC%99-%E4%BB%80%E9%BA%BC%E6%84%8F%E6%80%9D-072212381.html\"><u class=\"StretchedBox\" data-reactid=\"86\"></u><!-- react-text: 87 -->文組生VS末代指考數甲! 誰能突破零分? ft.黃大謙、什麼意思、數感實驗室Numeracy Lab<!-- /react-text --></a></h3><p class=\"Mt(12px) Lh(1.4) Fz(16px) C($c-fuji-grey-l) LineClamp(2,44px) M(0)\" data-reactid=\"88\">身為知識型YouTuber就是要分享全方位知識，這次挑戰指考數甲我們目標不用訂太高。 製作：阿滴英文臉書 看更多阿滴英文 看更多網紅創作影音</p></div></div>,\n",
       " <div class=\"Cf\" data-reactid=\"91\"><div class=\"Fl(start) Pos(r) Mt(2px) W(26.5%) Maw(220px)\" data-reactid=\"92\"><div class=\"H(0) Ov(h) Bdrs(2px)\" data-reactid=\"93\" style=\"padding-bottom:56%;\"><img alt=\"\" class=\"JsEnabled_Op(0) JsEnabled_Bg(n) Trsdu(.42s) Bgr(nr) Bgz(cv) W(100%) Trsdu(0s)! Bdrs(2px)\" data-reactid=\"94\" src=\"https://s.yimg.com/g/images/spaceball.gif\" style=\"background-image:url(https://s.yimg.com/uu/api/res/1.2/JTJ_27FV9gBBmyEJOnOAsQ--~B/Zmk9c3RyaW07aD0xMjM7cT04MDt3PTIyMDthcHBpZD15dGFjaHlvbg--/https://s.yimg.com/uu/api/res/1.2/tpbdENG1WUFGr_QylR.8iw--~B/aD00NTI7dz04NTg7YXBwaWQ9eXRhY2h5b24-/https://media.zenfs.com/ko/ctwant_com_582/3fd20a78376f83f3556ec1127b50aa5e.cf.jpg);\"/></div></div><div class=\"Ov(h) Pend(44px) Pstart(25px)\" data-reactid=\"95\"><div class=\"C(#959595) Fz(13px) C($c-fuji-grey-f)! D(ib) Mb(6px)\" data-reactid=\"96\">CTWANT</div><h3 class=\"Mb(5px)\" data-reactid=\"97\"><a class=\"C($c-fuji-grey-l) Fw(b) Fz(20px) Lh(23px) LineClamp(2,46px) Fz(17px)--sm1024 Lh(19px)--sm1024 LineClamp(2,38px)--sm1024 mega-item-header-link Td(n) C(#0078ff):h C(#000) LineClamp(2,46px) LineClamp(2,38px)--sm1024 not-isInStreamVideoEnabled\" data-reactid=\"98\" href=\"/%E9%AB%98%E7%AB%AF%E7%96%AB%E8%8B%97%E5%A4%9A%E5%88%B0%E6%89%93%E4%B8%8D%E5%AE%8C-%E5%92%8C%E9%83%AD%E8%91%A3%E6%9C%89%E9%97%9C-%E5%90%8D%E9%86%AB%E5%9D%A6%E6%89%BF-%E5%A7%8B%E6%96%99%E6%9C%AA%E5%8F%8A-011545799.html\"><u class=\"StretchedBox\" data-reactid=\"99\"></u><!-- react-text: 100 -->高端疫苗多到打不完「和郭董有關」？　名醫坦承：始料未及<!-- /react-text --></a></h3><p class=\"Mt(12px) Lh(1.4) Fz(16px) C($c-fuji-grey-l) LineClamp(2,44px) M(0)\" data-reactid=\"101\">[周刊王CTWANT] 國內疫情控制得宜，加上先前陸續有多國捐贈疫苗，鴻海集團創辦人郭台銘、台積電、慈濟等民間企業，也陸續採購1500萬劑BNT疫苗，隨著三大重點品牌疫苗陸續到位，讓衛福部長陳時中坦言，政府採購500萬劑的本土高端疫苗，可能會打不完，有跟其他國家洽談捐贈，不過專家提醒，這也需要受贈國家通過高端疫苗緊急使用授權(EUA)，才能接受捐贈。政府採購了500萬劑高端疫苗，但根據指揮中心最新統計，截至10月24日，高端疫苗累計接種136.7萬劑，第一劑打75萬2,654劑，第二劑打61萬4,535劑，目前還有14萬人還要打第二劑。據《蘋果新聞網》報導，林口長庚副院長邱政洵指出，世界各國的疫苗採購策略，多半是採購量比全國人口多出數倍，包括英美日，或是越南、泰國等，都是採這個策略布署防疫，而台灣今年在疫情嚴重的時候，幸好各國及時援贈AZ和莫德納疫苗，加上民間又多採購了1500萬劑BNT疫苗，面對現在高端疫苗可能有多到打不完的問題，確實始料未及。面對高端疫苗有多到打不完的問題，是否能送贈給其他國家？邱政洵表示，高端疫苗目前在全球，僅通過台灣EUA，如果要送給其他國家，也要受贈國家有通過</p></div></div>,\n",
       " <div class=\"Cf\" data-reactid=\"104\"><div class=\"Fl(start) Pos(r) Mt(2px) W(26.5%) Maw(220px)\" data-reactid=\"105\"><div class=\"H(0) Ov(h) Bdrs(2px)\" data-reactid=\"106\" style=\"padding-bottom:56%;\"><img alt=\"\" class=\"JsEnabled_Op(0) JsEnabled_Bg(n) Trsdu(.42s) Bgr(nr) Bgz(cv) W(100%) Trsdu(0s)! Bdrs(2px)\" data-reactid=\"107\" src=\"https://s.yimg.com/g/images/spaceball.gif\" style=\"background-image:url(https://s.yimg.com/uu/api/res/1.2/Q8uYrjCGIE7.GCvyuWwIyQ--~B/Zmk9c3RyaW07aD0xMjM7cT04MDt3PTIyMDthcHBpZD15dGFjaHlvbg--/https://s.yimg.com/uu/api/res/1.2/N4kg52.gv6dSz7gvpWEG4A--~B/aD01MzM7dz04MDA7YXBwaWQ9eXRhY2h5b24-/https://media.zenfs.com/zh-tw/mirrormedia.mg/27ea667e21a0268144946db376ae2bcc.cf.jpg);\"/></div></div><div class=\"Ov(h) Pend(44px) Pstart(25px)\" data-reactid=\"108\"><div class=\"C(#959595) Fz(13px) C($c-fuji-grey-f)! D(ib) Mb(6px)\" data-reactid=\"109\">鏡週刊Mirror Media</div><h3 class=\"Mb(5px)\" data-reactid=\"110\"><a class=\"C($c-fuji-grey-l) Fw(b) Fz(20px) Lh(23px) LineClamp(2,46px) Fz(17px)--sm1024 Lh(19px)--sm1024 LineClamp(2,38px)--sm1024 mega-item-header-link Td(n) C(#0078ff):h C(#000) LineClamp(2,46px) LineClamp(2,38px)--sm1024 not-isInStreamVideoEnabled\" data-reactid=\"111\" href=\"/%E9%83%AD%E9%91%AB%E6%94%B9%E5%90%8D%E6%9A%B4%E7%98%A6%E8%B5%B4%E4%B8%AD%E5%9C%8B%E7%99%BC%E5%B1%95%E5%A5%AA%E5%BD%B1%E5%B8%9D-%E5%BE%AE%E5%8D%9A%E9%A0%BB%E7%99%BC%E6%96%87-%E6%9C%9F%E5%BE%85%E6%97%A9%E6%97%A5%E7%B5%B1-235544123.html\"><u class=\"StretchedBox\" data-reactid=\"112\"></u><!-- react-text: 113 -->郭鑫改名暴瘦赴中國發展奪影帝　微博頻發文：期待早日統一<!-- /react-text --></a></h3><p class=\"Mt(12px) Lh(1.4) Fz(16px) C($c-fuji-grey-l) LineClamp(2,44px) M(0)\" data-reactid=\"114\">藝人郭鑫過去是《康熙來了》的常客，更因為與藝人阿布當過多年室友，時常被小S調侃要兩人組CP。而郭鑫近年轉戰演員演藝成績不俗，除了有出演台劇《你的孩子不是你的孩子》《她們創業的那些鳥事》，更改名郭晉東赴中國發展，並以電影《夜守》的思覺失調症患者一角拿下「Festigious洛杉磯國際電影節」影帝。然近來郭鑫的微博上，時常可見他按讚一些中國官媒的貼文，甚至發文「期待早日見到統一，中國人團結一心」。</p></div></div>,\n",
       " <div class=\"Cf\" data-reactid=\"117\"><div class=\"Fl(start) Pos(r) Mt(2px) W(26.5%) Maw(220px)\" data-reactid=\"118\"><div class=\"H(0) Ov(h) Bdrs(2px)\" data-reactid=\"119\" style=\"padding-bottom:56%;\"><img alt=\"\" class=\"JsEnabled_Op(0) JsEnabled_Bg(n) Trsdu(.42s) Bgr(nr) Bgz(cv) W(100%) Trsdu(0s)! Bdrs(2px)\" data-reactid=\"120\" src=\"https://s.yimg.com/g/images/spaceball.gif\" style=\"background-image:url(https://s.yimg.com/uu/api/res/1.2/wG9i1JhFCLXClXt_XFoJmA--~B/Zmk9c3RyaW07aD0xMjM7cT04MDt3PTIyMDthcHBpZD15dGFjaHlvbg--/https://s.yimg.com/uu/api/res/1.2/7DX.IkM9tKFN6_1AV.pE1g--~B/aD01NDE7dz04MDA7YXBwaWQ9eXRhY2h5b24-/https://media.zenfs.com/zh-tw/mirrormedia.mg/394339b6fecf3877786664b1b371fd42.cf.jpg);\"/></div></div><div class=\"Ov(h) Pend(44px) Pstart(25px)\" data-reactid=\"121\"><div class=\"C(#959595) Fz(13px) C($c-fuji-grey-f)! D(ib) Mb(6px)\" data-reactid=\"122\">鏡週刊Mirror Media</div><h3 class=\"Mb(5px)\" data-reactid=\"123\"><a class=\"C($c-fuji-grey-l) Fw(b) Fz(20px) Lh(23px) LineClamp(2,46px) Fz(17px)--sm1024 Lh(19px)--sm1024 LineClamp(2,38px)--sm1024 mega-item-header-link Td(n) C(#0078ff):h C(#000) LineClamp(2,46px) LineClamp(2,38px)--sm1024 not-isInStreamVideoEnabled\" data-reactid=\"124\" href=\"/%E7%8E%8B%E5%BF%85%E5%8B%9D%E7%88%86%E4%B8%8D%E5%80%AB%E6%88%804-%E6%B7%B1%E5%85%A5%E7%96%AB%E6%83%85%E9%87%8D%E7%81%BD%E5%8D%80%E6%8B%86%E5%BD%88-%E7%8E%8B%E5%BF%85%E5%8B%9D%E4%BA%BA%E7%94%9F%E5%8B%9D%E5%88%A9%E7%B5%84%E8%83%8C%E6%99%AF%E8%B5%B7%E5%BA%95-215855037.html\"><u class=\"StretchedBox\" data-reactid=\"125\"></u><!-- react-text: 126 -->【王必勝爆不倫戀4】深入疫情重災區拆彈　王必勝人生勝利組背景起底<!-- /react-text --></a></h3><p class=\"Mt(12px) Lh(1.4) Fz(16px) C($c-fuji-grey-l) LineClamp(2,44px) M(0)\" data-reactid=\"127\">王必勝的友人告訴本刊，王與妻子都畢業於台北醫學大學醫學系，二人從大學時代就已交往，在眾人眼中，王是一位顧家的好丈夫、好爸爸，對二個女兒更是疼愛有加，王妻同樣事業有成，目前在台北榮總擔任主任，一家四口住在王妻名下的三重豪宅，完全是人生勝利組的典範。</p></div></div>,\n",
       " <div class=\"Cf\" data-reactid=\"130\"><div class=\"Ov(h) Pend(14%) Pend(44px)--sm1024\" data-reactid=\"131\"><div class=\"C(#959595) Fz(13px) C($c-fuji-grey-f)! D(ib) Mb(6px)\" data-reactid=\"132\">中時新聞網</div><h3 class=\"Mb(5px)\" data-reactid=\"133\"><a class=\"C($c-fuji-grey-l) Fw(b) Fz(20px) Lh(23px) LineClamp(2,46px) Fz(17px)--sm1024 Lh(19px)--sm1024 LineClamp(2,38px)--sm1024 mega-item-header-link Td(n) C(#0078ff):h C(#000) LineClamp(2,46px) LineClamp(2,38px)--sm1024 not-isInStreamVideoEnabled\" data-reactid=\"134\" href=\"/%E9%86%AB%E5%98%86%E9%80%99%E5%BB%A0%E7%89%8C%E7%AC%AC-%E5%8A%91%E6%B2%92%E4%BA%BA%E6%83%B3%E6%89%93-%E6%B0%91%E7%9C%BE%E7%8B%82%E5%95%8F-az-bnt-031633094.html\"><u class=\"StretchedBox\" data-reactid=\"135\"></u><!-- react-text: 136 -->醫嘆這廠牌第一劑沒人想打 民眾狂問「AZ＋BNT」<!-- /react-text --></a></h3><p class=\"Mt(12px) Lh(1.4) Fz(16px) C($c-fuji-grey-l) LineClamp(2,44px) M(0)\" data-reactid=\"137\">指揮中心擬規劃開放第13輪混打AZ＋BNT，由於不少研究顯示混打效果更佳，因此有不少民眾即變知道副作用會比較大，仍心動想要混打，對此，小兒科醫師張博揚急發文請求大家別在打電話來問混打了，並無奈嘆氣道「認真的BNT第一劑已沒人想打，想要AZ+BNT第2劑的人一堆。」引起網友熱烈討論。</p></div></div>,\n",
       " <div class=\"Cf\" data-reactid=\"140\"><div class=\"Fl(start) Pos(r) Mt(2px) W(26.5%) Maw(220px)\" data-reactid=\"141\"><div class=\"H(0) Ov(h) Bdrs(2px)\" data-reactid=\"142\" style=\"padding-bottom:56%;\"><img alt=\"\" class=\"JsEnabled_Op(0) JsEnabled_Bg(n) Trsdu(.42s) Bgr(nr) Bgz(cv) W(100%) Trsdu(0s)! Bdrs(2px)\" data-reactid=\"143\" src=\"https://s.yimg.com/g/images/spaceball.gif\" style=\"background-image:url(https://s.yimg.com/uu/api/res/1.2/Ffng95tfCMcXBJR0noy78Q--~B/Zmk9c3RyaW07aD0xMjM7cT04MDt3PTIyMDthcHBpZD15dGFjaHlvbg--/https://s.yimg.com/uu/api/res/1.2/kP6VlLXVascjQZCZDdTpsg--~B/aD01NzY7dz0xMDI0O2FwcGlkPXl0YWNoeW9u/https://media.zenfs.com/ko/news_ttv_com_tw_433/4686ffb51ba0cf66f65a597d3ac22eab.cf.jpg);\"/></div></div><div class=\"Ov(h) Pend(44px) Pstart(25px)\" data-reactid=\"144\"><div class=\"C(#959595) Fz(13px) C($c-fuji-grey-f)! D(ib) Mb(6px)\" data-reactid=\"145\">台視新聞網</div><h3 class=\"Mb(5px)\" data-reactid=\"146\"><a class=\"C($c-fuji-grey-l) Fw(b) Fz(20px) Lh(23px) LineClamp(2,46px) Fz(17px)--sm1024 Lh(19px)--sm1024 LineClamp(2,38px)--sm1024 mega-item-header-link Td(n) C(#0078ff):h C(#000) LineClamp(2,46px) LineClamp(2,38px)--sm1024 not-isInStreamVideoEnabled\" data-reactid=\"147\" href=\"/%E5%9C%8B%E6%97%85%E5%88%B8-%E7%AC%AC%E4%B8%89%E6%B3%A2%E7%8D%8E%E8%99%9F%E5%87%BA%E7%88%90-6%E7%B5%84-%E8%BA%AB%E5%88%86%E8%AD%89%E6%9C%AB%E7%A2%BC%E7%88%BD%E9%A0%981000%E5%85%83-023145904.html\"><u class=\"StretchedBox\" data-reactid=\"148\"></u><!-- react-text: 149 -->「國旅券」第三波獎號出爐！  「6組」身分證末碼爽領1000元<!-- /react-text --></a></h3><p class=\"Mt(12px) Lh(1.4) Fz(16px) C($c-fuji-grey-l) LineClamp(2,44px) M(0)\" data-reactid=\"150\">各部會加碼券抽獎邁入第三週，由交通部所規劃的1000元「國旅券」已連續兩週抽出120萬份，今（26）日上午10點30分再抽出60萬名幸運兒，中獎身分證末碼為：44、34、09、55、35、041。有參</p></div></div>,\n",
       " <div class=\"Cf\" data-reactid=\"153\"><div class=\"Fl(start) Pos(r) Mt(2px) W(26.5%) Maw(220px)\" data-reactid=\"154\"><div class=\"H(0) Ov(h) Bdrs(2px)\" data-reactid=\"155\" style=\"padding-bottom:56%;\"><img alt=\"\" class=\"JsEnabled_Op(0) JsEnabled_Bg(n) Trsdu(.42s) Bgr(nr) Bgz(cv) W(100%) Trsdu(0s)! Bdrs(2px)\" data-reactid=\"156\" src=\"https://s.yimg.com/g/images/spaceball.gif\" style=\"background-image:url(https://s.yimg.com/uu/api/res/1.2/0H4c11BRa4zYUdtdGqewnA--~B/Zmk9c3RyaW07aD0xMjM7cT04MDt3PTIyMDthcHBpZD15dGFjaHlvbg--/https://s.yimg.com/uu/api/res/1.2/2c5aTaOOqWx_sUPX7CT_EA--~B/aD01OTY7dz0xMDYwO2FwcGlkPXl0YWNoeW9u/https://media.zenfs.com/zh-tw/news_tvbs_com_tw_938/577b2acd1a6b1c74df3d3278b566f03b.cf.jpg);\"/></div></div><div class=\"Ov(h) Pend(44px) Pstart(25px)\" data-reactid=\"157\"><div class=\"C(#959595) Fz(13px) C($c-fuji-grey-f)! D(ib) Mb(6px)\" data-reactid=\"158\">TVBS新聞網</div><h3 class=\"Mb(5px)\" data-reactid=\"159\"><a class=\"C($c-fuji-grey-l) Fw(b) Fz(20px) Lh(23px) LineClamp(2,46px) Fz(17px)--sm1024 Lh(19px)--sm1024 LineClamp(2,38px)--sm1024 mega-item-header-link Td(n) C(#0078ff):h C(#000) LineClamp(2,46px) LineClamp(2,38px)--sm1024 not-isInStreamVideoEnabled\" data-reactid=\"160\" href=\"/%E8%AB%8Bceo%E5%A5%B3%E5%A9%BF%E8%A3%9D%E6%BD%A2-%E7%B5%90%E6%9E%9C%E8%B6%85%E6%85%98-%E5%90%B3%E5%AE%97%E6%86%B2%E6%80%92%E5%90%BC-%E6%88%91%E5%A5%B3%E5%85%92%E4%BD%A0%E5%88%A5%E6%83%B3%E4%BA%86-050614720.html\"><u class=\"StretchedBox\" data-reactid=\"161\"></u><!-- react-text: 162 -->請CEO女婿裝潢「結果超慘」　吳宗憲怒吼：我女兒你別想了<!-- /react-text --></a></h3><p class=\"Mt(12px) Lh(1.4) Fz(16px) C($c-fuji-grey-l) LineClamp(2,44px) M(0)\" data-reactid=\"163\">綜藝天王吳宗憲的長女吳姍儒（Sandy）即將在明年1月29日嫁給職業是室內設計師的CEO男友，近期兩人在主持的節目中談及「經濟大權到底誰做主？老公跟老婆由誰說了算？！」話題，吳宗憲和來賓聊到他和準女婿說「這裡有案子幫我裝潢一下」，豈料對方回應「我想一下」，讓他當場氣炸。</p></div></div>,\n",
       " <div class=\"Cf\" data-reactid=\"166\"><div class=\"Fl(start) Pos(r) Mt(2px) W(26.5%) Maw(220px)\" data-reactid=\"167\"><div class=\"H(0) Ov(h) Bdrs(2px)\" data-reactid=\"168\" style=\"padding-bottom:56%;\"><img alt=\"\" class=\"JsEnabled_Op(0) JsEnabled_Bg(n) Trsdu(.42s) Bgr(nr) Bgz(cv) W(100%) Trsdu(0s)! Bdrs(2px)\" data-reactid=\"169\" src=\"https://s.yimg.com/g/images/spaceball.gif\" style=\"background-image:url(https://s.yimg.com/uu/api/res/1.2/ETD1aS_rASzPY_cJLdZ3Cg--~B/Zmk9c3RyaW07aD0xMjM7cT04MDt3PTIyMDthcHBpZD15dGFjaHlvbg--/https://s.yimg.com/uu/api/res/1.2/M_i77vSTpA3pTetyf5UGQw--~B/aD00NTA7dz04MDA7YXBwaWQ9eXRhY2h5b24-/https://media.zenfs.com/zh-tw/mirrormedia.mg/ef5dd989c132a9dea2448813fec7cf49.cf.jpg);\"/></div></div><div class=\"Ov(h) Pend(44px) Pstart(25px)\" data-reactid=\"170\"><div class=\"C(#959595) Fz(13px) C($c-fuji-grey-f)! D(ib) Mb(6px)\" data-reactid=\"171\">鏡週刊Mirror Media</div><h3 class=\"Mb(5px)\" data-reactid=\"172\"><a class=\"C($c-fuji-grey-l) Fw(b) Fz(20px) Lh(23px) LineClamp(2,46px) Fz(17px)--sm1024 Lh(19px)--sm1024 LineClamp(2,38px)--sm1024 mega-item-header-link Td(n) C(#0078ff):h C(#000) LineClamp(2,46px) LineClamp(2,38px)--sm1024 not-isInStreamVideoEnabled\" data-reactid=\"173\" href=\"/%E7%8E%8B%E5%BF%85%E5%8B%9D%E7%88%86%E4%B8%8D%E5%80%AB%E6%88%80-%E7%8E%8B%E5%BF%85%E5%8B%9D%E6%92%87%E5%A9%9A%E5%A4%96%E6%83%85%E7%A8%B1%E8%80%81%E5%90%8C%E4%BA%8B-%E7%9F%B3%E5%B4%87%E8%89%AF%E5%9D%A6%E8%A8%80%E5%9A%87%E5%88%B0%E4%BA%86-023348184.html\"><u class=\"StretchedBox\" data-reactid=\"174\"></u><!-- react-text: 175 -->【王必勝爆不倫戀】王必勝撇婚外情稱老同事　石崇良坦言嚇到了<!-- /react-text --></a></h3><p class=\"Mt(12px) Lh(1.4) Fz(16px) C($c-fuji-grey-l) LineClamp(2,44px) M(0)\" data-reactid=\"176\">衛福部醫福會執行長王必勝被本刊拍到1個月9次，前往小他15歲的女護理師住處探視或載護理師母女出遊，深陷不倫風暴的他否認婚外情，強調小孩是護理師與前男友所生，以及自己與太太感情很好。對此，衛福部次長石崇良聽聞後坦言嚇到了，不過並不清楚王的私事。</p></div></div>,\n",
       " <div class=\"Cf\" data-reactid=\"179\"><div class=\"Fl(start) Pos(r) Mt(2px) W(26.5%) Maw(220px)\" data-reactid=\"180\"><div class=\"H(0) Ov(h) Bdrs(2px)\" data-reactid=\"181\" style=\"padding-bottom:56%;\"><img alt=\"\" class=\"JsEnabled_Op(0) JsEnabled_Bg(n) Trsdu(.42s) Bgr(nr) Bgz(cv) W(100%) Trsdu(0s)! Bdrs(2px)\" data-reactid=\"182\" src=\"https://s.yimg.com/g/images/spaceball.gif\" style=\"background-image:url(https://s.yimg.com/uu/api/res/1.2/0lkvelqbDnGTRSo9iiqoNQ--~B/Zmk9c3RyaW07aD0xMjM7cT04MDt3PTIyMDthcHBpZD15dGFjaHlvbg--/https://s.yimg.com/uu/api/res/1.2/EOlZalz56dOadhHULujTBg--~B/aD00MDA7dz02MDA7YXBwaWQ9eXRhY2h5b24-/https://media.zenfs.com/ko/stormmediagroup.com/66eba2b84d7015709345439a45d47fa8.cf.jpg);\"/></div></div><div class=\"Ov(h) Pend(44px) Pstart(25px)\" data-reactid=\"183\"><div class=\"C(#959595) Fz(13px) C($c-fuji-grey-f)! D(ib) Mb(6px)\" data-reactid=\"184\">風傳媒</div><h3 class=\"Mb(5px)\" data-reactid=\"185\"><a class=\"C($c-fuji-grey-l) Fw(b) Fz(20px) Lh(23px) LineClamp(2,46px) Fz(17px)--sm1024 Lh(19px)--sm1024 LineClamp(2,38px)--sm1024 mega-item-header-link Td(n) C(#0078ff):h C(#000) LineClamp(2,46px) LineClamp(2,38px)--sm1024 not-isInStreamVideoEnabled\" data-reactid=\"186\" href=\"/%E7%8F%BE%E5%AF%A6%E7%9A%84%E9%A2%A8%E5%90%91%E5%8F%88%E8%AE%8A%E4%BA%86-%E5%90%B3%E5%AD%90%E5%98%89%E9%A9%9A-%E5%9C%8B%E6%B0%91%E9%BB%A8%E9%86%92%E4%BA%86-%E5%85%AC%E6%8A%95-%E5%AE%9A%E9%81%8E%E5%A5%BD%E5%B9%BE%E5%80%8B-032028464.html\"><u class=\"StretchedBox\" data-reactid=\"187\"></u><!-- react-text: 188 -->現實的風向又變了？吳子嘉驚「國民黨醒了」：公投一定過好幾個<!-- /react-text --></a></h3><p class=\"Mt(12px) Lh(1.4) Fz(16px) C($c-fuji-grey-l) LineClamp(2,44px) M(0)\" data-reactid=\"189\">台灣基進立委陳柏惟罷免案23日通過，由於同意、不同意票僅相差4466票，近日正式被民進黨開除黨籍的美麗島電子報董事長吳子嘉，昨（25）...</p></div></div>,\n",
       " <div class=\"Cf\" data-reactid=\"192\"><div class=\"Fl(start) Pos(r) Mt(2px) W(26.5%) Maw(220px)\" data-reactid=\"193\"><div class=\"H(0) Ov(h) Bdrs(2px)\" data-reactid=\"194\" style=\"padding-bottom:56%;\"><img alt=\"\" class=\"JsEnabled_Op(0) JsEnabled_Bg(n) Trsdu(.42s) Bgr(nr) Bgz(cv) W(100%) Trsdu(0s)! Bdrs(2px)\" data-reactid=\"195\" src=\"https://s.yimg.com/g/images/spaceball.gif\" style=\"background-image:url(https://s.yimg.com/uu/api/res/1.2/DQIm7kWrlgWPewX4sg2LQQ--~B/Zmk9c3RyaW07aD0xMjM7cT04MDt3PTIyMDthcHBpZD15dGFjaHlvbg--/https://s.yimg.com/os/creatr-uploaded-images/2021-10/fda24ea0-30b1-11ec-befb-52b931ade14e.cf.jpg);\"/></div></div><div class=\"Ov(h) Pend(44px) Pstart(25px)\" data-reactid=\"196\"><div class=\"C(#959595) Fz(13px) C($c-fuji-grey-f)! D(ib) Mb(6px)\" data-reactid=\"197\">Yahoo奇摩（即時新聞）</div><h3 class=\"Mb(5px)\" data-reactid=\"198\"><a class=\"C($c-fuji-grey-l) Fw(b) Fz(20px) Lh(23px) LineClamp(2,46px) Fz(17px)--sm1024 Lh(19px)--sm1024 LineClamp(2,38px)--sm1024 mega-item-header-link Td(n) C(#0078ff):h C(#000) LineClamp(2,46px) LineClamp(2,38px)--sm1024 not-isInStreamVideoEnabled\" data-reactid=\"199\" href=\"/%E5%BF%AB%E5%B0%8D%E8%BA%AB%E5%88%86%E8%AD%89%EF%BC%81i%E5%8E%9F%E5%88%B8%E7%AC%AC-3-%E6%B3%A2%E6%8A%BD%E7%8D%8E%E5%87%BA%E7%88%90-074723327.html\"><u class=\"StretchedBox\" data-reactid=\"200\"></u><!-- react-text: 201 -->快對身分證！i原券第3波抽獎出爐<!-- /react-text --></a></h3><p class=\"Mt(12px) Lh(1.4) Fz(16px) C($c-fuji-grey-l) LineClamp(2,44px) M(0)\" data-reactid=\"202\">原住民族委員會規劃的1000元i原券今天抽出第3批幸運得主，中籤者為身分證後2碼為48、49的民眾，共2萬7216名，中籤者將於明天早上收到簡訊通知，或可上五倍券官網查詢。</p></div></div>,\n",
       " <div class=\"Cf\" data-reactid=\"205\"><div class=\"Fl(start) Pos(r) Mt(2px) W(26.5%) Maw(220px)\" data-reactid=\"206\"><div class=\"H(0) Ov(h) Bdrs(2px)\" data-reactid=\"207\" style=\"padding-bottom:56%;\"><img alt=\"\" class=\"JsEnabled_Op(0) JsEnabled_Bg(n) Trsdu(.42s) Bgr(nr) Bgz(cv) W(100%) Trsdu(0s)! Bdrs(2px)\" data-reactid=\"208\" src=\"https://s.yimg.com/g/images/spaceball.gif\" style=\"background-image:url(https://s.yimg.com/uu/api/res/1.2/giWN8b3v2td3Dak9eI2maA--~B/Zmk9c3RyaW07aD0xMjM7cT04MDt3PTIyMDthcHBpZD15dGFjaHlvbg--/https://s.yimg.com/uu/api/res/1.2/KGdE_LwPlUCy4YewtnDcQA--~B/aD00NTI7dz04NTg7YXBwaWQ9eXRhY2h5b24-/https://media.zenfs.com/ko/ctwant_com_582/bec66e55a18e55ca35baf4d10e4b1ef3.cf.jpg);\"/></div></div><div class=\"Ov(h) Pend(44px) Pstart(25px)\" data-reactid=\"209\"><div class=\"C(#959595) Fz(13px) C($c-fuji-grey-f)! D(ib) Mb(6px)\" data-reactid=\"210\">CTWANT</div><h3 class=\"Mb(5px)\" data-reactid=\"211\"><a class=\"C($c-fuji-grey-l) Fw(b) Fz(20px) Lh(23px) LineClamp(2,46px) Fz(17px)--sm1024 Lh(19px)--sm1024 LineClamp(2,38px)--sm1024 mega-item-header-link Td(n) C(#0078ff):h C(#000) LineClamp(2,46px) LineClamp(2,38px)--sm1024 not-isInStreamVideoEnabled\" data-reactid=\"212\" href=\"/%E6%98%94-%E5%8F%AF%E7%B1%B3%E5%B0%8F%E5%AD%90-%E9%9A%8A%E9%95%B7%E9%80%80%E5%9C%98%E6%88%90%E5%AD%B8%E9%9C%B8-%E8%B5%B4%E9%99%B8%E7%95%B6%E7%89%99%E9%86%AB%E6%8F%90-%E9%81%8E%E4%B8%962%E6%88%90%E5%93%A1-030358745.html\"><u class=\"StretchedBox\" data-reactid=\"213\"></u><!-- react-text: 214 -->昔「可米小子」隊長退團成學霸　赴陸當牙醫提「過世2成員」：想說對不起<!-- /react-text --></a></h3><p class=\"Mt(12px) Lh(1.4) Fz(16px) C($c-fuji-grey-l) LineClamp(2,44px) M(0)\" data-reactid=\"215\">[周刊王CTWANT]</p></div></div>,\n",
       " <div class=\"Cf\" data-reactid=\"218\"><div class=\"Fl(start) Pos(r) Mt(2px) W(26.5%) Maw(220px)\" data-reactid=\"219\"><div class=\"H(0) Ov(h) Bdrs(2px)\" data-reactid=\"220\" style=\"padding-bottom:56%;\"><img alt=\"\" class=\"JsEnabled_Op(0) JsEnabled_Bg(n) Trsdu(.42s) Bgr(nr) Bgz(cv) W(100%) Trsdu(0s)! Bdrs(2px)\" data-reactid=\"221\" src=\"https://s.yimg.com/g/images/spaceball.gif\" style=\"background-image:url(https://s.yimg.com/uu/api/res/1.2/QGzUiCU9ibYl7nmAoYhmEA--~B/Zmk9c3RyaW07aD0xMjM7cT04MDt3PTIyMDthcHBpZD15dGFjaHlvbg--/https://s.yimg.com/uu/api/res/1.2/ov6JOLSEBcxK9yTLBm_1pg--~B/aD01OTY7dz0xMDYwO2FwcGlkPXl0YWNoeW9u/https://media.zenfs.com/ko/news_tvbs_com_tw_938/6b60d97ae744bd60f86ad3d1cf2ef3e8.cf.jpg);\"/></div></div><div class=\"Ov(h) Pend(44px) Pstart(25px)\" data-reactid=\"222\"><div class=\"C(#959595) Fz(13px) C($c-fuji-grey-f)! D(ib) Mb(6px)\" data-reactid=\"223\">TVBS新聞網</div><h3 class=\"Mb(5px)\" data-reactid=\"224\"><a class=\"C($c-fuji-grey-l) Fw(b) Fz(20px) Lh(23px) LineClamp(2,46px) Fz(17px)--sm1024 Lh(19px)--sm1024 LineClamp(2,38px)--sm1024 mega-item-header-link Td(n) C(#0078ff):h C(#000) LineClamp(2,46px) LineClamp(2,38px)--sm1024 not-isInStreamVideoEnabled\" data-reactid=\"225\" href=\"/%E5%A5%B3%E5%8F%8B%E6%98%94%E8%A8%AD%E5%B1%80%E5%81%B7%E6%88%BF%E7%94%A2-%E9%99%B3%E7%82%BA%E6%B0%91-%E5%A4%9C%E7%A0%B4%E7%94%A2-%E8%B2%A0%E5%82%B5%E6%AC%A0%E8%90%AC-%E6%B5%81%E8%90%BD%E8%A1%97%E9%A0%AD-044115215.html\"><u class=\"StretchedBox\" data-reactid=\"226\"></u><!-- react-text: 227 -->女友昔設局偷房產！陳為民一夜破產「負債千萬」流落街頭<!-- /react-text --></a></h3><p class=\"Mt(12px) Lh(1.4) Fz(16px) C($c-fuji-grey-l) LineClamp(2,44px) M(0)\" data-reactid=\"228\">57歲資深藝人陳為民曾有一段婚姻，因前妻結婚1年多就出軌，他也心死談離婚。除了這段婚姻，陳為民近日也自爆，曾被一名女友設局，房產竟被轉移到對方名下，被迫搬離自己買的房子，整晚流落街頭，且卡債、房債等讓他負債千萬元，當時無收入的他幾乎來到破產地步，苦苦償還整整4年才脫離苦海。</p></div></div>,\n",
       " <div class=\"Cf\" data-reactid=\"231\"><div class=\"Fl(start) Pos(r) Mt(2px) W(26.5%) Maw(220px)\" data-reactid=\"232\"><div class=\"H(0) Ov(h) Bdrs(2px)\" data-reactid=\"233\" style=\"padding-bottom:56%;\"><img alt=\"\" class=\"JsEnabled_Op(0) JsEnabled_Bg(n) Trsdu(.42s) Bgr(nr) Bgz(cv) W(100%) Trsdu(0s)! Bdrs(2px)\" data-reactid=\"234\" src=\"https://s.yimg.com/g/images/spaceball.gif\" style=\"background-image:url(https://s.yimg.com/uu/api/res/1.2/ua1NQ0ScTO4cGEDXjXEz_A--~B/Zmk9c3RyaW07aD0xMjM7cT04MDt3PTIyMDthcHBpZD15dGFjaHlvbg--/https://s.yimg.com/uu/api/res/1.2/Y1JDQhd51G13yYSf09enXg--~B/aD00NTI7dz04NTg7YXBwaWQ9eXRhY2h5b24-/https://media.zenfs.com/ko/ctwant_com_582/d0d07dca4678e702e6736377fcb2c9b3.cf.jpg);\"/></div></div><div class=\"Ov(h) Pend(44px) Pstart(25px)\" data-reactid=\"235\"><div class=\"C(#959595) Fz(13px) C($c-fuji-grey-f)! D(ib) Mb(6px)\" data-reactid=\"236\">CTWANT</div><h3 class=\"Mb(5px)\" data-reactid=\"237\"><a class=\"C($c-fuji-grey-l) Fw(b) Fz(20px) Lh(23px) LineClamp(2,46px) Fz(17px)--sm1024 Lh(19px)--sm1024 LineClamp(2,38px)--sm1024 mega-item-header-link Td(n) C(#0078ff):h C(#000) LineClamp(2,46px) LineClamp(2,38px)--sm1024 not-isInStreamVideoEnabled\" data-reactid=\"238\" href=\"/%E7%8E%8B%E5%BF%85%E5%8B%9D%E7%88%86%E4%B8%8D%E5%80%AB%E6%88%80-%E6%AD%A3%E5%AE%AE%E8%A2%AB%E8%B5%B7%E5%BA%95-%E6%A6%AE%E7%B8%BD%E7%BE%8E%E5%A5%B3%E9%86%AB%E5%B8%AB-%E5%8F%8B%E4%BA%BA-%E5%85%A9%E4%BA%BA%E9%97%9C%E4%BF%82%E5%BE%88%E9%9B%A3%E8%AA%AA-070248065.html\"><u class=\"StretchedBox\" data-reactid=\"239\"></u><!-- react-text: 240 -->王必勝爆不倫戀！正宮被起底「榮總美女醫師」　友人：「兩人關係很難說」<!-- /react-text --></a></h3><p class=\"Mt(12px) Lh(1.4) Fz(16px) C($c-fuji-grey-l) LineClamp(2,44px) M(0)\" data-reactid=\"241\">[周刊王CTWANT]</p></div></div>,\n",
       " <div class=\"Cf\" data-reactid=\"244\"><div class=\"Fl(start) Pos(r) Mt(2px) W(26.5%) Maw(220px)\" data-reactid=\"245\"><div class=\"H(0) Ov(h) Bdrs(2px)\" data-reactid=\"246\" style=\"padding-bottom:56%;\"><img alt=\"\" class=\"JsEnabled_Op(0) JsEnabled_Bg(n) Trsdu(.42s) Bgr(nr) Bgz(cv) W(100%) Trsdu(0s)! Bdrs(2px)\" data-reactid=\"247\" src=\"https://s.yimg.com/g/images/spaceball.gif\" style=\"background-image:url(https://s.yimg.com/uu/api/res/1.2/YK2SqH_ZnwK_EGvVpGSlgg--~B/Zmk9c3RyaW07aD0xMjM7cT04MDt3PTIyMDthcHBpZD15dGFjaHlvbg--/https://s.yimg.com/uu/api/res/1.2/FMEWXhNtD1L84X9770IBiw--~B/aD00Nzg7dz03NzI7YXBwaWQ9eXRhY2h5b24-/https://media.zenfs.com/ko/gotv_ctitv_com_tw_678/80733c100745bb74379c8d52d8ab662e.cf.jpg);\"/></div></div><div class=\"Ov(h) Pend(44px) Pstart(25px)\" data-reactid=\"248\"><div class=\"C(#959595) Fz(13px) C($c-fuji-grey-f)! D(ib) Mb(6px)\" data-reactid=\"249\">中天快點TV</div><h3 class=\"Mb(5px)\" data-reactid=\"250\"><a class=\"C($c-fuji-grey-l) Fw(b) Fz(20px) Lh(23px) LineClamp(2,46px) Fz(17px)--sm1024 Lh(19px)--sm1024 LineClamp(2,38px)--sm1024 mega-item-header-link Td(n) C(#0078ff):h C(#000) LineClamp(2,46px) LineClamp(2,38px)--sm1024 not-isInStreamVideoEnabled\" data-reactid=\"251\" href=\"/%E8%80%81%E5%85%AC%E8%B9%B2%E7%89%A2%E5%8E%BB-%E9%99%B3%E5%B9%B8%E5%A6%A4%E9%96%8B%E8%B3%A3-%E5%8F%B0%E4%B8%AD%E8%B1%AA%E5%AE%85-%E9%96%8B%E5%83%B91-08%E5%84%84%E5%85%83-102532230.html\"><u class=\"StretchedBox\" data-reactid=\"252\"></u><!-- react-text: 253 -->老公蹲牢去！陳幸妤開賣「台中豪宅」開價1.08億元<!-- /react-text --></a></h3><p class=\"Mt(12px) Lh(1.4) Fz(16px) C($c-fuji-grey-l) LineClamp(2,44px) M(0)\" data-reactid=\"254\">記者許元馨／綜合報導 前總統陳水扁女婿趙建銘因台開炒股案，日前遭法院判處3年8月徒刑定讞，妻子陳幸妤10年前在 [...]</p></div></div>,\n",
       " <div class=\"Cf\" data-reactid=\"257\"><div class=\"Fl(start) Pos(r) Mt(2px) W(26.5%) Maw(220px)\" data-reactid=\"258\"><div class=\"H(0) Ov(h) Bdrs(2px)\" data-reactid=\"259\" style=\"padding-bottom:56%;\"><img alt=\"\" class=\"JsEnabled_Op(0) JsEnabled_Bg(n) Trsdu(.42s) Bgr(nr) Bgz(cv) W(100%) Trsdu(0s)! Bdrs(2px)\" data-reactid=\"260\" src=\"https://s.yimg.com/g/images/spaceball.gif\" style=\"background-image:url(https://s.yimg.com/uu/api/res/1.2/BIgz41JoV_CIs_Mm4x3iRQ--~B/Zmk9c3RyaW07aD0xMjM7cT04MDt3PTIyMDthcHBpZD15dGFjaHlvbg--/https://s.yimg.com/uu/api/res/1.2/NH84rnI.j9_cCb0wWHmz0g--~B/aD01NzE7dz04MDA7YXBwaWQ9eXRhY2h5b24-/http://media.zenfs.com/en/homerun/feed_manager_auto_publish_494/289081d81ffae55e0f52dcb0e7d9c8c7.cf.jpg);\"/></div></div><div class=\"Ov(h) Pend(44px) Pstart(25px)\" data-reactid=\"261\"><div class=\"C(#959595) Fz(13px) C($c-fuji-grey-f)! D(ib) Mb(6px)\" data-reactid=\"262\">Yahoo奇摩（即時新聞）</div><h3 class=\"Mb(5px)\" data-reactid=\"263\"><a class=\"C($c-fuji-grey-l) Fw(b) Fz(20px) Lh(23px) LineClamp(2,46px) Fz(17px)--sm1024 Lh(19px)--sm1024 LineClamp(2,38px)--sm1024 mega-item-header-link Td(n) C(#0078ff):h C(#000) LineClamp(2,46px) LineClamp(2,38px)--sm1024 not-isInStreamVideoEnabled\" data-reactid=\"264\" href=\"/%E8%B6%99%E5%BB%BA%E9%8A%98%E6%98%A8%E5%85%A5%E7%9B%A3%E6%9C%8D%E5%88%91%EF%BC%81%E8%88%87%E8%A9%90%E6%AC%BA%E7%8A%AF%E5%90%8C%E6%88%BF-%E9%9A%94%E9%9B%A2-14-%E5%A4%A9%E5%BE%8C%E9%80%B2%E5%B7%A5%E5%A0%B4%E4%BD%9C%E6%A5%AD-033107029.html\"><u class=\"StretchedBox\" data-reactid=\"265\"></u><!-- react-text: 266 -->趙建銘入監與詐欺犯同房 隔離14天後進工場作業<!-- /react-text --></a></h3><p class=\"Mt(12px) Lh(1.4) Fz(16px) C($c-fuji-grey-l) LineClamp(2,44px) M(0)\" data-reactid=\"267\">前總統陳水扁女婿趙建銘因台開案遭判刑3年8月定讞，昨天發監到台中監獄執行。台中監獄今天表示，趙建銘入監後狀況穩定，因COVID-19（2019冠狀病毒疾病）疫情僅能待在舍房，隔離14天後才能到工場作業。</p></div></div>,\n",
       " <div class=\"Cf\" data-reactid=\"270\"><div class=\"Fl(start) Pos(r) Mt(2px) W(26.5%) Maw(220px)\" data-reactid=\"271\"><div class=\"H(0) Ov(h) Bdrs(2px)\" data-reactid=\"272\" style=\"padding-bottom:56%;\"><img alt=\"\" class=\"JsEnabled_Op(0) JsEnabled_Bg(n) Trsdu(.42s) Bgr(nr) Bgz(cv) W(100%) Trsdu(0s)! Bdrs(2px)\" data-reactid=\"273\" src=\"https://s.yimg.com/g/images/spaceball.gif\" style=\"background-image:url(https://s.yimg.com/uu/api/res/1.2/2F2jThvQCwpehLHnd.0XJg--~B/Zmk9c3RyaW07aD0xMjM7cT04MDt3PTIyMDthcHBpZD15dGFjaHlvbg--/https://s.yimg.com/uu/api/res/1.2/KM4xMJo3grhjNv6XiE4bdA--~B/aD05MTM7dz0xMjc5O2FwcGlkPXl0YWNoeW9u/https://media.zenfs.com/ko/udn.com/7880f0d029f7734fd0490e6b3df6e0b4.cf.jpg);\"/></div></div><div class=\"Ov(h) Pend(44px) Pstart(25px)\" data-reactid=\"274\"><div class=\"C(#959595) Fz(13px) C($c-fuji-grey-f)! D(ib) Mb(6px)\" data-reactid=\"275\">聯合新聞網</div><h3 class=\"Mb(5px)\" data-reactid=\"276\"><a class=\"C($c-fuji-grey-l) Fw(b) Fz(20px) Lh(23px) LineClamp(2,46px) Fz(17px)--sm1024 Lh(19px)--sm1024 LineClamp(2,38px)--sm1024 mega-item-header-link Td(n) C(#0078ff):h C(#000) LineClamp(2,46px) LineClamp(2,38px)--sm1024 not-isInStreamVideoEnabled\" data-reactid=\"277\" href=\"/%E8%8F%AF%E7%88%BE%E8%A1%97%E6%97%A5%E5%A0%B1-%E5%8F%B0%E7%81%A3%E8%BB%8D%E5%8A%9B%E4%B8%8D%E8%B6%B3-%E5%A3%AB%E6%B0%A3%E4%BD%8E%E8%90%BD-%E9%9B%A3%E8%88%87%E4%B8%AD%E5%9C%8B-%E6%88%B0-221414566.html\"><u class=\"StretchedBox\" data-reactid=\"278\"></u><!-- react-text: 279 -->華爾街日報：台灣軍力不足 士氣低落 難與中國一戰<!-- /react-text --></a></h3><p class=\"Mt(12px) Lh(1.4) Fz(16px) C($c-fuji-grey-l) LineClamp(2,44px) M(0)\" data-reactid=\"280\">華爾街日報25日報導，擔心中國採取行動攻占台灣的疑雲一直困擾美國軍事計畫者及行政官員，但其中很少人認為台灣軍力對此有一戰...</p></div></div>,\n",
       " <div class=\"Cf\" data-reactid=\"283\"><div class=\"Fl(start) Pos(r) Mt(2px) W(26.5%) Maw(220px)\" data-reactid=\"284\"><div class=\"H(0) Ov(h) Bdrs(2px)\" data-reactid=\"285\" style=\"padding-bottom:56%;\"><img alt=\"\" class=\"JsEnabled_Op(0) JsEnabled_Bg(n) Trsdu(.42s) Bgr(nr) Bgz(cv) W(100%) Trsdu(0s)! Bdrs(2px)\" data-reactid=\"286\" src=\"https://s.yimg.com/g/images/spaceball.gif\" style=\"background-image:url(https://s.yimg.com/uu/api/res/1.2/vysviCPJZEfjz_aATUh28Q--~B/Zmk9c3RyaW07aD0xMjM7cT04MDt3PTIyMDthcHBpZD15dGFjaHlvbg--/https://s.yimg.com/uu/api/res/1.2/x1kh3RN6LVpSCM_0tDLEaw--~B/aD02NzU7dz0xMjAwO2FwcGlkPXl0YWNoeW9u/https://media.zenfs.com/zh-tw/ebc.net.tw/f2f33c1ffdb68c8b22421d27146fafa4.cf.jpg);\"/></div></div><div class=\"Ov(h) Pend(44px) Pstart(25px)\" data-reactid=\"287\"><div class=\"C(#959595) Fz(13px) C($c-fuji-grey-f)! D(ib) Mb(6px)\" data-reactid=\"288\">EBC東森新聞</div><h3 class=\"Mb(5px)\" data-reactid=\"289\"><a class=\"C($c-fuji-grey-l) Fw(b) Fz(20px) Lh(23px) LineClamp(2,46px) Fz(17px)--sm1024 Lh(19px)--sm1024 LineClamp(2,38px)--sm1024 mega-item-header-link Td(n) C(#0078ff):h C(#000) LineClamp(2,46px) LineClamp(2,38px)--sm1024 not-isInStreamVideoEnabled\" data-reactid=\"290\" href=\"/%E5%A5%B3%E5%A4%A7%E7%94%9F%E6%89%93bnt-7%E5%A4%A9%E5%BE%8C%E5%87%BA%E7%8F%BE-2%E5%89%AF%E4%BD%9C%E7%94%A8-%E5%B4%A9%E6%BD%B0%E6%B1%82%E6%95%91-070500820.html\"><u class=\"StretchedBox\" data-reactid=\"291\"></u><!-- react-text: 292 -->女大生打BNT！7天後出現「2副作用」崩潰求救<!-- /react-text --></a></h3><p class=\"Mt(12px) Lh(1.4) Fz(16px) C($c-fuji-grey-l) LineClamp(2,44px) M(0)\" data-reactid=\"293\">國內疫苗持續進行施打，其中BNT疫苗也進入了全年齡接種，不過不少民眾都擔心施打疫苗會出現不良的反應，就有名女大生表示，自己施打完BNT一周後，突出現嚴重掉髮的症狀，不少人看到後急</p></div></div>]"
      ]
     },
     "execution_count": 9,
     "metadata": {},
     "output_type": "execute_result"
    }
   ],
   "source": [
    "datas=soup.find_all('div',class_='Cf')\n",
    "datas"
   ]
  },
  {
   "cell_type": "code",
   "execution_count": 10,
   "id": "c7ddbe3a",
   "metadata": {},
   "outputs": [
    {
     "name": "stdout",
     "output_type": "stream",
     "text": [
      "1.【王必勝爆不倫戀】曖昧小15歲護理師　「抗疫英雄」王必勝親密3人出遊直擊\n",
      "https://tw.yahoo.com/%E7%8E%8B%E5%BF%85%E5%8B%9D%E7%88%86%E4%B8%8D%E5%80%AB%E6%88%80-%E6%9B%96%E6%98%A7%E5%B0%8F15%E6%AD%B2%E8%AD%B7%E7%90%86%E5%B8%AB-%E6%8A%97%E7%96%AB%E8%8B%B1%E9%9B%84-%E7%8E%8B%E5%BF%85%E5%8B%9D%E8%A6%AA%E5%AF%863%E4%BA%BA%E5%87%BA%E9%81%8A%E7%9B%B4%E6%93%8A-215859626.html\n",
      "https://s.yimg.com/uu/api/res/1.2/Dn7Ahm5juZyxZHa.8FecVg--~B/Zmk9c3RyaW07aD0xMjM7cT04MDt3PTIyMDthcHBpZD15dGFjaHlvbg--/https://s.yimg.com/uu/api/res/1.2/G6WaSgu3WJn8Suhvdt.FOg--~B/aD01MzA7dz04MDA7YXBwaWQ9eXRhY2h5b24-/https://media.zenfs.com/zh-tw/mirrormedia.mg/ca4ab13ebaa834cab58f90dc8ee56b5d.cf.jpg\n",
      "2.百元剪髮怎突然暴風消失？真相曝光\n",
      "https://tw.yahoo.com/%E7%99%BE%E5%85%83%E5%89%AA%E9%AB%AE%E6%80%8E%E7%AA%81%E7%84%B6%E6%9A%B4%E9%A2%A8%E6%B6%88%E5%A4%B1-%E7%9C%9F%E7%9B%B8%E6%9B%9D%E5%85%89-003100063.html\n",
      "https://s.yimg.com/uu/api/res/1.2/WqD7WoaJ8yFa0NlbMhQRrw--~B/Zmk9c3RyaW07aD0xMjM7cT04MDt3PTIyMDthcHBpZD15dGFjaHlvbg--/https://s.yimg.com/uu/api/res/1.2/.pMCnZKnLgSrH80fuf2byw--~B/aD0zNzA7dz02OTY7YXBwaWQ9eXRhY2h5b24-/https://media.zenfs.com/zh-tw/nownews.com/e1f850c44d38f4426eeaa3fcc273f1cb.cf.jpg\n",
      "3.馬祖女老師太犧牲！穿「特殊服裝」教人體構造\n",
      "https://tw.yahoo.com/%E9%A6%AC%E7%A5%96%E5%A5%B3%E8%80%81%E5%B8%AB%E5%A4%AA%E7%8A%A7%E7%89%B2-%E7%A9%BF-%E7%89%B9%E6%AE%8A%E6%9C%8D%E8%A3%9D-%E6%95%99%E4%BA%BA%E9%AB%94%E6%A7%8B%E9%80%A0-083826373.html\n",
      "https://s.yimg.com/uu/api/res/1.2/Jkk2ljvYJN64JgEeiVL_2A--~B/Zmk9c3RyaW07aD0xMjM7cT04MDt3PTIyMDthcHBpZD15dGFjaHlvbg--/https://s.yimg.com/uu/api/res/1.2/UxGck3f.xbIka8iULZWMUA--~B/aD0zNDM7dz02MDk7YXBwaWQ9eXRhY2h5b24-/https://media.zenfs.com/ko/ftvn.com.tw/ce0fccecddff5ce64d4ed31b294af5ef.cf.jpg\n",
      "4.文組生VS末代指考數甲! 誰能突破零分? ft.黃大謙、什麼意思、數感實驗室Numeracy Lab\n",
      "https://tw.yahoo.com/%E6%96%87%E7%B5%84%E7%94%9Fvs%E6%9C%AB%E4%BB%A3%E6%8C%87%E8%80%83%E6%95%B8%E7%94%B2-%E8%AA%B0%E8%83%BD%E7%AA%81%E7%A0%B4%E9%9B%B6%E5%88%86-ft-%E9%BB%83%E5%A4%A7%E8%AC%99-%E4%BB%80%E9%BA%BC%E6%84%8F%E6%80%9D-072212381.html\n",
      "https://s.yimg.com/g/images/spaceball.gif\n",
      "5.高端疫苗多到打不完「和郭董有關」？　名醫坦承：始料未及\n",
      "https://tw.yahoo.com/%E9%AB%98%E7%AB%AF%E7%96%AB%E8%8B%97%E5%A4%9A%E5%88%B0%E6%89%93%E4%B8%8D%E5%AE%8C-%E5%92%8C%E9%83%AD%E8%91%A3%E6%9C%89%E9%97%9C-%E5%90%8D%E9%86%AB%E5%9D%A6%E6%89%BF-%E5%A7%8B%E6%96%99%E6%9C%AA%E5%8F%8A-011545799.html\n",
      "https://s.yimg.com/g/images/spaceball.gif\n",
      "6.郭鑫改名暴瘦赴中國發展奪影帝　微博頻發文：期待早日統一\n",
      "https://tw.yahoo.com/%E9%83%AD%E9%91%AB%E6%94%B9%E5%90%8D%E6%9A%B4%E7%98%A6%E8%B5%B4%E4%B8%AD%E5%9C%8B%E7%99%BC%E5%B1%95%E5%A5%AA%E5%BD%B1%E5%B8%9D-%E5%BE%AE%E5%8D%9A%E9%A0%BB%E7%99%BC%E6%96%87-%E6%9C%9F%E5%BE%85%E6%97%A9%E6%97%A5%E7%B5%B1-235544123.html\n",
      "https://s.yimg.com/g/images/spaceball.gif\n",
      "7.【王必勝爆不倫戀4】深入疫情重災區拆彈　王必勝人生勝利組背景起底\n",
      "https://tw.yahoo.com/%E7%8E%8B%E5%BF%85%E5%8B%9D%E7%88%86%E4%B8%8D%E5%80%AB%E6%88%804-%E6%B7%B1%E5%85%A5%E7%96%AB%E6%83%85%E9%87%8D%E7%81%BD%E5%8D%80%E6%8B%86%E5%BD%88-%E7%8E%8B%E5%BF%85%E5%8B%9D%E4%BA%BA%E7%94%9F%E5%8B%9D%E5%88%A9%E7%B5%84%E8%83%8C%E6%99%AF%E8%B5%B7%E5%BA%95-215855037.html\n",
      "https://s.yimg.com/g/images/spaceball.gif\n"
     ]
    },
    {
     "ename": "AttributeError",
     "evalue": "'NoneType' object has no attribute 'get'",
     "output_type": "error",
     "traceback": [
      "\u001b[1;31m---------------------------------------------------------------------------\u001b[0m",
      "\u001b[1;31mAttributeError\u001b[0m                            Traceback (most recent call last)",
      "\u001b[1;32m<ipython-input-10-0e7f13b81ce7>\u001b[0m in \u001b[0;36m<module>\u001b[1;34m\u001b[0m\n\u001b[0;32m      4\u001b[0m     \u001b[0mtitle\u001b[0m\u001b[1;33m=\u001b[0m\u001b[0mdata\u001b[0m\u001b[1;33m.\u001b[0m\u001b[0mfind\u001b[0m\u001b[1;33m(\u001b[0m\u001b[1;34m'a'\u001b[0m\u001b[1;33m)\u001b[0m\u001b[1;33m.\u001b[0m\u001b[0mtext\u001b[0m\u001b[1;33m.\u001b[0m\u001b[0mstrip\u001b[0m\u001b[1;33m(\u001b[0m\u001b[1;33m)\u001b[0m\u001b[1;33m\u001b[0m\u001b[1;33m\u001b[0m\u001b[0m\n\u001b[0;32m      5\u001b[0m     \u001b[0mnews_url\u001b[0m\u001b[1;33m=\u001b[0m\u001b[1;34m\"https://tw.yahoo.com\"\u001b[0m\u001b[1;33m+\u001b[0m\u001b[0mdata\u001b[0m\u001b[1;33m.\u001b[0m\u001b[0mfind\u001b[0m\u001b[1;33m(\u001b[0m\u001b[1;34m'a'\u001b[0m\u001b[1;33m)\u001b[0m\u001b[1;33m.\u001b[0m\u001b[0mget\u001b[0m\u001b[1;33m(\u001b[0m\u001b[1;34m'href'\u001b[0m\u001b[1;33m)\u001b[0m\u001b[1;33m\u001b[0m\u001b[1;33m\u001b[0m\u001b[0m\n\u001b[1;32m----> 6\u001b[1;33m     \u001b[0mimage_url\u001b[0m\u001b[1;33m=\u001b[0m\u001b[0mdata\u001b[0m\u001b[1;33m.\u001b[0m\u001b[0mfind\u001b[0m\u001b[1;33m(\u001b[0m\u001b[1;34m'img'\u001b[0m\u001b[1;33m)\u001b[0m\u001b[1;33m.\u001b[0m\u001b[0mget\u001b[0m\u001b[1;33m(\u001b[0m\u001b[1;34m'src'\u001b[0m\u001b[1;33m)\u001b[0m\u001b[1;33m\u001b[0m\u001b[1;33m\u001b[0m\u001b[0m\n\u001b[0m\u001b[0;32m      7\u001b[0m \u001b[1;33m\u001b[0m\u001b[0m\n\u001b[0;32m      8\u001b[0m     \u001b[0mprint\u001b[0m\u001b[1;33m(\u001b[0m\u001b[1;34mf'{count+1}.{title}'\u001b[0m\u001b[1;33m)\u001b[0m\u001b[1;33m\u001b[0m\u001b[1;33m\u001b[0m\u001b[0m\n",
      "\u001b[1;31mAttributeError\u001b[0m: 'NoneType' object has no attribute 'get'"
     ]
    }
   ],
   "source": [
    "count=0\n",
    "news_list=[]\n",
    "for data in datas:\n",
    "    title=data.find('a').text.strip()\n",
    "    news_url=\"https://tw.yahoo.com\"+data.find('a').get('href')\n",
    "    image_url=data.find('img').get('src')\n",
    "    \n",
    "    print(f'{count+1}.{title}')\n",
    "    print(news_url)\n",
    "    print(image_url)\n",
    "    \n",
    "    news_list.append([title,news_url,image_url])\n",
    "    count+=1\n",
    "    \n",
    "news_list"
   ]
  },
  {
   "cell_type": "markdown",
   "id": "9e836fc4",
   "metadata": {},
   "source": [
    "## 儲存CSV格式"
   ]
  },
  {
   "cell_type": "code",
   "execution_count": 70,
   "id": "6d72480e",
   "metadata": {},
   "outputs": [],
   "source": [
    "import pandas as pd"
   ]
  },
  {
   "cell_type": "code",
   "execution_count": 74,
   "id": "85d3f588",
   "metadata": {
    "collapsed": true
   },
   "outputs": [
    {
     "data": {
      "text/html": [
       "<div>\n",
       "<style scoped>\n",
       "    .dataframe tbody tr th:only-of-type {\n",
       "        vertical-align: middle;\n",
       "    }\n",
       "\n",
       "    .dataframe tbody tr th {\n",
       "        vertical-align: top;\n",
       "    }\n",
       "\n",
       "    .dataframe thead th {\n",
       "        text-align: right;\n",
       "    }\n",
       "</style>\n",
       "<table border=\"1\" class=\"dataframe\">\n",
       "  <thead>\n",
       "    <tr style=\"text-align: right;\">\n",
       "      <th></th>\n",
       "      <th>title</th>\n",
       "      <th>url</th>\n",
       "      <th>image</th>\n",
       "    </tr>\n",
       "  </thead>\n",
       "  <tbody>\n",
       "    <tr>\n",
       "      <th>0</th>\n",
       "      <td>儀表板突亮「烏龜曬太陽」什麼意思？內行見狀驚：別開了</td>\n",
       "      <td>https://tw.yahoo.com/%E5%84%80%E8%A1%A8%E6%9D%...</td>\n",
       "      <td>https://s.yimg.com/uu/api/res/1.2/yrunLP8aRH8H...</td>\n",
       "    </tr>\n",
       "    <tr>\n",
       "      <th>1</th>\n",
       "      <td>工人不是人嗎？知名職人怒：這種案子一律不接　網鼓掌叫好</td>\n",
       "      <td>https://tw.yahoo.com/%E5%B7%A5%E4%BA%BA%E4%B8%...</td>\n",
       "      <td>https://s.yimg.com/uu/api/res/1.2/xFI2xtuGtuVu...</td>\n",
       "    </tr>\n",
       "    <tr>\n",
       "      <th>2</th>\n",
       "      <td>30醫護搶救新生兒　4張照網友哭了</td>\n",
       "      <td>https://tw.yahoo.com/30%E9%86%AB%E8%AD%B7%E6%9...</td>\n",
       "      <td>https://s.yimg.com/uu/api/res/1.2/JtKtoXz9KzJt...</td>\n",
       "    </tr>\n",
       "    <tr>\n",
       "      <th>3</th>\n",
       "      <td>老人團湧入飯店　台大教授吃一頓飯驚呆：見識到「台灣力」</td>\n",
       "      <td>https://tw.yahoo.com/%E8%80%81%E4%BA%BA%E5%9C%...</td>\n",
       "      <td>https://s.yimg.com/g/images/spaceball.gif</td>\n",
       "    </tr>\n",
       "    <tr>\n",
       "      <th>4</th>\n",
       "      <td>《戲說台灣》女星驚傳「腸爆裂」送加護病房！ 一度病危老公「堅決不簽放棄急救」</td>\n",
       "      <td>https://tw.yahoo.com/%E3%80%8A%E6%88%B2%E8%AA%...</td>\n",
       "      <td>https://s.yimg.com/g/images/spaceball.gif</td>\n",
       "    </tr>\n",
       "    <tr>\n",
       "      <th>5</th>\n",
       "      <td>別再讓她碰到水！救難人員送劉小妹上岸　鼻酸喊：回家了</td>\n",
       "      <td>https://tw.yahoo.com/%E5%88%A5%E5%86%8D%E8%AE%...</td>\n",
       "      <td>https://s.yimg.com/g/images/spaceball.gif</td>\n",
       "    </tr>\n",
       "    <tr>\n",
       "      <th>6</th>\n",
       "      <td>她嗆未婚夫「1桌不到3萬能看嗎」 網一面倒：可以分了！</td>\n",
       "      <td>https://tw.yahoo.com/%E5%A5%B9%E5%97%86%E6%9C%...</td>\n",
       "      <td>https://s.yimg.com/g/images/spaceball.gif</td>\n",
       "    </tr>\n",
       "    <tr>\n",
       "      <th>7</th>\n",
       "      <td>公開阿滴TOEFL成績! 這支影片會讓你對托福改觀! ft.驚奇玩起來</td>\n",
       "      <td>https://tw.yahoo.com/%E5%85%AC%E9%96%8B%E9%98%...</td>\n",
       "      <td>https://s.yimg.com/g/images/spaceball.gif</td>\n",
       "    </tr>\n",
       "    <tr>\n",
       "      <th>8</th>\n",
       "      <td>同樣55元，3個月前跟3個月後是不一樣的！專家：當股票出現這2情況，代表它「死」得很透徹</td>\n",
       "      <td>https://tw.yahoo.com/%E5%90%8C%E6%A8%A355%E5%8...</td>\n",
       "      <td>https://s.yimg.com/g/images/spaceball.gif</td>\n",
       "    </tr>\n",
       "    <tr>\n",
       "      <th>9</th>\n",
       "      <td>縣市長滿意度大退7名 桃園人的鄭文燦，變成民進黨的鄭文燦？</td>\n",
       "      <td>https://tw.yahoo.com/%E7%B8%A3%E5%B8%82%E9%95%...</td>\n",
       "      <td>https://s.yimg.com/g/images/spaceball.gif</td>\n",
       "    </tr>\n",
       "    <tr>\n",
       "      <th>10</th>\n",
       "      <td>3寶爸外送顧家計　遭輾斃妻兒悲痛</td>\n",
       "      <td>https://tw.yahoo.com/3%E5%AF%B6%E7%88%B8%E5%A4...</td>\n",
       "      <td>https://s.yimg.com/g/images/spaceball.gif</td>\n",
       "    </tr>\n",
       "    <tr>\n",
       "      <th>11</th>\n",
       "      <td>境外＋2》指揮中心分身乏術「第4度」停開！羅一鈞「不想一人面對」的原因是...</td>\n",
       "      <td>https://tw.yahoo.com/%E5%A2%83%E5%A4%96-2-%E6%...</td>\n",
       "      <td>https://s.yimg.com/g/images/spaceball.gif</td>\n",
       "    </tr>\n",
       "    <tr>\n",
       "      <th>12</th>\n",
       "      <td>蘇慧倫見「兒子和女同學互動」自爆已不肯吻媽媽　感嘆：做婆婆的心情…</td>\n",
       "      <td>https://tw.yahoo.com/%E8%98%87%E6%85%A7%E5%80%...</td>\n",
       "      <td>https://s.yimg.com/g/images/spaceball.gif</td>\n",
       "    </tr>\n",
       "    <tr>\n",
       "      <th>13</th>\n",
       "      <td>日媒曝真子公主在紐約找到工作了　年收入三百萬做這件事</td>\n",
       "      <td>https://tw.yahoo.com/%E6%97%A5%E5%AA%92%E6%9B%...</td>\n",
       "      <td>https://s.yimg.com/g/images/spaceball.gif</td>\n",
       "    </tr>\n",
       "    <tr>\n",
       "      <th>14</th>\n",
       "      <td>妹妹快回家！劉爸爸攜「玩偶」赴虎豹潭梳子壩　盼奇蹟</td>\n",
       "      <td>https://tw.yahoo.com/%E5%A6%B9%E5%A6%B9%E5%BF%...</td>\n",
       "      <td>https://s.yimg.com/g/images/spaceball.gif</td>\n",
       "    </tr>\n",
       "    <tr>\n",
       "      <th>15</th>\n",
       "      <td>雙溪虎豹潭落水失蹤 8歲女童事發地18公里下游尋獲遺體</td>\n",
       "      <td>https://tw.yahoo.com/%E9%9B%99%E6%BA%AA%E8%99%...</td>\n",
       "      <td>https://s.yimg.com/g/images/spaceball.gif</td>\n",
       "    </tr>\n",
       "    <tr>\n",
       "      <th>16</th>\n",
       "      <td>陳時中：規畫第13輪開放AZ混打BNT</td>\n",
       "      <td>https://tw.yahoo.com/%E9%82%8A%E5%A2%83%E4%BD%...</td>\n",
       "      <td>https://s.yimg.com/g/images/spaceball.gif</td>\n",
       "    </tr>\n",
       "    <tr>\n",
       "      <th>17</th>\n",
       "      <td>不平等的通膨 荷包保衛全攻略》K型風暴來了！富者越富、貧者越貧</td>\n",
       "      <td>https://tw.yahoo.com/%E4%B8%8D%E5%B9%B3%E7%AD%...</td>\n",
       "      <td>https://s.yimg.com/g/images/spaceball.gif</td>\n",
       "    </tr>\n",
       "    <tr>\n",
       "      <th>18</th>\n",
       "      <td>網黑陳柏惟IP起底　中山大學回應了</td>\n",
       "      <td>https://tw.yahoo.com/%E7%B6%B2%E9%BB%91%E9%99%...</td>\n",
       "      <td>https://s.yimg.com/g/images/spaceball.gif</td>\n",
       "    </tr>\n",
       "    <tr>\n",
       "      <th>19</th>\n",
       "      <td>動滋券第二波幸運兒出爐 快對身分證號碼</td>\n",
       "      <td>https://tw.yahoo.com/%E5%8B%95%E6%BB%8B%E5%88%...</td>\n",
       "      <td>https://s.yimg.com/g/images/spaceball.gif</td>\n",
       "    </tr>\n",
       "  </tbody>\n",
       "</table>\n",
       "</div>"
      ],
      "text/plain": [
       "                                           title  \\\n",
       "0                     儀表板突亮「烏龜曬太陽」什麼意思？內行見狀驚：別開了   \n",
       "1                    工人不是人嗎？知名職人怒：這種案子一律不接　網鼓掌叫好   \n",
       "2                              30醫護搶救新生兒　4張照網友哭了   \n",
       "3                    老人團湧入飯店　台大教授吃一頓飯驚呆：見識到「台灣力」   \n",
       "4         《戲說台灣》女星驚傳「腸爆裂」送加護病房！ 一度病危老公「堅決不簽放棄急救」   \n",
       "5                     別再讓她碰到水！救難人員送劉小妹上岸　鼻酸喊：回家了   \n",
       "6                    她嗆未婚夫「1桌不到3萬能看嗎」 網一面倒：可以分了！   \n",
       "7            公開阿滴TOEFL成績! 這支影片會讓你對托福改觀! ft.驚奇玩起來   \n",
       "8   同樣55元，3個月前跟3個月後是不一樣的！專家：當股票出現這2情況，代表它「死」得很透徹   \n",
       "9                  縣市長滿意度大退7名 桃園人的鄭文燦，變成民進黨的鄭文燦？   \n",
       "10                              3寶爸外送顧家計　遭輾斃妻兒悲痛   \n",
       "11       境外＋2》指揮中心分身乏術「第4度」停開！羅一鈞「不想一人面對」的原因是...   \n",
       "12             蘇慧倫見「兒子和女同學互動」自爆已不肯吻媽媽　感嘆：做婆婆的心情…   \n",
       "13                    日媒曝真子公主在紐約找到工作了　年收入三百萬做這件事   \n",
       "14                     妹妹快回家！劉爸爸攜「玩偶」赴虎豹潭梳子壩　盼奇蹟   \n",
       "15                   雙溪虎豹潭落水失蹤 8歲女童事發地18公里下游尋獲遺體   \n",
       "16                           陳時中：規畫第13輪開放AZ混打BNT   \n",
       "17               不平等的通膨 荷包保衛全攻略》K型風暴來了！富者越富、貧者越貧   \n",
       "18                             網黑陳柏惟IP起底　中山大學回應了   \n",
       "19                           動滋券第二波幸運兒出爐 快對身分證號碼   \n",
       "\n",
       "                                                  url  \\\n",
       "0   https://tw.yahoo.com/%E5%84%80%E8%A1%A8%E6%9D%...   \n",
       "1   https://tw.yahoo.com/%E5%B7%A5%E4%BA%BA%E4%B8%...   \n",
       "2   https://tw.yahoo.com/30%E9%86%AB%E8%AD%B7%E6%9...   \n",
       "3   https://tw.yahoo.com/%E8%80%81%E4%BA%BA%E5%9C%...   \n",
       "4   https://tw.yahoo.com/%E3%80%8A%E6%88%B2%E8%AA%...   \n",
       "5   https://tw.yahoo.com/%E5%88%A5%E5%86%8D%E8%AE%...   \n",
       "6   https://tw.yahoo.com/%E5%A5%B9%E5%97%86%E6%9C%...   \n",
       "7   https://tw.yahoo.com/%E5%85%AC%E9%96%8B%E9%98%...   \n",
       "8   https://tw.yahoo.com/%E5%90%8C%E6%A8%A355%E5%8...   \n",
       "9   https://tw.yahoo.com/%E7%B8%A3%E5%B8%82%E9%95%...   \n",
       "10  https://tw.yahoo.com/3%E5%AF%B6%E7%88%B8%E5%A4...   \n",
       "11  https://tw.yahoo.com/%E5%A2%83%E5%A4%96-2-%E6%...   \n",
       "12  https://tw.yahoo.com/%E8%98%87%E6%85%A7%E5%80%...   \n",
       "13  https://tw.yahoo.com/%E6%97%A5%E5%AA%92%E6%9B%...   \n",
       "14  https://tw.yahoo.com/%E5%A6%B9%E5%A6%B9%E5%BF%...   \n",
       "15  https://tw.yahoo.com/%E9%9B%99%E6%BA%AA%E8%99%...   \n",
       "16  https://tw.yahoo.com/%E9%82%8A%E5%A2%83%E4%BD%...   \n",
       "17  https://tw.yahoo.com/%E4%B8%8D%E5%B9%B3%E7%AD%...   \n",
       "18  https://tw.yahoo.com/%E7%B6%B2%E9%BB%91%E9%99%...   \n",
       "19  https://tw.yahoo.com/%E5%8B%95%E6%BB%8B%E5%88%...   \n",
       "\n",
       "                                                image  \n",
       "0   https://s.yimg.com/uu/api/res/1.2/yrunLP8aRH8H...  \n",
       "1   https://s.yimg.com/uu/api/res/1.2/xFI2xtuGtuVu...  \n",
       "2   https://s.yimg.com/uu/api/res/1.2/JtKtoXz9KzJt...  \n",
       "3           https://s.yimg.com/g/images/spaceball.gif  \n",
       "4           https://s.yimg.com/g/images/spaceball.gif  \n",
       "5           https://s.yimg.com/g/images/spaceball.gif  \n",
       "6           https://s.yimg.com/g/images/spaceball.gif  \n",
       "7           https://s.yimg.com/g/images/spaceball.gif  \n",
       "8           https://s.yimg.com/g/images/spaceball.gif  \n",
       "9           https://s.yimg.com/g/images/spaceball.gif  \n",
       "10          https://s.yimg.com/g/images/spaceball.gif  \n",
       "11          https://s.yimg.com/g/images/spaceball.gif  \n",
       "12          https://s.yimg.com/g/images/spaceball.gif  \n",
       "13          https://s.yimg.com/g/images/spaceball.gif  \n",
       "14          https://s.yimg.com/g/images/spaceball.gif  \n",
       "15          https://s.yimg.com/g/images/spaceball.gif  \n",
       "16          https://s.yimg.com/g/images/spaceball.gif  \n",
       "17          https://s.yimg.com/g/images/spaceball.gif  \n",
       "18          https://s.yimg.com/g/images/spaceball.gif  \n",
       "19          https://s.yimg.com/g/images/spaceball.gif  "
      ]
     },
     "execution_count": 74,
     "metadata": {},
     "output_type": "execute_result"
    }
   ],
   "source": [
    "df=pd.DataFrame(news_list,columns=['title','url','image'])\n",
    "df"
   ]
  },
  {
   "cell_type": "code",
   "execution_count": 75,
   "id": "2e4dbcbb",
   "metadata": {},
   "outputs": [],
   "source": [
    "df.to_csv('yahoo-most-popular.csv',encoding='utf-8-sig')"
   ]
  },
  {
   "cell_type": "code",
   "execution_count": null,
   "id": "f489ccb8",
   "metadata": {},
   "outputs": [],
   "source": [
    " "
   ]
  }
 ],
 "metadata": {
  "kernelspec": {
   "display_name": "Python 3",
   "language": "python",
   "name": "python3"
  },
  "language_info": {
   "codemirror_mode": {
    "name": "ipython",
    "version": 3
   },
   "file_extension": ".py",
   "mimetype": "text/x-python",
   "name": "python",
   "nbconvert_exporter": "python",
   "pygments_lexer": "ipython3",
   "version": "3.8.8"
  }
 },
 "nbformat": 4,
 "nbformat_minor": 5
}
