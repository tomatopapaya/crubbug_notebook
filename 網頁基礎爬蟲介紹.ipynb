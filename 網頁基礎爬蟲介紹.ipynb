{
 "cells": [
  {
   "cell_type": "markdown",
   "id": "1d9db508",
   "metadata": {},
   "source": [
    "## 使用request 模組"
   ]
  },
  {
   "cell_type": "markdown",
   "id": "e7fb2617",
   "metadata": {},
   "source": [
    "- 使用get方法\n",
    "- response 200回應正常\n"
   ]
  },
  {
   "cell_type": "code",
   "execution_count": 1,
   "id": "e1895caa",
   "metadata": {},
   "outputs": [],
   "source": [
    "import requests"
   ]
  },
  {
   "cell_type": "code",
   "execution_count": 2,
   "id": "8430302b",
   "metadata": {},
   "outputs": [],
   "source": [
    "##url='http://www.yahoo.com.tw'\n",
    "url='https://0pyvhrv8owyldzd42nlz4q-on.drv.tw/html/test.html'"
   ]
  },
  {
   "cell_type": "code",
   "execution_count": 3,
   "id": "1d6d06ce",
   "metadata": {},
   "outputs": [],
   "source": [
    "resp=requests.get(url)\n",
    "resp.encoding = 'utf-8'"
   ]
  },
  {
   "cell_type": "code",
   "execution_count": 4,
   "id": "ce76a3e1",
   "metadata": {},
   "outputs": [
    {
     "data": {
      "text/plain": [
       "(<Response [200]>, requests.models.Response)"
      ]
     },
     "execution_count": 4,
     "metadata": {},
     "output_type": "execute_result"
    }
   ],
   "source": [
    "resp,type(resp)"
   ]
  },
  {
   "cell_type": "markdown",
   "id": "8a49e909",
   "metadata": {},
   "source": [
    "## 安裝bs4"
   ]
  },
  {
   "cell_type": "markdown",
   "id": "2cbc8e6a",
   "metadata": {},
   "source": [
    "- pip install bs4\n",
    "- bs4==>BeautifulSoup"
   ]
  },
  {
   "cell_type": "code",
   "execution_count": 5,
   "id": "88209c75",
   "metadata": {},
   "outputs": [],
   "source": [
    "from bs4 import BeautifulSoup"
   ]
  },
  {
   "cell_type": "code",
   "execution_count": 6,
   "id": "af1c1cd4",
   "metadata": {},
   "outputs": [
    {
     "data": {
      "text/plain": [
       "<!DOCTYPE html>\n",
       "<html lang=\"zh\">\n",
       "<head>\n",
       "<meta charset=\"utf-8\"/>\n",
       "<title>測試網頁</title>\n",
       "</head>\n",
       "<body>\n",
       "<h2>網頁標題</h2>\n",
       "<p>測試爬蟲及連結</p>\n",
       "<a href=\"https://www.yahoo.com.tw/\" id=\"link1\">Link 1</a>\n",
       "<a href=\"https://www.youtube.com/\" id=\"link2\">Link 2</a>\n",
       "<a href=\"https://www.sina.com.tw/\" id=\"link3\">Link 3</a>\n",
       "<p>Hello, <b class=\"boldtext\">Bold Text</b></p>\n",
       "<script async=\"\" src=\"https://drv.tw/inc/wd.js\"></script></body>\n",
       "</html>"
      ]
     },
     "execution_count": 6,
     "metadata": {},
     "output_type": "execute_result"
    }
   ],
   "source": [
    "    soup=BeautifulSoup(resp.text,'lxml')\n",
    "    soup"
   ]
  },
  {
   "cell_type": "code",
   "execution_count": 7,
   "id": "b24be630",
   "metadata": {},
   "outputs": [
    {
     "data": {
      "text/plain": [
       "bs4.BeautifulSoup"
      ]
     },
     "execution_count": 7,
     "metadata": {},
     "output_type": "execute_result"
    }
   ],
   "source": [
    "type(soup)"
   ]
  },
  {
   "cell_type": "code",
   "execution_count": 8,
   "id": "fd3d7eb1",
   "metadata": {},
   "outputs": [
    {
     "data": {
      "text/plain": [
       "<title>測試網頁</title>"
      ]
     },
     "execution_count": 8,
     "metadata": {},
     "output_type": "execute_result"
    }
   ],
   "source": [
    "soup.title"
   ]
  },
  {
   "cell_type": "code",
   "execution_count": 9,
   "id": "be28dcd2",
   "metadata": {},
   "outputs": [
    {
     "data": {
      "text/plain": [
       "'測試網頁'"
      ]
     },
     "execution_count": 9,
     "metadata": {},
     "output_type": "execute_result"
    }
   ],
   "source": [
    "soup.title.text"
   ]
  },
  {
   "cell_type": "code",
   "execution_count": 10,
   "id": "19119500",
   "metadata": {},
   "outputs": [
    {
     "data": {
      "text/plain": [
       "'網頁標題'"
      ]
     },
     "execution_count": 10,
     "metadata": {},
     "output_type": "execute_result"
    }
   ],
   "source": [
    "soup.h2.text"
   ]
  },
  {
   "cell_type": "markdown",
   "id": "864fdef8",
   "metadata": {},
   "source": [
    "### 單一查找，使用find"
   ]
  },
  {
   "cell_type": "code",
   "execution_count": 11,
   "id": "2987740e",
   "metadata": {},
   "outputs": [
    {
     "data": {
      "text/plain": [
       "(<a href=\"https://www.yahoo.com.tw/\" id=\"link1\">Link 1</a>, bs4.element.Tag)"
      ]
     },
     "execution_count": 11,
     "metadata": {},
     "output_type": "execute_result"
    }
   ],
   "source": [
    "link=soup.find('a')\n",
    "link,type(link)"
   ]
  },
  {
   "cell_type": "markdown",
   "id": "ffeba8ac",
   "metadata": {},
   "source": [
    "## str.strip()"
   ]
  },
  {
   "cell_type": "markdown",
   "id": "fe8ee484",
   "metadata": {},
   "source": [
    "- 去除字串前後的換行跟空白符號"
   ]
  },
  {
   "cell_type": "code",
   "execution_count": 12,
   "id": "06097824",
   "metadata": {},
   "outputs": [
    {
     "data": {
      "text/plain": [
       "'Link 1'"
      ]
     },
     "execution_count": 12,
     "metadata": {},
     "output_type": "execute_result"
    }
   ],
   "source": [
    "link.text.strip()"
   ]
  },
  {
   "cell_type": "markdown",
   "id": "abc223a3",
   "metadata": {},
   "source": [
    "### .get(屬性)"
   ]
  },
  {
   "cell_type": "code",
   "execution_count": 13,
   "id": "792707ed",
   "metadata": {},
   "outputs": [
    {
     "data": {
      "text/plain": [
       "<a href=\"https://www.yahoo.com.tw/\" id=\"link1\">Link 1</a>"
      ]
     },
     "execution_count": 13,
     "metadata": {},
     "output_type": "execute_result"
    }
   ],
   "source": [
    "link"
   ]
  },
  {
   "cell_type": "code",
   "execution_count": 14,
   "id": "5a2f7bd0",
   "metadata": {},
   "outputs": [
    {
     "data": {
      "text/plain": [
       "'https://www.yahoo.com.tw/'"
      ]
     },
     "execution_count": 14,
     "metadata": {},
     "output_type": "execute_result"
    }
   ],
   "source": [
    "link.get('href')"
   ]
  },
  {
   "cell_type": "markdown",
   "id": "ca10dda2",
   "metadata": {},
   "source": [
    "### 複數查找，使用find_all"
   ]
  },
  {
   "cell_type": "code",
   "execution_count": 15,
   "id": "22db0f92",
   "metadata": {},
   "outputs": [
    {
     "data": {
      "text/plain": [
       "[<a href=\"https://www.yahoo.com.tw/\" id=\"link1\">Link 1</a>,\n",
       " <a href=\"https://www.youtube.com/\" id=\"link2\">Link 2</a>,\n",
       " <a href=\"https://www.sina.com.tw/\" id=\"link3\">Link 3</a>]"
      ]
     },
     "execution_count": 15,
     "metadata": {},
     "output_type": "execute_result"
    }
   ],
   "source": [
    "ss=soup.find_all('a')\n",
    "ss"
   ]
  },
  {
   "cell_type": "code",
   "execution_count": 16,
   "id": "a69de78c",
   "metadata": {},
   "outputs": [
    {
     "name": "stdout",
     "output_type": "stream",
     "text": [
      "Link 1\n",
      "Link 2\n",
      "Link 3\n"
     ]
    }
   ],
   "source": [
    "for b in ss:\n",
    "    print(b.text)"
   ]
  },
  {
   "cell_type": "code",
   "execution_count": 17,
   "id": "14dc570e",
   "metadata": {},
   "outputs": [
    {
     "data": {
      "text/plain": [
       "'Link 3'"
      ]
     },
     "execution_count": 17,
     "metadata": {},
     "output_type": "execute_result"
    }
   ],
   "source": [
    "ss[2].text"
   ]
  },
  {
   "cell_type": "code",
   "execution_count": 18,
   "id": "7c335f5e",
   "metadata": {},
   "outputs": [
    {
     "name": "stdout",
     "output_type": "stream",
     "text": [
      "https://www.yahoo.com.tw/\n",
      "link1\n",
      "https://www.youtube.com/\n",
      "link2\n",
      "https://www.sina.com.tw/\n",
      "link3\n"
     ]
    }
   ],
   "source": [
    "for a in ss:\n",
    "    print (a.get('href'))\n",
    "    print (a['id'])\n",
    "    "
   ]
  },
  {
   "cell_type": "code",
   "execution_count": 19,
   "id": "e84f06be",
   "metadata": {},
   "outputs": [
    {
     "data": {
      "text/plain": [
       "[<a href=\"https://www.yahoo.com.tw/\" id=\"link1\">Link 1</a>,\n",
       " <a href=\"https://www.youtube.com/\" id=\"link2\">Link 2</a>,\n",
       " <a href=\"https://www.sina.com.tw/\" id=\"link3\">Link 3</a>,\n",
       " <b class=\"boldtext\">Bold Text</b>]"
      ]
     },
     "execution_count": 19,
     "metadata": {},
     "output_type": "execute_result"
    }
   ],
   "source": [
    "tags=soup.find_all(['a','b'])\n",
    "tags"
   ]
  },
  {
   "cell_type": "markdown",
   "id": "9ae8395f",
   "metadata": {},
   "source": [
    "## 使用id搜尋"
   ]
  },
  {
   "cell_type": "code",
   "execution_count": 115,
   "id": "85fb2c8e",
   "metadata": {},
   "outputs": [
    {
     "data": {
      "text/plain": [
       "<a href=\"https://www.yahoo.com.tw/\" id=\"link1\">Link 1</a>"
      ]
     },
     "execution_count": 115,
     "metadata": {},
     "output_type": "execute_result"
    }
   ],
   "source": [
    "link1_tag = soup.find(id=\"link1\")\n",
    "link1_tag"
   ]
  },
  {
   "cell_type": "code",
   "execution_count": 116,
   "id": "12b4fb3c",
   "metadata": {},
   "outputs": [],
   "source": [
    "link_tags=soup.find('a',href='http://www.yahoo.com.tw/')\n",
    "link_tags"
   ]
  },
  {
   "cell_type": "markdown",
   "id": "9cf0f027",
   "metadata": {},
   "source": [
    "## 練習"
   ]
  },
  {
   "cell_type": "code",
   "execution_count": 108,
   "id": "7053fc5f",
   "metadata": {},
   "outputs": [
    {
     "data": {
      "text/plain": [
       "'Link 2'"
      ]
     },
     "execution_count": 108,
     "metadata": {},
     "output_type": "execute_result"
    }
   ],
   "source": [
    "link=soup.find(id='link2')\n",
    "link.text"
   ]
  },
  {
   "cell_type": "code",
   "execution_count": 112,
   "id": "4b78ab7a",
   "metadata": {},
   "outputs": [
    {
     "data": {
      "text/plain": [
       "'https://www.youtube.com/'"
      ]
     },
     "execution_count": 112,
     "metadata": {},
     "output_type": "execute_result"
    }
   ],
   "source": [
    "(link['href'])"
   ]
  },
  {
   "cell_type": "code",
   "execution_count": 113,
   "id": "c84e2321",
   "metadata": {},
   "outputs": [
    {
     "data": {
      "text/plain": [
       "'https://www.youtube.com/'"
      ]
     },
     "execution_count": 113,
     "metadata": {},
     "output_type": "execute_result"
    }
   ],
   "source": [
    "link.get('href')"
   ]
  },
  {
   "cell_type": "markdown",
   "id": "e74e02e0",
   "metadata": {},
   "source": [
    "## 網頁"
   ]
  },
  {
   "cell_type": "code",
   "execution_count": 124,
   "id": "e6439a12",
   "metadata": {},
   "outputs": [],
   "source": [
    "import webbrowser"
   ]
  },
  {
   "cell_type": "code",
   "execution_count": 125,
   "id": "e92666cc",
   "metadata": {},
   "outputs": [
    {
     "data": {
      "text/plain": [
       "True"
      ]
     },
     "execution_count": 125,
     "metadata": {},
     "output_type": "execute_result"
    }
   ],
   "source": [
    "webbrowser.open(link.get('href'))"
   ]
  },
  {
   "cell_type": "markdown",
   "id": "a5c0a825",
   "metadata": {},
   "source": [
    "### class"
   ]
  },
  {
   "cell_type": "code",
   "execution_count": 134,
   "id": "a6a1eff2",
   "metadata": {},
   "outputs": [
    {
     "name": "stdout",
     "output_type": "stream",
     "text": [
      "[<b class=\"boldtext\">Bold Text</b>]\n"
     ]
    }
   ],
   "source": [
    "b_tag = soup.find_all('b', class_='boldtext')\n",
    "\n",
    "print(b_tag)"
   ]
  },
  {
   "cell_type": "code",
   "execution_count": 135,
   "id": "0f938165",
   "metadata": {},
   "outputs": [
    {
     "name": "stdout",
     "output_type": "stream",
     "text": [
      "<a href=\"https://www.sina.com.tw/\" id=\"link3\">Link 3</a>\n"
     ]
    }
   ],
   "source": [
    "print(soup.find(\"a\", string=\"Link 3\"))"
   ]
  },
  {
   "cell_type": "markdown",
   "id": "04954264",
   "metadata": {},
   "source": [
    "## 函數"
   ]
  },
  {
   "cell_type": "code",
   "execution_count": 136,
   "id": "081dee41",
   "metadata": {},
   "outputs": [],
   "source": [
    "def get_soup(url):\n",
    "    try:\n",
    "        resp=requests.get(url)\n",
    "        if resp.status_code==200:\n",
    "            resp.encoding='utf-8'\n",
    "            \n",
    "            return BeautifulSoup(resp.text,'lxml')\n",
    "        \n",
    "    except Exception  as e:\n",
    "        print(e)\n",
    "        \n",
    "    return None"
   ]
  },
  {
   "cell_type": "code",
   "execution_count": 140,
   "id": "793f7b97",
   "metadata": {},
   "outputs": [],
   "source": [
    "soup=get_soup(\"https://www.8891.com.tw\")\n"
   ]
  },
  {
   "cell_type": "code",
   "execution_count": 141,
   "id": "e8ae5bdf",
   "metadata": {},
   "outputs": [
    {
     "ename": "AttributeError",
     "evalue": "'NoneType' object has no attribute 'find'",
     "output_type": "error",
     "traceback": [
      "\u001b[1;31m---------------------------------------------------------------------------\u001b[0m",
      "\u001b[1;31mAttributeError\u001b[0m                            Traceback (most recent call last)",
      "\u001b[1;32m<ipython-input-141-83a0882da41e>\u001b[0m in \u001b[0;36m<module>\u001b[1;34m\u001b[0m\n\u001b[1;32m----> 1\u001b[1;33m \u001b[0msoup\u001b[0m\u001b[1;33m.\u001b[0m\u001b[0mfind\u001b[0m\u001b[1;33m(\u001b[0m\u001b[1;34m'u'\u001b[0m\u001b[1;33m)\u001b[0m\u001b[1;33m\u001b[0m\u001b[1;33m\u001b[0m\u001b[0m\n\u001b[0m",
      "\u001b[1;31mAttributeError\u001b[0m: 'NoneType' object has no attribute 'find'"
     ]
    }
   ],
   "source": []
  },
  {
   "cell_type": "code",
   "execution_count": null,
   "id": "07694425",
   "metadata": {},
   "outputs": [],
   "source": []
  }
 ],
 "metadata": {
  "kernelspec": {
   "display_name": "Python 3",
   "language": "python",
   "name": "python3"
  },
  "language_info": {
   "codemirror_mode": {
    "name": "ipython",
    "version": 3
   },
   "file_extension": ".py",
   "mimetype": "text/x-python",
   "name": "python",
   "nbconvert_exporter": "python",
   "pygments_lexer": "ipython3",
   "version": "3.8.8"
  }
 },
 "nbformat": 4,
 "nbformat_minor": 5
}
