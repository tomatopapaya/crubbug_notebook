{
 "cells": [
  {
   "cell_type": "code",
   "execution_count": 1,
   "id": "c6803276",
   "metadata": {},
   "outputs": [],
   "source": [
    "import requests\n",
    "from bs4 import BeautifulSoup\n",
    "\n",
    "def get_soup(url):\n",
    "    try:\n",
    "        resp=requests.get(url)\n",
    "        if resp.status_code==200:\n",
    "            resp.encoding='utf-8'\n",
    "            \n",
    "            return BeautifulSoup(resp.text,'lxml')\n",
    "        \n",
    "    except Exception as e:\n",
    "        print(e)\n",
    "        \n",
    "    return None"
   ]
  },
  {
   "cell_type": "code",
   "execution_count": 2,
   "id": "f7c615a4",
   "metadata": {},
   "outputs": [],
   "source": [
    "url=\"https://nba.udn.com/nba/news/\""
   ]
  },
  {
   "cell_type": "code",
   "execution_count": 3,
   "id": "1a36d28f",
   "metadata": {
    "collapsed": true
   },
   "outputs": [
    {
     "data": {
      "text/plain": [
       "<!DOCTYPE html>\n",
       "<html lang=\"zh-TW\"><!--total：0.1927--><head><meta content=\"IE=edge\" http-equiv=\"X-UA-Compatible\"/><meta content=\"width=device-width, initial-scale=1.0, maximum-scale=1.0, minimum-scale=1.0\" name=\"viewport\"/><meta charset=\"utf-8\"/><!-- favicon --><link href=\"/favicon.ico\" rel=\"shortcut icon\" type=\"image/x-icon\"/><link href=\"/favicon.ico\" rel=\"icon\" type=\"image/x-icon\"/><link href=\"/favicon.ico\" rel=\"apple-touch-icon\"/><!-- for twitter--><meta content=\"summary\" name=\"twitter:card\"/><!-- for Facebook --><meta content=\"新聞 | NBA 台灣\" property=\"og:title\"/><meta content=\"website\" property=\"og:type\"/><meta content=\"https://nba.udn.com/nba/cate/6754\" property=\"og:url\"/><meta content=\"https://nba.udn.com/img/udn_nba.png\" property=\"og:image\"/><meta content=\"NBA 台灣\" property=\"og:site_name\"/><meta content=\"最詳盡的賽前分析與即時的賽後報導，完整的球員動態與第一手的球隊消息等內容，都在NBA Taiwan News。\" property=\"og:description\"/><meta content=\"100002847892748\" property=\"fb:admins\"/><meta content=\"834325726586022\" property=\"fb:app_id\"/><meta content=\"1376695819294068\" property=\"fb:pages\"/><!-- for Google --><meta content=\"最詳盡的賽前分析與即時的賽後報導，完整的球員動態與第一手的球隊消息等內容，都在NBA Taiwan News。\" name=\"description\"/><meta content=\"聯合新聞網\" name=\"author\"/><meta content=\"聯合新聞網\" name=\"copyright\"/><meta content=\"NBA 台灣\" name=\"application-name\"/><meta content=\"1500\" property=\"og:image:width\"/><meta content=\"1500\" property=\"og:image:height\"/><meta content=\"https://www.facebook.com/nba.taiwan/\" property=\"article:author\"/><meta content=\"https://www.facebook.com/nba.taiwan/\" property=\"article:publisher\"/><meta content=\"https://nba.udn.com/nba/cate/6754\" name=\"URL\"/><meta content=\"2021-10-22\" name=\"date\"/><meta content=\"2000\" name=\"channel_id\"/><meta content=\"6754\" name=\"cate_id\"/><link href=\"https://nba.udn.com/nba/cate/6754\" rel=\"canonical\"/><link href=\"https://nba.udn.com/nba/cate/6754/-1/newest/2\" rel=\"next\"/><title>新聞 | NBA 台灣</title><link href=\"//udn.com/upf/static/fcm/manifest.json\" rel=\"manifest\"/><link href=\"https://s.udn.com.tw/static/font-icons/css/fontello.css\" rel=\"stylesheet\"/><link href=\"/css/news.min.css?20210928\" rel=\"stylesheet\"/><script src=\"https://www.gstatic.com/firebasejs/4.8.1/firebase.js?t=20180816\"></script><script src=\"https://udn.com/upf/static/fcm/nba/fcm_init.js?t=201703081428\"></script><script>/*!\n",
       " * domready (c) Dustin Diaz 2012 - License MIT\n",
       " */\n",
       "!function(e,t){typeof module!=\"undefined\"?module.exports=t():typeof define==\"function\"&&typeof define.amd==\"object\"?define(t):this[e]=t()}(\"domready\",function(e){function p(e){h=1;while(e=t.shift())e()}var t=[],n,r=!1,i=document,s=i.documentElement,o=s.doScroll,u=\"DOMContentLoaded\",a=\"addEventListener\",f=\"onreadystatechange\",l=\"readyState\",c=o?/^loaded|^c/:/^loaded|c/,h=c.test(i[l]);return i[a]&&i[a](u,n=function(){i.removeEventListener(u,n,r),p()},r),o&&i.attachEvent(f,n=function(){/^c/.test(i[l])&&(i.detachEvent(f,n),p())}),e=o?function(n){self!=top?h?n():t.push(n):function(){try{s.doScroll(\"left\")}catch(t){return setTimeout(function(){e(n)},50)}n()}()}:function(e){h?e():t.push(e)}})</script><script> //<![CDATA[\n",
       " if (top.location != location && document.referrer.search(\"google.com\") < 0 && document.referrer.search(/\\.udn\\.com/) < 0) {\n",
       " top.location.href = location.href;\n",
       " }\n",
       " //]]></script><script>function getCookie(name) {\n",
       " var value = \"; \" + document.cookie;\n",
       " var parts = value.split(\"; \" + name + \"=\");\n",
       " if (parts.length == 2) return parts.pop().split(\";\").shift();\n",
       " }\n",
       " var _ga = getCookie('_ga');\n",
       " var _gaA = _ga.split(\".\");\n",
       " var google_id = '';\n",
       " for (i=2;i<_gaA.length;i++) google_id = google_id+_gaA[i]+'.';\n",
       " google_id = google_id.substring(0,google_id.length-1);\n",
       " var user_id = getCookie(\"udnland\");\n",
       " if (typeof user_id === 'undefined') user_id = '';\n",
       " var etu_id = getCookie(\"__eruid\");\n",
       " if(user_id != '')\n",
       " {\n",
       " domready(function() {\n",
       " var udngold = $.cookie(\"udngold\");\n",
       " var udnland = $.cookie(\"udnland\");\n",
       " var udnDate = new Date();\n",
       " udnDate.setTime(udnDate.getTime() + (365 * 24 * 60 * 60 * 1000));\n",
       " $.cookie('udngold', udngold, { domain: '.udn.com',path:'/', expires: udnDate });\n",
       " $.cookie('udnland', udnland, { domain: '.udn.com',path:'/', expires: udnDate });\n",
       " });\n",
       " }\n",
       " console.log('1. etu_id: '+etu_id);\n",
       " console.log('2. user_id: '+user_id);\n",
       " console.log('3.google_id: '+google_id);</script><!-- google analytics--><script>(function(i,s,o,g,r,a,m){i['GoogleAnalyticsObject']=r;i[r]=i[r]||function(){\n",
       " (i[r].q=i[r].q||[]).push(arguments)},i[r].l=1*new Date();a=s.createElement(o),\n",
       " m=s.getElementsByTagName(o)[0];a.async=1;a.src=g;m.parentNode.insertBefore(a,m)\n",
       " })(window,document,'script','//www.google-analytics.com/analytics.js','ga');</script><!-- google analytics--><!-- Data Layer --><script>dataLayer = [{\n",
       " 'etu_id': etu_id,\n",
       " 'user_id': user_id,\n",
       " 'google_id': google_id,\n",
       " 'cat': ['nba','cms','6754,新聞','6754,新聞','6754,新聞'],\n",
       " 'content_tag': '',\n",
       " 'publication_date' : '1970-01-01 08:00'\n",
       "}];</script><!-- End Data Layer --><!-- Google Tag Manager --><script>(function(w,d,s,l,i){w[l]=w[l]||[];w[l].push({'gtm.start':\n",
       "new Date().getTime(),event:'gtm.js'});var f=d.getElementsByTagName(s)[0],\n",
       "j=d.createElement(s),dl=l!='dataLayer'?'&l='+l:'';j.async=true;j.src=\n",
       "'https://www.googletagmanager.com/gtm.js?id='+i+dl;f.parentNode.insertBefore(j,f);\n",
       "})(window,document,'script','dataLayer','GTM-K7QR4WP');</script><!-- End Google Tag Manager --><!-- Begin comScore Tag --><script>var _comscore = _comscore || [];\n",
       "_comscore.push({ c1: \"2\", c2: \"7390954\" });\n",
       "(function() {\n",
       "var s = document.createElement(\"script\"), el = document.getElementsByTagName(\"script\")[0]; s.async = true;\n",
       "s.src = (document.location.protocol == \"https:\" ? \"https://sb\" : \"http://b\") + \".scorecardresearch.com/beacon.js\";\n",
       "el.parentNode.insertBefore(s, el);\n",
       "})();</script><noscript><img src=\"//b.scorecardresearch.com/p?c1=2&amp;c2=7390954&amp;cv=2.0&amp;cj=1\"/></noscript><!-- End comScore Tag -->\n",
       "<!-- #Location: /inc/meta/trace --><!-- #Location: /inc/meta/structured --><!-- adobe digitalData --><script>var digitalData = {\"page\":{\"pageInfo\":{\"pageName\":\"tw:news:main\",\"language\":\"chinese\",\"partner\":\"udn\"},\"category\":{\"primaryCategory\":\"taiwan\",\"subCategory1\":\"tw:news\",\"subCategory2\":\"taiwan|nba tw|news|main\"}},\"content\":{\"type\":\"news\"}};</script><!-- adobe digitalData --><script async=\"\" src=\"//assets.adobedtm.com/launch-ENf3a5eb5de5de40d787976f9eed9d236e.min.js\"></script><!--123456789，我是天天兒--><!-- #Location: /inc/ads/top_of_the_top_world/top_of_the_top_world_text_all --><!--天天兒2--><!-- #Location: /inc/ads/top_of_the_top_world/top_of_the_top_world_text_all --><!-- #Location: /inc/meta --></head><body class=\"category news_index\"><!-- Google Tag Manager (noscript) --><noscript><iframe height=\"0\" src=\"https://www.googletagmanager.com/ns.html?id=GTM-K7QR4WP\" style=\"display:none;visibility:hidden\" width=\"0\"></iframe></noscript><!-- End Google Tag Manager (noscript) --><!-- 20180717 要塞進DFP key-value 的client id --><script type=\"text/javascript\"> var googletag = googletag || {};\n",
       " googletag.cmd = googletag.cmd || [];\n",
       " (function() {\n",
       " var gads = document.createElement('script');\n",
       " gads.async = true;\n",
       " gads.type = 'text/javascript';\n",
       " var useSSL = 'https:' == document.location.protocol;\n",
       " gads.src = (useSSL ? 'https:' : 'http:') +\n",
       " '//securepubads.g.doubleclick.net/tag/js/gpt.js';\n",
       " var node = document.getElementsByTagName('script')[0];\n",
       " node.parentNode.insertBefore(gads, node);\n",
       " })();\n",
       " </script>\n",
       "<script type=\"text/javascript\"> googletag.cmd.push(function() {\n",
       " /* 尺寸設定 */\n",
       " /* 手機及網頁皆呈現 */\n",
       " var nba_web_mobile = googletag.sizeMapping().addSize([1000, 200], [[970, 90], [1000, 92], [728, 90], [970, 250]]).addSize([0, 0], [320, 100]).build();\n",
       " /* 唯網頁呈現 */\n",
       " var nba_webonly_300x250 = googletag.sizeMapping().addSize([1000, 200], ['fluid', [300, 250]]).addSize([0, 0], []).build();\n",
       " var nba_webonly_300x100 = googletag.sizeMapping().addSize([1000, 200], [300, 100]).addSize([0, 0], []).build();\n",
       " var nba_webonly_1000x200 = googletag.sizeMapping().addSize([1000, 200], [1000, 200]).addSize([0, 0], []).build();\n",
       " var nba_webonly_1000x92 = googletag.sizeMapping().addSize([1000, 200], [[1000, 92], [728, 90], [970, 90], [970, 250]]).addSize([0, 0], []).build();\n",
       " var nba_webonly_520x290 = googletag.sizeMapping().addSize([1000, 200], ['fluid', [520, 290]]).addSize([0, 0], []).build();\n",
       " var nba_webonly_Native_popular_334 = googletag.sizeMapping().addSize([1000, 200], ['fluid', [334, 80]]).addSize([0, 0], []).build();\n",
       " var nba_webonly_Native_extend_3_6 = googletag.sizeMapping().addSize([1000, 200], ['fluid', [241, 209]]).addSize([0, 0], []).build();\n",
       " var nba_webonly_Native_latest_3_6 = googletag.sizeMapping().addSize([1000, 200], ['fluid', [241, 209]]).addSize([0, 0], []).build();\n",
       " var nba_webonly_Native_popular_3_6 = googletag.sizeMapping().addSize([1000, 200], ['fluid', [241, 209]]).addSize([0, 0], []).build();\n",
       " var nba_webonly_EbarVideo = googletag.sizeMapping().addSize([1000, 200], [1, 1]).addSize([0, 0], []).build();\n",
       " /* 唯手機呈現 */\n",
       " var nba_mobileonly_320x480 = googletag.sizeMapping().addSize([750, 200], []).addSize([0, 0], ['fluid', [1, 1], [320, 480]]).build();\n",
       " var nba_mobileonly = googletag.sizeMapping().addSize([1000, 200], []).addSize([0, 0], [300, 250]).build();\n",
       " //var nba_mobileonly_300x250 = googletag.sizeMapping().addSize([1000, 200], []).addSize([0, 0], [[300, 250], [336, 280]]).build();\n",
       " var nba_mobileonly_300x250 = googletag.sizeMapping().addSize([1000, 200], []).addSize([0, 0], ['fluid', [300, 250], [336, 280], [300, 100]]).build();\n",
       " var nba_mobileonly_300x250_inline = googletag.sizeMapping().addSize([1000, 200], []).addSize([0, 0], ['fluid', [300, 250], [336, 280], [1, 1]]).build();\n",
       " var nba_mobileonly_Native_extend_3_6 = googletag.sizeMapping().addSize([1000, 200], []).addSize([0, 0], ['fluid', [241, 209]]).build();\n",
       " var nba_mobileonly_Native_latest_3_6 = googletag.sizeMapping().addSize([1000, 200], []).addSize([0, 0], ['fluid', [241, 209]]).build();\n",
       " var nba_mobileonly_Native_popular_3_6 = googletag.sizeMapping().addSize([1000, 200], []).addSize([0, 0], ['fluid', [241, 209]]).build();\n",
       " var mobileonly_320x50 = googletag.sizeMapping().addSize([1000, 200], []).addSize([0, 0], ['fluid', [320, 50],[320, 100],[1, 1]]).build();\n",
       " var mobileonly_320x50B = googletag.sizeMapping().addSize([1000, 200], []).addSize([0, 0], ['fluid', [320, 100], [320, 50]]).build();\n",
       " /* 網頁及手機皆呈現 */\n",
       " var web_mobile_txtdown = googletag.sizeMapping().addSize([750, 200], [[1, 1], [241, 209]]).addSize([0, 0], [[1, 1], [241, 209]]).build();\n",
       " var nba_web_mobile_focus = googletag.sizeMapping().addSize([750, 200], ['fluid', [241, 209]]).addSize([0, 0], ['fluid', [241, 209]]).build();\n",
       "\n",
       " /* 參數定義 */\n",
       " /* 網頁 --【NBA】業務部廣告 1000*92 (首頁) */\n",
       " /* 網頁 --【NBA】業務部廣告 1000*92 (MENU列下方) */\n",
       " /* (nba_webonly_1000x92) */\n",
       " googletag.defineSlot('/129853887/udn.com/NBA/Web/1000*92', [[1000, 92], [728, 90], [970, 90], [970, 250]], 'div-gpt-ad-1452074421939-0').defineSizeMapping(nba_webonly_1000x92).setCollapseEmptyDiv(true).addService(googletag.pubads());\n",
       " /* 網頁 --【NBA】業務部廣告 300*250 (首頁) */\n",
       " /* 網頁 --【NBA】業務部廣告 300*250 (右側欄) */\n",
       " /* (nba_webonly_300x250) */\n",
       " googletag.defineSlot('/129853887/udn.com/NBA/Web/300*250', ['fluid', [300, 250]], 'div-gpt-ad-1443763782750-2').defineSizeMapping(nba_webonly_300x250).setCollapseEmptyDiv(true).addService(googletag.pubads());\n",
       " /* 網頁 --【NBA】KIA 業務部廣告 300*250 (右側欄) */\n",
       " /* googletag.defineSlot('/129853887/udn.com/NBA/KIA/web300*250', [300, 250], 'div-gpt-ad-1453951165886-3').defineSizeMapping(nba_webonly_300x250).setCollapseEmptyDiv(true).addService(googletag.pubads()); */\n",
       " /* 網頁 --【NBA】業務部廣告 300*100 (首頁) */\n",
       " /* 網頁 --【NBA】業務部廣告 300*100 (右側欄)+圖輯 */\n",
       " /* 20180129改300*250*/\n",
       " /* DFP 免費版 code */\n",
       " /* (nba_webonly_300x100) */\n",
       " /* (nba_webonly_300x250) */\n",
       " googletag.defineSlot('/4576170/NBA_web_300*100', ['fluid', [300, 250]], 'div-gpt-ad-1443766449322-0').defineSizeMapping(nba_webonly_300x250).setCollapseEmptyDiv(true).addService(googletag.pubads());\n",
       " /* 網頁 --【NBA】KIA 業務部廣告 300*100 (右側欄) */\n",
       " /* window.PC_slot1 = googletag.defineSlot('/129853887/udn.com/NBA/KIA/web300*100', [300, 100], 'div-gpt-ad-1453951165886-2').defineSizeMapping(nba_webonly_300x100).setCollapseEmptyDiv(true).addService(googletag.pubads()); */\n",
       " /* 20210309改為HB版本 */\n",
       " /* 網頁 --【NBA業務部】內頁文尾520*290 */\n",
       " /* (nba_webonly_520x290) */\n",
       " /* googletag.defineSlot('/4576170/NBA_520*290', ['fluid', [520, 290]], 'div-gpt-ad-1511773097110-0').defineSizeMapping(nba_webonly_520x290).setCollapseEmptyDiv(true).addService(googletag.pubads()); */\n",
       " /* (nba_webonly_EbarVideo) */\n",
       " /* 網頁 -- 【NBA】E-barVideo廣告 (google拆code) */\n",
       " googletag.defineSlot('/4576170/NBA_EbarVideo', [1, 1], 'div-gpt-ad-1564037406744-0').defineSizeMapping(nba_webonly_EbarVideo).setCollapseEmptyDiv(true).addService(googletag.pubads());\n",
       " /* 手機及網頁 --【NBA業務部】文尾文字 (PC + mobile) */\n",
       " /* (web_mobile_txtdown) */\n",
       " googletag.defineSlot('/4576170/NBA_txtdown', [[1, 1], [241, 209]], 'div-gpt-ad-1511773219373-0').defineSizeMapping(web_mobile_txtdown).setCollapseEmptyDiv(true).addService(googletag.pubads());\n",
       " /* 手機 --【NBA】業務部廣告 手機版300*100 (首頁) XXXXXXX */\n",
       " /* 手機 --【NBA_Mobile】業務部廣告_300*250 (MENU列下方) */\n",
       " /* (nba_mobileonly_300x250) */\n",
       " googletag.defineSlot('/129853887/udn.com/NBA/Mobile/320*50-1', ['fluid', [300, 250], [336, 280]], 'div-gpt-ad-1456911575971-0').defineSizeMapping(nba_mobileonly_300x250).setCollapseEmptyDiv(true).addService(googletag.pubads());\n",
       " /* 手機 --【NBA_Mobile】業務部廣告_300*250 (內文頁廣告區塊) */\n",
       " /* 手機 --【NBA_Mobile】業務部廣告_焦點新聞下方_300*250 */\n",
       " /* 新版改位置 , 內文頁廣告區塊 改 內文下方 */\n",
       " /* 手機 --【NBA_Mobile】業務部廣告_300*250 (內文下方) */\n",
       " /* (nba_mobileonly_300x250) */\n",
       " //googletag.defineSlot('/129853887/udn.com/NBA/Mobile/300*250', [[300, 250], [336, 280]] 'div-gpt-ad-1446174283555-0').defineSizeMapping(nba_mobileonly_300x250).setCollapseEmptyDiv(true).addService(googletag.pubads());\n",
       " /* (nba_mobileonly) */\n",
       " googletag.defineSlot('/129853887/udn.com/NBA/Mobile/300*250', [[300, 250], [300, 100]], 'div-gpt-ad-1446174283555-0').defineSizeMapping(nba_mobileonly_300x250).setCollapseEmptyDiv(true).addService(googletag.pubads());\n",
       " /* 手機及網頁 --【NBA】KIA業務部廣告 1000*92 + 手機320*100第一個 (MENU列下方) */\n",
       " /* googletag.defineSlot('/129853887/udn.com/NBA/KIA/1000*92_320*100', [[728, 90], [1000, 92], [970, 90], [320, 50], [320, 100]], 'div-gpt-ad-1453951165886-1').defineSizeMapping(nba_web_mobile).setCollapseEmptyDiv(true).addService(googletag.pubads()); */\n",
       " /* (nba_webonly_1000x200) */\n",
       " /* 網頁 --KIA 1000x200 */\n",
       " /* googletag.defineSlot('/129853887/udn.com/NBA/KIA/web1000*200', [1000, 200], 'div-gpt-ad-1453951165886-0').defineSizeMapping(nba_webonly_1000x200).setCollapseEmptyDiv(true).addService(googletag.pubads()); */\n",
       " /* (nba_mobileonly_320x480) */\n",
       " /* 先用 News 覆蓋的 Div id div-gpt-ad-1496826774110-0 */\n",
       " /* googletag.defineSlot('/129853887/udn.com/NBA/Mobile/320*480-1', ['fluid', [1, 1], [320, 480]], 'div-gpt-ad-1496906126686-0').defineSizeMapping(nba_mobileonly_320x480).setCollapseEmptyDiv(true).addService(googletag.pubads()); */\n",
       " googletag.defineSlot('/129853887/udn.com/NBA/Mobile/320*480-1', ['fluid', [1, 1], [320, 480]], 'div-gpt-ad-1496826774110-0').defineSizeMapping(nba_mobileonly_320x480).setCollapseEmptyDiv(true).addService(googletag.pubads());\n",
       " /* 新開 NBA 新開 */\n",
       " /* 新開 NBA 新開 */\n",
       " /* 新開 NBA 新開 */\n",
       " /* 原生廣告 */\n",
       " /* (nba_webonly_Native_extend_3_6) */\n",
       " /* 網頁 -- 【NBA】延伸閱讀 第三則 (Desktop) google拆code [免費版] */\n",
       " googletag.defineSlot('/4576170/NBA_extend_Native3', ['fluid', [241, 209]], 'div-gpt-ad-1515658508416-2').defineSizeMapping(nba_webonly_Native_extend_3_6).setCollapseEmptyDiv(true).addService(googletag.pubads());\n",
       " /* 網頁 -- 【NBA】延伸閱讀 第六則 (Desktop) google拆code [免費版] */\n",
       " googletag.defineSlot('/4576170/NBA_extend_Native6', ['fluid', [241, 209]], 'div-gpt-ad-1515658508416-3').defineSizeMapping(nba_webonly_Native_extend_3_6).setCollapseEmptyDiv(true).addService(googletag.pubads());\n",
       " /* (nba_webonly_Native_latest_3_6) */\n",
       " /* 網頁 -- 【NBA】最新文章 第三則 (Desktop) google拆code [免費版] */\n",
       " googletag.defineSlot('/4576170/NBA_latest_Native3', ['fluid', [241, 209]], 'div-gpt-ad-1515658508416-6').defineSizeMapping(nba_webonly_Native_latest_3_6).setCollapseEmptyDiv(false).addService(googletag.pubads());\n",
       " /* 網頁 -- 【NBA】最新文章 第六則 (Desktop) google拆code [免費版] */\n",
       " googletag.defineSlot('/4576170/NBA_latest_Native6', ['fluid', [241, 209]], 'div-gpt-ad-1515658508416-7').defineSizeMapping(nba_webonly_Native_latest_3_6).setCollapseEmptyDiv(false).addService(googletag.pubads());\n",
       " /* (nba_webonly_Native_popular_3_6) */\n",
       " /* 網頁 -- 【NBA】熱門文章 第三則 (Desktop) google拆code [免費版] */\n",
       " googletag.defineSlot('/4576170/NBA_popular_Native3', ['fluid', [241, 209]], 'div-gpt-ad-1515658508416-12').defineSizeMapping(nba_webonly_Native_popular_3_6).setCollapseEmptyDiv(false).addService(googletag.pubads());\n",
       " /* 網頁 -- 【NBA】熱門文章 第六則 (Desktop) google拆code [免費版] */\n",
       " googletag.defineSlot('/4576170/NBA_popular_Native6', ['fluid', [241, 209]], 'div-gpt-ad-1515658508416-13').defineSizeMapping(nba_webonly_Native_popular_3_6).setCollapseEmptyDiv(false).addService(googletag.pubads());\n",
       " /* 原生廣告 */\n",
       " /* (nba_mobileonly_Native_extend_3_6) */\n",
       " /* 手機 -- 【NBA】延伸閱讀 第三則 (Mobile) google拆code [免費版] */\n",
       " googletag.defineSlot('/4576170/NBA_extend_Native3_Mobile', ['fluid', [241, 209]], 'div-gpt-ad-1515658508416-0').defineSizeMapping(nba_mobileonly_Native_extend_3_6).setCollapseEmptyDiv(true).addService(googletag.pubads());\n",
       " /* 手機 -- 【NBA】延伸閱讀 第六則 (Mobile) google拆code [免費版] */\n",
       " googletag.defineSlot('/4576170/NBA_extend_Native6_Mobile', ['fluid', [241, 209]], 'div-gpt-ad-1515658508416-1').defineSizeMapping(nba_mobileonly_Native_extend_3_6).setCollapseEmptyDiv(true).addService(googletag.pubads());\n",
       " /* (nba_mobileonly_Native_latest_3_6) */\n",
       " /* 手機 -- 【NBA】最新文章 第三則 (Mobile) google拆code [免費版] */\n",
       " googletag.defineSlot('/4576170/NBA_latest_Native3_Mobile', ['fluid', [241, 209]], 'div-gpt-ad-1515658508416-4').defineSizeMapping(nba_mobileonly_Native_latest_3_6).setCollapseEmptyDiv(false).addService(googletag.pubads());\n",
       " /* 手機 -- 【NBA】最新文章 第六則 (Mobile) google拆code [免費版] */\n",
       " googletag.defineSlot('/4576170/NBA_latest_Native6_Mobile', ['fluid', [241, 209]], 'div-gpt-ad-1515658508416-5').defineSizeMapping(nba_mobileonly_Native_latest_3_6).setCollapseEmptyDiv(false).addService(googletag.pubads());\n",
       " /* (nba_mobileonly_Native_popular_3_6) */\n",
       " /* 手機 -- 【NBA】熱門文章 第三則 (Mobile) google拆code [免費版] */\n",
       " googletag.defineSlot('/4576170/NBA_popular_Native6_Mobile', ['fluid', [241, 209]], 'div-gpt-ad-1515658508416-10').defineSizeMapping(nba_mobileonly_Native_popular_3_6).setCollapseEmptyDiv(false).addService(googletag.pubads());\n",
       " /* 手機 -- 【NBA】熱門文章 第六則 (Mobile) google拆code [免費版] */\n",
       " googletag.defineSlot('/4576170/NBA_popular_Native3_Mobile', ['fluid', [241, 209]], 'div-gpt-ad-1515658508416-11').defineSizeMapping(nba_mobileonly_Native_popular_3_6).setCollapseEmptyDiv(false).addService(googletag.pubads());\n",
       " /* (nba_webonly_300x250) */\n",
       " /* 網頁 -- 【NBA】閒置頁面300x250 (google拆code) */\n",
       " window.idle_slot = googletag.defineSlot('/4576170/NBA_idle_300*250', [300, 250], 'div-gpt-ad-1515658508416-8').defineSizeMapping(nba_webonly_300x250).setCollapseEmptyDiv(true).addService(googletag.pubads());\n",
       " /* (nba_webonly_Native_popular_334) */\n",
       " /* 網頁 -- 【NBA】閒置頁面圖文廣告第三則 (google拆code) */\n",
       " window.idle_slot2 = googletag.defineSlot('/4576170/NBA_idle_Native', ['fluid', [334, 80]], 'div-gpt-ad-1515658508416-9').defineSizeMapping(nba_webonly_Native_popular_334).setCollapseEmptyDiv(true).addService(googletag.pubads());\n",
       " /* (nba_mobileonly_300x250_inline) */\n",
       " /* 手機 -- 【NBA】Mobile文中大佈告300*250廣告 (google拆code) [免費版] */\n",
       " /* googletag.defineSlot('/4576170/NBA_Mobile_300*250_inline', ['fluid', [300, 250], [336, 280], [1, 1]], 'div-gpt-ad-1516178094684-0').defineSizeMapping(nba_mobileonly_300x250).setCollapseEmptyDiv(true).addService(googletag.pubads()); */\n",
       " window.MB_slot1 = googletag.defineSlot('/4576170/NBA_Mobile_300*250_inline', ['fluid', [300, 250], [336, 280], [1, 1]], 'div-gpt-ad-1503996040247-0').defineSizeMapping(nba_mobileonly_300x250_inline).setCollapseEmptyDiv(true).addService(googletag.pubads());\n",
       " /* (nba_mobileonly_300x250) */\n",
       " /* 手機 -- 【NBA】Mobile最新文章大佈告300*250廣告 (google拆code) [免費版] */\n",
       " window.MB_slot2 = googletag.defineSlot('/4576170/NBA_Mobile_300*250_latest', [[300, 250], [336, 280]], 'div-gpt-ad-1516609054623-0').defineSizeMapping(nba_mobileonly_300x250).setCollapseEmptyDiv(true).addService(googletag.pubads());\n",
       " /* 手機 -- 【NBA】Mobile熱門文章大佈告300*250廣告 (google拆code) [免費版] */\n",
       " window.MB_slot3 = googletag.defineSlot('/4576170/NBA_Mobile_300*250_popular', [[300, 250], [336, 280]], 'div-gpt-ad-1516609054623-1').defineSizeMapping(nba_mobileonly_300x250).setCollapseEmptyDiv(true).addService(googletag.pubads());\n",
       " /* (nba_web_mobile_focus) */\n",
       " /* 網頁及手機 -- 【NBA】焦點新聞 第四則 (PC+Mobile) google拆code [免費版] */\n",
       " googletag.defineSlot('/4576170/NBA_focus_Native', ['fluid', [241, 209]], 'div-gpt-ad-1532663627862-0').defineSizeMapping(nba_web_mobile_focus).setCollapseEmptyDiv(true).addService(googletag.pubads());\n",
       " /* (mobileonly_320x50) */\n",
       " /* 手機 -- 【NBA】Mobile置底廣告320*50 (google拆code) */\n",
       " /* googletag.defineSlot('/4576170/NBA_Mobile_float', ['fluid', [320, 100], [1, 1], [320, 50]], 'div-gpt-ad-1438159466246-0').defineSizeMapping(mobileonly_320x50).setCollapseEmptyDiv(true).addService(googletag.pubads()); */\n",
       " /* googletag.defineSlot('/129853887/udn.com/NBA/Mobile/NBA_Mobile_float', [[320, 50], [320, 100], [1, 1], 'fluid'], 'div-gpt-ad-1438159466246-0').defineSizeMapping(mobileonly_320x50).setCollapseEmptyDiv(true).addService(googletag.pubads()); */\n",
       " /* (mobileonly_320x50B) */\n",
       " googletag.defineSlot('/129853887/udn.com/NBA/Mobile/NBA_Mobile_float', ['fluid', [320, 100], [320, 50]], 'div-gpt-ad-1438159466246-0').defineSizeMapping(mobileonly_320x50B).setCollapseEmptyDiv(true).addService(googletag.pubads());\n",
       " googletag.pubads().enableSingleRequest();\n",
       " googletag.pubads().setTargeting(\"eruid\", etu_id);\n",
       " googletag.pubads().setTargeting(\"clientId\", google_id);\n",
       " googletag.pubads().setTargeting(\"userId\", user_id);\n",
       " googletag.pubads().setTargeting(\"cat\", ['2000','NBA 台灣','6754','新聞','','']);\n",
       "googletag.pubads().setTargeting(\"aid\", 'null');\n",
       "googletag.pubads().setTargeting(\"page\", 'CATEGORY');\n",
       "googletag.pubads().setTargeting(\"tag\", null);\n",
       "googletag.enableServices();\n",
       "/* #Location: inc/meta/skytop_dfp */\n",
       " setInterval(function() {\n",
       " googletag.pubads().refresh([idle_slot2,PC_slot1,MB_slot1,MB_slot2,MB_slot3]);\n",
       " }, 30000)\n",
       " });\n",
       " </script><!-- #Location: /inc/ads/top_of_the_world/top_of_the_world_text_all --><div id=\"sb-site\"><!-- 更新提醒視窗 --><div id=\"browser-update\"><a href=\"\" target=\"_blank\">親愛的網友：<br/>為確保您享有最佳的瀏覽體驗，建議您提升您的 IE 瀏覽器至<span>最新版本</span>，感謝您的配合。</a><div class=\"close\">✕</div></div><!-- /更新提醒視窗 --><div id=\"container\"><!-- start global header --><div id=\"header\"><div id=\"global-nav\"><div id=\"edition_wrapper\"><div class=\"edition_open\" id=\"edition\"><form class=\"hidden-sm\" name=\"editionForm\"><div class=\"rule\"></div><span class=\"choose-edition\">請選擇您的預設語言</span><span class=\"controls\"><label><input class=\"set_HP_default\" name=\"edition\" type=\"radio\" value=\"zh_TW\"/>繁體中文</label><label><input class=\"set_HP_default\" name=\"edition\" type=\"radio\" value=\"us\"/>US</label></span></form><div class=\"visible-sm\" id=\"edition-mobile\"><span class=\"edition-label\">預設語言: </span><select id=\"edition-select\" name=\"us\"><option selected=\"selected\" value=\"us\">US</option><option value=\"zh_TW\">繁體中文</option></select><div class=\"edition-go\">Go</div></div></div><div class=\"edition_closed\" id=\"edition_message\"><span class=\"edition-message\">已設定預設語言，有效期為一周</span></div></div><div class=\"container\"><div><div class=\"nav-collapse global-nav-collapse\"><ul class=\"nav navbar-nav\" id=\"global-nav-1\"><li class=\"nba-site\"><a href=\"#\" id=\"redirectNBA\">NBA.COM</a></li><li class=\"hidden-sm dropdown\"><a class=\"dropdown-toggle\" data-toggle=\"dropdown\">球隊</a><ul class=\"dropdown-menu\"><li><a href=\"http://www.nba.com/hawks/\" target=\"_blank\">Atlanta</a></li><li><a href=\"http://www.nba.com/celtics/\" target=\"_blank\">Boston</a></li><li><a href=\"http://www.nba.com/nets/\" target=\"_blank\">Brooklyn</a></li><li><a href=\"http://www.nba.com/bobcats/\" target=\"_blank\">Charlotte</a></li><li><a href=\"http://www.nba.com/bulls/\" target=\"_blank\">Chicago</a></li><li><a href=\"http://www.nba.com/cavaliers/\" target=\"_blank\">Cleveland</a></li><li><a href=\"http://www.nba.com/mavericks/\" target=\"_blank\">Dallas</a></li><li><a href=\"http://www.nba.com/nuggets/\" target=\"_blank\">Denver</a></li><li><a href=\"http://www.nba.com/pistons/\" target=\"_blank\">Detroit</a></li><li><a href=\"http://www.nba.com/warriors/\" target=\"_blank\">Golden State</a></li><li><a href=\"http://www.nba.com/rockets/\" target=\"_blank\">Houston</a></li><li><a href=\"http://www.nba.com/pacers/\" target=\"_blank\">Indiana</a></li><li><a href=\"http://www.nba.com/clippers/\" target=\"_blank\">LA Clippers</a></li><li><a href=\"http://www.nba.com/lakers/\" target=\"_blank\">LA Lakers</a></li><li><a href=\"http://www.nba.com/grizzlies/\" target=\"_blank\">Memphis</a></li><li><a href=\"http://www.nba.com/heat/\" target=\"_blank\">Miami</a></li><li><a href=\"http://www.nba.com/bucks/\" target=\"_blank\">Milwaukee</a></li><li><a href=\"http://www.nba.com/timberwolves/\" target=\"_blank\">Minnesota</a></li><li><a href=\"http://www.nba.com/hornets/\" target=\"_blank\">New Orleans</a></li><li><a href=\"http://www.nba.com/knicks/\" target=\"_blank\">New York</a></li><li><a href=\"http://www.nba.com/thunder/\" target=\"_blank\">Oklahoma City</a></li><li><a href=\"http://www.nba.com/magic/\" target=\"_blank\">Orlando</a></li><li><a href=\"http://www.nba.com/sixers/\" target=\"_blank\">Philadelphia</a></li><li><a href=\"http://www.nba.com/suns/\" target=\"_blank\">Phoenix</a></li><li><a href=\"http://www.nba.com/blazers/\" target=\"_blank\">Portland</a></li><li><a href=\"http://www.nba.com/kings/\" target=\"_blank\">Sacramento</a></li><li><a href=\"http://www.nba.com/spurs/\" target=\"_blank\">San Antonio</a></li><li><a href=\"http://www.nba.com/raptors/\" target=\"_blank\">Toronto</a></li><li><a href=\"http://www.nba.com/jazz/\" target=\"_blank\">Utah</a></li><li><a href=\"http://www.nba.com/wizards/\" target=\"_blank\">Washington</a></li></ul></li><li class=\"hidden-sm dropdown\"><a class=\"dropdown-toggle\" data-toggle=\"dropdown\">全球 NBA</a><ul class=\"dropdown-menu\"><!-- <li><a target=\"_blank\" href=\"http://www.nba.com/africa\">Africa</a></li> --><li><a href=\"http://www.nba.com/argentina\" target=\"_blank\">Argentina</a></li><li><a href=\"http://www.nba.com/australia\" target=\"_blank\">Australia</a></li><li><a href=\"http://www.nba.com/belarus\" target=\"_blank\">Belarus</a></li><li><a href=\"http://www.nba.com/brasil\" target=\"_blank\">Brasil</a></li><li><a href=\"http://www.nba.com/canada\" target=\"_blank\">Canada</a></li><li><a href=\"http://www.nba.com/china\" target=\"_blank\">中国</a></li><li><a href=\"http://www.nba.com/enebea\" target=\"_blank\">Enebea</a></li><li><a href=\"http://www.nba.com/france\" target=\"_blank\">France</a></li><!--<li><a target=\"_blank\" href=\"http://www.nba.com/germany\">Germany</a></li>--><!-- <li><a target=\"_blank\" href=\"http://www.nba.com/greece\">Greece</a></li> --><li><a href=\"http://www.nba.com/india\" target=\"_blank\">India</a></li><li><a href=\"http://www.nba.com/israel\" target=\"_blank\">Israel</a></li><li><a href=\"http://www.nba.com/italy\" target=\"_blank\">Italy</a></li><li><a href=\"http://www.nba.com/japan\" target=\"_blank\">日本</a></li><!--<li><a target=\"_blank\" href=\"http://www.nba.com/lithuania\">Lithuania</a></li>--><li><a href=\"http://www.nba.com/arabic\" target=\"_blank\">MENA</a></li><li><a href=\"http://www.nba.com/mexico\" target=\"_blank\">Mexico</a></li><!-- <li><a target=\"_blank\" href=\"http://www.nba.com/newzealand \">New Zealand</a></li> --><!--<li><a target=\"_blank\" href=\"http://www.nba.com/philippines\">Philippines</a></li>--><li><a href=\"http://www.nba.com/russia\" target=\"_blank\">Russia</a></li><li><a href=\"http://www.nba.com/spain\" target=\"_blank\">Spain</a></li><li><a href=\"http://www.nba.com/taiwan\" target=\"_blank\">Taiwan</a></li><!--<li><a target=\"_blank\" href=\"http://www.nba.com/turkey\">Turkey</a></li>--><li><a href=\"http://www.nba.com/uk\" target=\"_blank\">United Kingdom</a></li><li><a href=\"http://www.nba.com/ukraine\" target=\"_blank\">Ukraine</a></li><li><a href=\"https://nba.smart.com.ph/\" target=\"_blank\">Philippines</a></li></ul></li><li class=\"edition-site visible-desktop\"><a class=\"setEdition\" data-id=\"taiwan.nba.com\" data-track=\"click\" data-type=\"set default edition\" href=\"#\">設定預設語言</a></li></ul></div><!--/.nav-collapse --></div></div><!-- /#global-nav --></div><!-- /#global-nav --><div id=\"header_body\"><a class=\"sb-toggle-left\" href=\"#header_menu_area\" id=\"header_menu_btn\"></a><div class=\"udn_logo\"><a href=\"https://udn.com/news/index\" target=\"_blank\" title=\"回聯合新聞網首頁\"><img src=\"//s.udn.com.tw/static/img/logo_mark.svg\"/></a><a href=\"https://udn.com/news/index\" target=\"_blank\" title=\"回聯合新聞網首頁\"><img src=\"/img/logo_name.svg\"/></a><a href=\"https://nba.udn.com/nba/index\"><img src=\"/img/logo_nba.svg\"/></a></div><a href=\"https://udn.com\" id=\"header_family_udn\" target=\"_blank\">獨家授權</a><div class=\"only_web ad\" id=\"header_ad\"><!--<iframe src=\"/ad2015/ad_160x50.html\" width=\"160\" height=\"50\" frameborder=\"0\" scrolling=\"no\"></iframe>--></div><!-- /#header_ad --><div id=\"header_family\"><a class=\"only_web\" href=\"https://www.nba.com/watch/streaming-subscriptions?cid=nba:leaguepass:institutional:nbacom:intsites:tw:topnav\" id=\"leaguepass\" target=\"_blank\">League Pass</a><a href=\"https://www.facebook.com/nba.taiwan\" id=\"facebook\" target=\"_blank\">facebook</a><a href=\"https://line.me/R/ti/p/%40nba_taiwan\" id=\"line\" target=\"_blank\">Line</a><a class=\"only_mobile\" href=\"http://www.nbastore.tw\" id=\"nbastore\">nba store</a></div><!-- /#header_family --><div class=\"header_search\"><form id=\"sform1\" name=\"sform1\"><input class=\"header_search_kw\" name=\"q\" type=\"text\" value=\"季後賽\"/></form><a class=\"header_search_submit\" href=\"#\"></a></div><!-- /#header_search --></div><!-- /#header_body --></div><!-- /#header --><!-- end global header --><!-- start menu --><div class=\"menu\" id=\"menu\"><div id=\"menu_body\"><div class=\"horizon-swiper\"><div class=\"horizon-item\"><a href=\"//tw.global.nba.com/scores/\">比分</a></div><div class=\"horizon-item\"><a href=\"//tw.global.nba.com/schedule/#!/7\">賽程</a><ul><li><a href=\"https://nba.udn.com/nba/story/6780/5695797\" target=\"_blank\">重要日</a></li></ul></div><div class=\"only_mobile horizon-item\"><a href=\"https://nba.udn.com/nba/story/6780/5695797\" target=\"_blank\">重要日</a></div><div class=\"horizon-item\"><a href=\"https://nba.udn.com/nba/videos/\">影音</a></div><div class=\"horizon-item on\"><a href=\"https://nba.udn.com/nba/news/\">新聞</a><ul><li><a href=\"https://nba.udn.com/nba/cate/6754/6780\">NBA戰況</a></li><li><a href=\"https://nba.udn.com/nba/cate/6754/6779\">傷兵情報</a></li></ul></div><div class=\"horizon-item\"><a href=\"https://nba.udn.com/nba/review/\">球評</a><ul><li><a href=\"https://nba.udn.com/nba/cate/6755/8885\">monmo</a></li><li><a href=\"https://nba.udn.com/nba/cate/6755/7792\">Anfernee</a></li><li><a href=\"https://nba.udn.com/nba/cate/6755/7791\">Marion</a></li><li><a href=\"https://nba.udn.com/nba/cate/6755/12013\">yushi</a></li><li><a href=\"https://nba.udn.com/nba/cate/6755/12714\">手紙虎</a></li><li><a href=\"https://nba.udn.com/nba/cate/6755/12608\">Thousand</a></li><li><a href=\"https://nba.udn.com/nba/cate/6755/10718\">李亦伸</a></li><li><a href=\"https://nba.udn.com/nba/cate/6755/121525\">陳光立</a></li><li><a href=\"https://nba.udn.com/nba/cate/6755/7445\">周汶昊</a></li><li><a href=\"https://nba.udn.com/nba/cate/6755/7444\">林文</a></li><li><a href=\"https://nba.udn.com/nba/cate/6755/8886\">Phatmen</a></li><li><a href=\"https://nba.udn.com/nba/cate/6755/8017\">AhUtopian </a></li><li><a href=\"https://nba.udn.com/nba/cate/6755/7790\">heartnsoul</a></li><li><a href=\"https://nba.udn.com/nba/cate/6755/12075\">美國職籃戰國策</a></li><li><a href=\"https://nba.udn.com/nba/cate/6755/9599\">林煒珽</a></li><li><a href=\"https://nba.udn.com/nba/cate/6755/7756\">梁起華</a></li><li><a href=\"https://nba.udn.com/nba/cate/6755/7442\">王老吉</a></li><li><a href=\"https://nba.udn.com/nba/cate/6755/7440\">朱子</a></li><li><a href=\"https://nba.udn.com/nba/cate/6755/8941\">基本工事</a></li><li><a href=\"https://nba.udn.com/nba/cate/6755/8855\">費恩斯</a></li><li><a href=\"https://nba.udn.com/nba/cate/6755/7789\">李修涵</a></li><li><a href=\"https://nba.udn.com/nba/cate/6755/7446\">jabbar</a></li><li><a href=\"https://nba.udn.com/nba/cate/6755/8189\">飛貓</a></li></ul></div><div class=\"horizon-item\"><a href=\"https://nba.udn.com/photos/index/\" target=\"_blank\">圖輯</a></div><div class=\"horizon-item\"><a href=\"//tw.global.nba.com/standings/\">戰績</a><ul><li><a href=\"https://tw.global.nba.com/playoffpicture/\" target=\"_blank\">季後賽對戰表</a></li><li><a href=\"https://tw.global.nba.com/draft/\" target=\"_blank\">選秀順位表</a></li></ul></div><div class=\"only_mobile horizon-item\"><a href=\"https://tw.global.nba.com/playoffpicture/\" target=\"_blank\">季後賽對戰表</a></div><div class=\"only_mobile horizon-item\"><a href=\"https://tw.global.nba.com/draft/\" target=\"_blank\">選秀順位表</a></div><div class=\"horizon-item\"><a href=\"https://nba.udn.com/nba/hot_player/\">焦點球星</a><ul><li><a href=\"https://nba.udn.com/nba/cate/7460/120654\">Giannis Antetokounmpo</a></li><li><a href=\"https://nba.udn.com/nba/cate/7460/7566\">Stephen Curry</a></li><li><a href=\"https://nba.udn.com/nba/cate/7460/7463\">LeBron James</a></li><li><a href=\"https://nba.udn.com/nba/cate/7460/7788\">James Harden</a></li></ul></div><div class=\"horizon-item\"><a href=\"//tw.global.nba.com/teamindex/\">球隊</a><ul class=\"towrow\"><li><h2 class=\"menu-title\">東區</h2><ul><li><h3 class=\"menu-title-sub\">大西洋組</h3><ul><li><a class=\"Boston\" href=\"//tw.global.nba.com/teams/#!/celtics\" target=\"_blank\">波士頓塞爾蒂克</a></li><li><a class=\"Brooklyn\" href=\"//tw.global.nba.com/teams/#!/nets\" target=\"_blank\">布魯克林籃網</a></li><li><a class=\"NY\" href=\"//tw.global.nba.com/teams/#!/knicks\" target=\"_blank\">紐約尼克</a></li><li><a class=\"Philadelphia\" href=\"//tw.global.nba.com/teams/#!/sixers\" target=\"_blank\">費城76人</a></li><li><a class=\"Toronto\" href=\"//tw.global.nba.com/teams/#!/raptors\" target=\"_blank\">多倫多暴龍</a></li></ul></li><li><h3 class=\"menu-title-sub\">中央組</h3><ul><li><a class=\"Chicago\" href=\"//tw.global.nba.com/teams/#!/bulls\" target=\"_blank\">芝加哥公牛</a></li><li><a class=\"Cleveland\" href=\"//tw.global.nba.com/teams/#!/cavaliers\" target=\"_blank\">克里夫蘭騎士</a></li><li><a class=\"Detroit\" href=\"//tw.global.nba.com/teams/#!/pistons\" target=\"_blank\">底特律活塞</a></li><li><a class=\"Indiana\" href=\"//tw.global.nba.com/teams/#!/pacers\" target=\"_blank\">印第安納溜馬</a></li><li><a class=\"Milwaukee\" href=\"//tw.global.nba.com/teams/#!/bucks\" target=\"_blank\">密爾瓦基公鹿</a></li></ul></li><li><h3 class=\"menu-title-sub\">東南組</h3><ul><li><a class=\"Atlanta\" href=\"//tw.global.nba.com/teams/#!/hawks\" target=\"_blank\">亞特蘭大老鷹</a></li><li><a class=\"Charlotte\" href=\"//tw.global.nba.com/teams/#!/hornets\" target=\"_blank\">夏洛特黃蜂</a></li><li><a class=\"Miami\" href=\"//tw.global.nba.com/teams/#!/heat\" target=\"_blank\">邁阿密熱火</a></li><li><a class=\"Orlando\" href=\"//tw.global.nba.com/teams/#!/magic\" target=\"_blank\">奧蘭多魔術</a></li><li><a class=\"Washington\" href=\"//tw.global.nba.com/teams/#!/wizards\" target=\"_blank\">華盛頓巫師</a></li></ul></li></ul></li><li><h2 class=\"menu-title\">西區</h2><ul><li><h3 class=\"menu-title-sub\">西南組</h3><ul><li><a class=\"Dallas\" href=\"//tw.global.nba.com/teams/#!/mavericks\" target=\"_blank\">達拉斯獨行俠</a></li><li><a class=\"Houston\" href=\"//tw.global.nba.com/teams/#!/rockets\" target=\"_blank\">休士頓火箭</a></li><li><a class=\"Memphis\" href=\"//tw.global.nba.com/teams/#!/grizzlies\" target=\"_blank\">曼斐斯灰熊</a></li><li><a class=\"NO\" href=\"//tw.global.nba.com/teams/#!/pelicans\" target=\"_blank\">紐奧良鵜鶘</a></li><li><a class=\"San\" href=\"//tw.global.nba.com/teams/#!/spurs\" target=\"_blank\">聖安東尼奧馬刺</a></li></ul></li><li><h3 class=\"menu-title-sub\">西北組</h3><ul><li><a class=\"Denver\" href=\"//tw.global.nba.com/teams/#!/nuggets\" target=\"_blank\">丹佛金塊</a></li><li><a class=\"Minnesota\" href=\"//tw.global.nba.com/teams/#!/timberwolves\" target=\"_blank\">明尼蘇達灰狼</a></li><li><a class=\"Oklahoma\" href=\"//tw.global.nba.com/teams/#!/thunder\" target=\"_blank\">奧克拉荷馬雷霆</a></li><li><a class=\"Portland\" href=\"//tw.global.nba.com/teams/#!/blazers\" target=\"_blank\">波特蘭拓荒者</a></li><li><a class=\"Utah\" href=\"//tw.global.nba.com/teams/#!/jazz\" target=\"_blank\">猶他爵士</a></li></ul></li><li><h3 class=\"menu-title-sub\">太平洋組</h3><ul><li><a class=\"Golden\" href=\"//tw.global.nba.com/teams/#!/warriors\" target=\"_blank\">金州勇士</a></li><li><a class=\"LAC\" href=\"//tw.global.nba.com/teams/#!/clippers\" target=\"_blank\">洛杉磯快艇</a></li><li><a class=\"LAL\" href=\"//tw.global.nba.com/teams/#!/lakers\" target=\"_blank\">洛杉磯湖人</a></li><li><a class=\"Phoenix\" href=\"//tw.global.nba.com/teams/#!/suns\" target=\"_blank\">鳳凰城太陽</a></li><li><a class=\"Sacramento\" href=\"//tw.global.nba.com/teams/#!/kings\" target=\"_blank\">沙加緬度國王</a></li></ul></li></ul></li> </ul></div><div class=\"horizon-item\"><a href=\"//tw.global.nba.com/playerindex/\">球員</a></div><div class=\"horizon-item\"><a href=\"//tw.global.nba.com/statistics/\">數據</a><ul><li><a href=\"//tw.global.nba.com/statistics/leagueleaders/\" target=\"_blank\">球員數據</a></li><li><a href=\"//tw.global.nba.com/statistics/teamstats/\" target=\"_blank\">球隊數據</a></li></ul></div><div class=\"only_mobile horizon-item\"><a href=\"//tw.global.nba.com/statistics/leagueleaders/\" target=\"_blank\">球員數據</a></div><div class=\"only_mobile horizon-item\"><a href=\"//tw.global.nba.com/statistics/teamstats/\" target=\"_blank\">球隊數據</a></div><div class=\"horizon-item\"><a href=\"//nba.udn.com/nba/event\">活動</a></div><div class=\"only_web horizon-item\"><a href=\"http://www.nbastore.tw\" target=\"_blank\"><img src=\"/img/nbastore.png?20180820\"/></a></div><div class=\"os only_mobile horizon-item\"><a href=\"http://watch.nba.com/packages?ls=leaguepass:localsite:taiwan:generic:banner\" target=\"_blank\">League Pass</a></div></div></div><!-- /#menu_body --></div><!-- /#menu --><div class=\"ad only_web\"><!-- /129853887/udn.com/NBA/Web/1000*92 --><style> #div-gpt-ad-1452074421939-0 iframe { margin:auto; }\n",
       " #div-gpt-ad-1452074421939-0 > div { margin: auto; display: block !important; }</style><div id=\"div-gpt-ad-1452074421939-0\"><script type=\"text/javascript\">googletag.cmd.push(function() { googletag.display('div-gpt-ad-1452074421939-0'); });</script></div></div><!-- #Location: /inc/ads/page_neck/text_desktop --><div class=\"ad only_mobile\"><!-- /129853887/udn.com/NBA/Mobile/320*50-1 --><style> #div-gpt-ad-1456911575971-0 iframe { margin:auto; }\n",
       " #div-gpt-ad-1456911575971-0 > div { margin: auto; display: block !important; }</style><div id=\"div-gpt-ad-1456911575971-0\" style=\"margin:10px auto;\"><script type=\"text/javascript\">googletag.cmd.push(function() { googletag.display('div-gpt-ad-1456911575971-0'); });</script></div></div><!-- #Location: /inc/ads/page_neck/text_mobile --><div id=\"wrapper\"><div id=\"mainbar\"><div class=\"box\" id=\"featured\"><h1 class=\"box-title\">編輯精選</h1><div class=\"box_body\" id=\"featured_body\"><dl> <dt><a href=\"https://nba.udn.com/nba/video/96/565407\"><img src=\"https://pgw.udn.com.tw/gw/photo.php?u=https://uc.udn.com.tw/photo/2020/07/22/1/8230503.jpeg&amp;x=0&amp;y=0&amp;sw=0&amp;sh=0&amp;sl=W&amp;fw=1050&amp;exp=3600\"/><span class=\"wmark\"></span><h3> Kevin Garnett生涯十大好球</h3></a></dt> <dt><a href=\"https://nba.udn.com/nba/video/96/524354\"><img src=\"https://pgw.udn.com.tw/gw/photo.php?u=https://uc.udn.com.tw/photo/2018/08/13/99/5123260.jpg&amp;x=0&amp;y=0&amp;sw=0&amp;sh=0&amp;sl=W&amp;fw=1050&amp;exp=3600\"/><span class=\"wmark\"></span><h3> Tim Duncan生涯十大好球</h3></a></dt></dl></div><!-- /#featured_body --></div><!-- /#featured --><!-- #Laction: /inc/ads/tab_bottom --><div class=\"box\" id=\"news_list\"><h1 class=\"box-title\">NBA 新聞</h1><div class=\"list_toggle\"><a class=\"active\">最新</a><a data-id=\"hottest\" data-track=\"click\" data-type=\"tabs\" href=\"/nba/cate/6754/-1/hottest\">熱門</a></div><!-- #news_list_body --><div class=\"box_body\" id=\"news_list_body\"><dl><dt><a href=\"/nba/story/6780/5835174\"><span class=\"img-boxs\"><img class=\"lazyload\" data-sizes=\"auto\" data-src=\"https://pgw.udn.com.tw/gw/photo.php?u=https://uc.udn.com.tw/photo/2021/10/22/0/14382124.jpg&amp;x=0&amp;y=0&amp;sw=0&amp;sh=0&amp;sl=W&amp;fw=220&amp;exp=3600\"/></span><h3>質疑75大球星名單 湯普森自認應該入選</h3><b class=\"h24\">2分鐘 以前</b><p>NBA官方今日公佈75大球星的第3波名單，在有球員得票數相同的情況下，總人數達到76人，其中現役球...</p></a></dt><dt><a href=\"/nba/story/6780/5835075\"><span class=\"img-boxs\"><img class=\"lazyload\" data-sizes=\"auto\" data-src=\"https://pgw.udn.com.tw/gw/photo.php?u=https://uc.udn.com.tw/photo/2021/10/22/0/14381551.jpg&amp;x=0&amp;y=0&amp;sw=0&amp;sh=0&amp;sl=W&amp;fw=220&amp;exp=3600\"/></span><h3>老鷹6人得分雙位數 主場開幕戰痛宰獨行俠</h3><b class=\"h24\">55分鐘 以前</b><p>基德（Jason Kidd）執掌獨行俠後首戰前往亞特蘭大踢館，然而卻是遭到老鷹攻守全面碾壓。獨行俠...</p></a></dt><dt><a href=\"/nba/story/6780/5835042\"><span class=\"img-boxs\"><img class=\"lazyload\" data-sizes=\"auto\" data-src=\"https://pgw.udn.com.tw/gw/photo.php?u=https://uc.udn.com.tw/photo/2021/10/22/0/14381207.jpg&amp;x=0&amp;y=0&amp;sw=0&amp;sh=0&amp;sl=W&amp;fw=220&amp;exp=3600\"/></span><h3>NBA公佈第3波75大 布萊恩、詹姆斯領銜</h3><b class=\"h24\">1小時 以前</b><p>NBA官方為紀念75周年，決議評選更新過往50大球星為75大，並於開季前兩天已經先後公佈50人，今...</p></a></dt><dt><a href=\"/nba/story/6780/5834609\"><span class=\"img-boxs\"><img class=\"lazyload\" data-sizes=\"auto\" data-src=\"https://pgw.udn.com.tw/gw/photo.php?u=https://uc.udn.com.tw/photo/2021/10/22/1/14382044.jpg&amp;x=0&amp;y=0&amp;sw=0&amp;sh=0&amp;sl=W&amp;fw=220&amp;exp=3600\"/></span><h3>主場慘敗76人20分 鵜鶘主帥：球隊仍在學習中</h3><b class=\"h24\">2小時 以前</b><p>在明星後衛西蒙斯（Ben Simmons）遭到禁賽的情況下，76人隊昨天作客鵜鶘隊主場迎接賽季開幕...</p></a></dt><dt><a href=\"/nba/story/6780/5833704\"><span class=\"img-boxs\"><img class=\"lazyload\" data-sizes=\"auto\" data-src=\"https://pgw.udn.com.tw/gw/photo.php?u=https://uc.udn.com.tw/photo/2021/10/21/0/14377591.jpg&amp;x=0&amp;y=0&amp;sw=0&amp;sh=0&amp;sl=W&amp;fw=220&amp;exp=3600\"/></span><h3>巴恩斯紀錄之夜 希爾德登頂國王三分球榜</h3><b class=\"h24\">17小時 以前</b><p>國王賽季首戰作客波特蘭，靠著巴恩斯（Harrison Barnes）、福克斯（De'Aaron F...</p></a></dt><dt><a href=\"/nba/story/6780/5833642\"><span class=\"img-boxs\"><img class=\"lazyload\" data-sizes=\"auto\" data-src=\"https://pgw.udn.com.tw/gw/photo.php?u=https://uc.udn.com.tw/photo/2021/10/21/0/14377451.jpg&amp;x=0&amp;y=0&amp;sw=0&amp;sh=0&amp;sl=W&amp;fw=220&amp;exp=3600\"/></span><h3>莫蘭特紀錄直追楊恩 開幕戰史上第2年輕</h3><b class=\"h24\">18小時 以前</b><p>莫蘭特（Ja Morant）在今日主場開幕戰中，展現當家球星的氣勢，全場29投17中，狂轟37分6...</p></a></dt><dt><a href=\"/nba/story/6780/5833430\"><span class=\"img-boxs\"><img class=\"lazyload\" data-sizes=\"auto\" data-src=\"https://pgw.udn.com.tw/gw/photo.php?u=https://uc.udn.com.tw/photo/2021/10/21/0/14376964.jpg&amp;x=0&amp;y=0&amp;sw=0&amp;sh=0&amp;sl=W&amp;fw=220&amp;exp=3600\"/></span><h3>開幕戰「球家」三代同堂 小鮑爾場上場下都吸睛</h3><b class=\"h24\">19小時 以前</b><p>小鮑爾（LaMelo Ball）挾帶新人王氣勢，今日（21號）黃蜂開幕戰不需暖機，立刻就狂飆31分...</p></a></dt><dt><a href=\"/nba/story/6780/5833446\"><span class=\"img-boxs\"><img class=\"lazyload\" data-sizes=\"auto\" data-src=\"https://pgw.udn.com.tw/gw/photo.php?u=https://uc.udn.com.tw/photo/2021/10/21/0/14376968.jpg&amp;x=0&amp;y=0&amp;sw=0&amp;sh=0&amp;sl=W&amp;fw=220&amp;exp=3600\"/></span><h3>爵士主場力壓雷霆 戈貝爾強調防守重要性</h3><b class=\"h24\">19小時 以前</b><p>猶他爵士在主場開幕戰以107比86輕取雷霆，用一個典型的統治級防守迎接新賽季到來。\n",
       "戈貝爾（...</p></a></dt><dt><a href=\"/nba/story/6780/5833338\"><span class=\"img-boxs\"><img class=\"lazyload\" data-sizes=\"auto\" data-src=\"https://pgw.udn.com.tw/gw/photo.php?u=https://uc.udn.com.tw/photo/2021/10/21/0/14376818.jpeg&amp;x=0&amp;y=0&amp;sw=0&amp;sh=0&amp;sl=W&amp;fw=220&amp;exp=3600\"/></span><h3>掃西蒙斯事件低氣壓摘勝 76人將帥盼焦點回歸球賽</h3><b class=\"h24\">19小時 以前</b><p>西蒙斯（Ben Simmons）訓練態度不佳遭球團懲處禁賽，所幸76人今日（21號）不受影響以11...</p></a></dt><dt><a href=\"/nba/story/6780/5833295\"><span class=\"img-boxs\"><img class=\"lazyload\" data-sizes=\"auto\" data-src=\"https://pgw.udn.com.tw/gw/photo.php?u=https://uc.udn.com.tw/photo/2021/10/21/0/14376365.jpg&amp;x=0&amp;y=0&amp;sw=0&amp;sh=0&amp;sl=W&amp;fw=220&amp;exp=3600\"/></span><h3>馬刺大破魔術 波總生涯開幕戰23勝2敗</h3><b class=\"h24\">19小時 以前</b><p>在波波維奇（Gregg Popovich）執教馬刺的第25個開幕戰，球隊陣容也面臨巨大的變動，走上...</p></a></dt></dl></div><!-- /#news_list_body --> <div class=\"pagelink\"><goback></goback><!-- 頁首按鈕 --><!-- 頁中按鈕 --><gopage><a class=\"on\" data-id=\"1\" data-track=\"click\" data-type=\"pagination\">1</a><a data-id=\"2\" data-track=\"click\" data-type=\"pagination\" href=\"/nba/cate/6754/-1/newest/2\">2</a><a data-id=\"3\" data-track=\"click\" data-type=\"pagination\" href=\"/nba/cate/6754/-1/newest/3\">3</a><a data-id=\"4\" data-track=\"click\" data-type=\"pagination\" href=\"/nba/cate/6754/-1/newest/4\">4</a><a data-id=\"5\" data-track=\"click\" data-type=\"pagination\" href=\"/nba/cate/6754/-1/newest/5\">5</a><span style=\"padding:4px 6px\"> … </span></gopage><!-- 頁尾按鈕 --><gonext> <a data-id=\"right\" data-track=\"click\" data-type=\"pagination\" href=\"/nba/cate/6754/-1/newest/2\">下一頁</a> <a data-id=\"last\" data-track=\"click\" data-type=\"pagination\" href=\"/nba/cate/6754/-1/newest/3770\">最後頁</a></gonext> <span class=\"total\">共 3770 頁</span> </div></div><!-- /#news_list --></div><div id=\"sidebar\"><div class=\"ad only_web\"><!-- /129853887/udn.com/NBA/Web/300*250 --><div id=\"google_ad\"><div id=\"div-gpt-ad-1443763782750-2\" style=\"height:250px; width:300px;\"><script type=\"text/javascript\">googletag.cmd.push(function() { googletag.display('div-gpt-ad-1443763782750-2'); });</script></div></div></div><!-- #Location: /inc/ads/page_right/text_desktop --><div class=\"ad\"><!-- /4576170/NBA_web_300*100 --><div id=\"google_ad\"><div id=\"div-gpt-ad-1443766449322-0\" style=\"height:250px; width:300px;\"><script type=\"text/javascript\">googletag.cmd.push(function() { googletag.display('div-gpt-ad-1443766449322-0'); });</script></div></div></div><!-- #Location: /inc/ads/page_right/text_all --><div class=\"box only_web\" id=\"hot_articles\"><div class=\"box-title\">熱門文章</div><div class=\"box_body\" id=\"hot_articles_body\"><dl><dt><a href=\"/nba/story/6780/5823146\">出任名人堂引薦人 庫柯奇曝喬丹一諾千金</a></dt><dt><a href=\"/nba/story/6780/5818940\">詹皇飆30分領三巨頭無用 湖人不敵國王熱身賽全敗</a></dt><dt><a href=\"/nba/story/6780/5830127\">柯瑞大三元引領團隊 勇士逆轉湖人搶首勝</a></dt><dt><a href=\"/nba/story/6780/5832154\">NBA官方持續公佈75大 喬丹領銜第2波名單</a></dt><dt><a href=\"/nba/story/6780/5821324\">柯瑞僅打三節狂轟41分 勇士熱身賽5連勝</a></dt></dl></div><!-- /#hot_articles_body --></div><!-- /#hot_articles --><!-- #Location: temp/inc/ads/page_right/story_hot --><div class=\"box only_web\" id=\"hot_video\"><div class=\"box-title\">最新影音</div> <div class=\"box_body\" id=\"hot_video_body\"> <dl><dt><a href=\"/nba/video/96/1218932\" target=\"_blank\"><span class=\"icon_v\"></span><img src=\"https://cdn.udn.com/img/480/photo/web/video/339488_9c2d560ac344aa8b_o.jpg\" width=\"300\"/><span class=\"wmark\"></span><h3 style=\"width:280px\">精彩演出- Tyler Herro壓哨三分球 (10月22日)</h3><b>00:23</b></a></dt><dt><a href=\"/nba/video/96/1218933\" target=\"_blank\"><span class=\"icon_v\"></span><img src=\"https://cdn.udn.com/img/480/photo/web/video/339489_92c7f8b8ade890ae_o.jpg\" width=\"300\"/><span class=\"wmark\"></span><h3 style=\"width:280px\">精彩演出- Trae Young單場14記助攻 (10月22日)</h3><b>01:53</b></a></dt></dl>\n",
       "</div> <!-- /#hot_video_body --></div><!-- /#hot_video --><!-- #Location: /inc/ads/page_right/story_video --></div></div><div id=\"footer\"><div id=\"footer_head\"><dl><dt><a href=\"//tw.global.nba.com/scores/\">比分</a></dt><dt><a href=\"//tw.global.nba.com/schedule/#!/7\">賽程</a></dt><dt><a href=\"https://nba.udn.com/nba/cate/6756\">影音</a></dt><dt><a href=\"https://nba.udn.com/nba/cate/6754\">新聞</a></dt><dt><a href=\"https://nba.udn.com/nba/cate/6755\">球評</a></dt><dt><a href=\"https://nba.udn.com/photos/index/\" target=\"_blank\">圖輯</a></dt><dt><a href=\"//tw.global.nba.com/standings/\">戰績</a></dt><dt><a href=\"https://nba.udn.com/nba/cate/7460\">焦點球星</a></dt><dt><a href=\"//tw.global.nba.com/teamindex/\">球隊</a></dt><dt><a href=\"//tw.global.nba.com/playerindex/\">球員</a></dt><dt><a href=\"//tw.global.nba.com/statistics/\">數據</a></dt><dt><a href=\"//nba.udn.com/nba/event\">活動</a></dt><dt class=\"os\"><a href=\"https://www.nba.com/watch/streaming-subscriptions?cid=nba:leaguepass:institutional:nbacom:intsites:tw:topnav\" target=\"_blank\">League Pass</a></dt></dl></div><!-- /#footer_head --><div id=\"footer_wrapper\"> <div class=\"only_web\" id=\"footer_wrapper_links\"><a href=\"http://event.udn.com/AD/\" target=\"_blank\">刊登網站廣告</a> ︱<a href=\"http://udn.com/page/topic/496\" target=\"_blank\">網站總覽</a> ︱ <a href=\"https://money.udn.com/member/member_questions\" target=\"_blank\"> FAQ</a>‧<a href=\"https://money.udn.com/about/#contactus\" target=\"_blank\">客服</a> ︱ <a href=\"http://udndata.com/udnauthority.html\" target=\"_blank\">新聞授權</a> ︱ <a href=\"https://member.udn.com/member/rule.jsp\" target=\"_blank\">服務條款</a>‧<a href=\"http://udn.com/page/topic/495\" target=\"_blank\">著作權</a>‧<a href=\"http://www.udngroup.com/members/udn_privacy\" target=\"_blank\">隱私權聲明</a> ︱ <a href=\"http://www.udngroup.com/\" target=\"_blank\"> 聯合報系</a> ︱ <a href=\"http://www.udngroup.com/activies/subscription_info\" target=\"_blank\"> 訂報紙</a> ︱ <a href=\"http://co.udn.com/\" target=\"_blank\">關於我們</a> ︱ <a href=\"http://co.udn.com/CORP/job.html\" target=\"_blank\"> 招募夥伴</a> </div><!-- /#footer_wrapper_links --> <b>聯合線上公司 著作權所有 © udn.com All Rights Reserved.</b> </div> <!-- /#footer_wrapper --><script>console.log('bottom test')</script><link href=\"https://p.udn.com.tw/upf/static/common/google-dfp-native.css?5\" rel=\"stylesheet\"/><script src=\"https://p.udn.com.tw/upf/static/common/google-dfp-native.js?31\"></script><style>#sb-site .sticky-ads.native.visible {\n",
       " bottom: 40px;\n",
       "text-align: center;\n",
       "}\n",
       "\n",
       "@media (max-width: 766px) {\n",
       "#gotop {\n",
       " bottom: 120px;\n",
       "}\n",
       "}</style><div class=\"sticky-ads\" id=\"div-gpt-ad-1438159466246-0\"> <script> googletag.cmd.push(function() {\n",
       " googletag.display(\"div-gpt-ad-1438159466246-0\");\n",
       " });\n",
       " </script></div><script src=\"https://p.udn.com.tw/upf/static/common/scroll-lock.js\"></script><!-- #Location: /inc/ads/page_bottom --></div><!-- /#footer --><a href=\"javascript:void(0);\" id=\"gotop\"><i class=\"i-gotop\"></i></a><!-- /#gotop --><!-- temp/inc/content_html5 --></div></div><!-- /#sb-site --><div class=\"sb-slidebar sb-left\"><ul class=\"list-slidebar\"><li><a href=\"//udn.com\">今日新聞</a></li><li><a href=\"//udn.com/weather/\">生活資訊</a></li><li><a href=\"//vision.udn.com\">願景工程</a></li><li><a href=\"//money.udn.com\">經濟日報網</a></li><li><a href=\"//stars.udn.com\">噓!星聞</a></li><li><a href=\"//style.udn.com\">udnSTYLE</a></li><li><a href=\"//autos.udn.com\">發燒車訊</a></li><li><a href=\"//nba.udn.com\">NBA台灣</a></li><li><a href=\"//game.udn.com\">遊戲角落</a></li><li><a href=\"//global.udn.com\">轉角國際</a></li><li><a href=\"//opinion.udn.com\">鳴人堂</a></li><li><a href=\"//oops.udn.com\">Oops!新鮮事</a></li><li><a href=\"//udn.com/umedia\">u值媒</a></li><li><a href=\"http://blog.udn.com\">udn 部落格</a></li><li><a href=\"//health.udn.com\">元氣網</a></li><li><a href=\"//theme.udn.com\">時事話題</a></li><li><a href=\"//ubrand.udn.com\">倡議家</a></li><li><a href=\"//500times.udn.com\">500輯</a></li><li><a href=\"//reading.udn.com\">讀書吧</a></li><li><a href=\"//story.udn.com/dcstore/Index.do?\">讀創故事</a></li><li><a href=\"//p.udn.com.tw/upf/upeople/index.html\">優人物</a></li><li><a href=\"//udndata.com/ndapp/Index\">知識庫</a></li><li><a href=\"http://paper.udn.com\">電子報</a></li><li><a href=\"//fund.udn.com\">基金</a></li><li><a href=\"//house.udn.com/\">房地產</a></li><li><a href=\"//video.udn.com\">影音網</a></li><li><a href=\"https://udncollege.udn.com\">聯合學苑</a></li><li><a href=\"https://pse.is/CEB8J\">U 利點數</a></li><li><a href=\"https://udn.com/mypage/slist\">我的新聞</a></li><li><a href=\"https://mobile.udn.com/web/app.html\">udn APP</a></li><li><a href=\"https://udn.com/page/topic/496\">網站總覽</a></li><li><a href=\"https://udn.com/page/topic/185\">服務條款</a></li><li><a href=\"https://udn.com/page/topic/871\">刊登網站廣告</a></li></ul></div><!-- #Location: /temp/inc/sb-site --><!-- Slidebars --><!-- page bottom --><div id=\"show_box\"></div><script src=\"/js/bundle.cate.js?2019042201\"></script><script>// $(function(){\n",
       " // $.fn.show_box = function ( url ) {\n",
       " // $('#show_box').stop(true, true).load( url , function() {\n",
       " // $('#show_box .close').click(function ()\n",
       " // {\n",
       " // $('#show_box').stop(true, true).fadeOut();\n",
       " ////$(\"#menu_mark\").stop(true, true).fadeOut();\n",
       " // });\n",
       " // });\n",
       " // $('#show_box').fadeIn();\n",
       " // }\n",
       " // });\n",
       " // var timeoutHandle = null;\n",
       " // if( $(window).width() > 749 )\n",
       " // {\n",
       " // idleState = false;\n",
       " // idleWait = 300000; /* 5'm */\n",
       " ////idleWait = 1000; /* 1's */\n",
       " // $('body').bind('mousemove click keydown scroll', function ()\n",
       " // {\n",
       " // clearTimeout(timeoutHandle);\n",
       " // timeoutHandle = setTimeout(function() {\n",
       " // var channel_id = $('meta[name=\"channel_id\"]').attr('content');\n",
       " // var cate_id = $('meta[name=\"cate_id\"]').attr('content');\n",
       " // $( this ).show_box( '/common/threemin/' + channel_id + '/' + cate_id );\n",
       " // ga('send', 'event', 'Idlepage_' + channel_id, 'popup', {'page': '/common/threemin/' + channel_id + '/' + cate_id});\n",
       " // }, idleWait);\n",
       " // });\n",
       " // $(\"body\").trigger(\"mousemove\");\n",
       " // }</script></body></html>"
      ]
     },
     "execution_count": 3,
     "metadata": {},
     "output_type": "execute_result"
    }
   ],
   "source": [
    "soup=get_soup(url)\n",
    "soup"
   ]
  },
  {
   "cell_type": "code",
   "execution_count": 4,
   "id": "0ad9fff4",
   "metadata": {
    "collapsed": true
   },
   "outputs": [
    {
     "data": {
      "text/plain": [
       "[<dt><a href=\"/nba/story/6780/5835174\"><span class=\"img-boxs\"><img class=\"lazyload\" data-sizes=\"auto\" data-src=\"https://pgw.udn.com.tw/gw/photo.php?u=https://uc.udn.com.tw/photo/2021/10/22/0/14382124.jpg&amp;x=0&amp;y=0&amp;sw=0&amp;sh=0&amp;sl=W&amp;fw=220&amp;exp=3600\"/></span><h3>質疑75大球星名單 湯普森自認應該入選</h3><b class=\"h24\">2分鐘 以前</b><p>NBA官方今日公佈75大球星的第3波名單，在有球員得票數相同的情況下，總人數達到76人，其中現役球...</p></a></dt>,\n",
       " <dt><a href=\"/nba/story/6780/5835075\"><span class=\"img-boxs\"><img class=\"lazyload\" data-sizes=\"auto\" data-src=\"https://pgw.udn.com.tw/gw/photo.php?u=https://uc.udn.com.tw/photo/2021/10/22/0/14381551.jpg&amp;x=0&amp;y=0&amp;sw=0&amp;sh=0&amp;sl=W&amp;fw=220&amp;exp=3600\"/></span><h3>老鷹6人得分雙位數 主場開幕戰痛宰獨行俠</h3><b class=\"h24\">55分鐘 以前</b><p>基德（Jason Kidd）執掌獨行俠後首戰前往亞特蘭大踢館，然而卻是遭到老鷹攻守全面碾壓。獨行俠...</p></a></dt>,\n",
       " <dt><a href=\"/nba/story/6780/5835042\"><span class=\"img-boxs\"><img class=\"lazyload\" data-sizes=\"auto\" data-src=\"https://pgw.udn.com.tw/gw/photo.php?u=https://uc.udn.com.tw/photo/2021/10/22/0/14381207.jpg&amp;x=0&amp;y=0&amp;sw=0&amp;sh=0&amp;sl=W&amp;fw=220&amp;exp=3600\"/></span><h3>NBA公佈第3波75大 布萊恩、詹姆斯領銜</h3><b class=\"h24\">1小時 以前</b><p>NBA官方為紀念75周年，決議評選更新過往50大球星為75大，並於開季前兩天已經先後公佈50人，今...</p></a></dt>,\n",
       " <dt><a href=\"/nba/story/6780/5834609\"><span class=\"img-boxs\"><img class=\"lazyload\" data-sizes=\"auto\" data-src=\"https://pgw.udn.com.tw/gw/photo.php?u=https://uc.udn.com.tw/photo/2021/10/22/1/14382044.jpg&amp;x=0&amp;y=0&amp;sw=0&amp;sh=0&amp;sl=W&amp;fw=220&amp;exp=3600\"/></span><h3>主場慘敗76人20分 鵜鶘主帥：球隊仍在學習中</h3><b class=\"h24\">2小時 以前</b><p>在明星後衛西蒙斯（Ben Simmons）遭到禁賽的情況下，76人隊昨天作客鵜鶘隊主場迎接賽季開幕...</p></a></dt>,\n",
       " <dt><a href=\"/nba/story/6780/5833704\"><span class=\"img-boxs\"><img class=\"lazyload\" data-sizes=\"auto\" data-src=\"https://pgw.udn.com.tw/gw/photo.php?u=https://uc.udn.com.tw/photo/2021/10/21/0/14377591.jpg&amp;x=0&amp;y=0&amp;sw=0&amp;sh=0&amp;sl=W&amp;fw=220&amp;exp=3600\"/></span><h3>巴恩斯紀錄之夜 希爾德登頂國王三分球榜</h3><b class=\"h24\">17小時 以前</b><p>國王賽季首戰作客波特蘭，靠著巴恩斯（Harrison Barnes）、福克斯（De'Aaron F...</p></a></dt>,\n",
       " <dt><a href=\"/nba/story/6780/5833642\"><span class=\"img-boxs\"><img class=\"lazyload\" data-sizes=\"auto\" data-src=\"https://pgw.udn.com.tw/gw/photo.php?u=https://uc.udn.com.tw/photo/2021/10/21/0/14377451.jpg&amp;x=0&amp;y=0&amp;sw=0&amp;sh=0&amp;sl=W&amp;fw=220&amp;exp=3600\"/></span><h3>莫蘭特紀錄直追楊恩 開幕戰史上第2年輕</h3><b class=\"h24\">18小時 以前</b><p>莫蘭特（Ja Morant）在今日主場開幕戰中，展現當家球星的氣勢，全場29投17中，狂轟37分6...</p></a></dt>,\n",
       " <dt><a href=\"/nba/story/6780/5833430\"><span class=\"img-boxs\"><img class=\"lazyload\" data-sizes=\"auto\" data-src=\"https://pgw.udn.com.tw/gw/photo.php?u=https://uc.udn.com.tw/photo/2021/10/21/0/14376964.jpg&amp;x=0&amp;y=0&amp;sw=0&amp;sh=0&amp;sl=W&amp;fw=220&amp;exp=3600\"/></span><h3>開幕戰「球家」三代同堂 小鮑爾場上場下都吸睛</h3><b class=\"h24\">19小時 以前</b><p>小鮑爾（LaMelo Ball）挾帶新人王氣勢，今日（21號）黃蜂開幕戰不需暖機，立刻就狂飆31分...</p></a></dt>,\n",
       " <dt><a href=\"/nba/story/6780/5833446\"><span class=\"img-boxs\"><img class=\"lazyload\" data-sizes=\"auto\" data-src=\"https://pgw.udn.com.tw/gw/photo.php?u=https://uc.udn.com.tw/photo/2021/10/21/0/14376968.jpg&amp;x=0&amp;y=0&amp;sw=0&amp;sh=0&amp;sl=W&amp;fw=220&amp;exp=3600\"/></span><h3>爵士主場力壓雷霆 戈貝爾強調防守重要性</h3><b class=\"h24\">19小時 以前</b><p>猶他爵士在主場開幕戰以107比86輕取雷霆，用一個典型的統治級防守迎接新賽季到來。\n",
       " 戈貝爾（...</p></a></dt>,\n",
       " <dt><a href=\"/nba/story/6780/5833338\"><span class=\"img-boxs\"><img class=\"lazyload\" data-sizes=\"auto\" data-src=\"https://pgw.udn.com.tw/gw/photo.php?u=https://uc.udn.com.tw/photo/2021/10/21/0/14376818.jpeg&amp;x=0&amp;y=0&amp;sw=0&amp;sh=0&amp;sl=W&amp;fw=220&amp;exp=3600\"/></span><h3>掃西蒙斯事件低氣壓摘勝 76人將帥盼焦點回歸球賽</h3><b class=\"h24\">19小時 以前</b><p>西蒙斯（Ben Simmons）訓練態度不佳遭球團懲處禁賽，所幸76人今日（21號）不受影響以11...</p></a></dt>,\n",
       " <dt><a href=\"/nba/story/6780/5833295\"><span class=\"img-boxs\"><img class=\"lazyload\" data-sizes=\"auto\" data-src=\"https://pgw.udn.com.tw/gw/photo.php?u=https://uc.udn.com.tw/photo/2021/10/21/0/14376365.jpg&amp;x=0&amp;y=0&amp;sw=0&amp;sh=0&amp;sl=W&amp;fw=220&amp;exp=3600\"/></span><h3>馬刺大破魔術 波總生涯開幕戰23勝2敗</h3><b class=\"h24\">19小時 以前</b><p>在波波維奇（Gregg Popovich）執教馬刺的第25個開幕戰，球隊陣容也面臨巨大的變動，走上...</p></a></dt>]"
      ]
     },
     "execution_count": 4,
     "metadata": {},
     "output_type": "execute_result"
    }
   ],
   "source": [
    "data=soup.find(id=\"news_list_body\").find_all('dt')\n",
    "data"
   ]
  },
  {
   "cell_type": "code",
   "execution_count": 5,
   "id": "90c5b053",
   "metadata": {
    "scrolled": true
   },
   "outputs": [
    {
     "data": {
      "text/plain": [
       "<dt><a href=\"/nba/story/6780/5835174\"><span class=\"img-boxs\"><img class=\"lazyload\" data-sizes=\"auto\" data-src=\"https://pgw.udn.com.tw/gw/photo.php?u=https://uc.udn.com.tw/photo/2021/10/22/0/14382124.jpg&amp;x=0&amp;y=0&amp;sw=0&amp;sh=0&amp;sl=W&amp;fw=220&amp;exp=3600\"/></span><h3>質疑75大球星名單 湯普森自認應該入選</h3><b class=\"h24\">2分鐘 以前</b><p>NBA官方今日公佈75大球星的第3波名單，在有球員得票數相同的情況下，總人數達到76人，其中現役球...</p></a></dt>"
      ]
     },
     "execution_count": 5,
     "metadata": {},
     "output_type": "execute_result"
    }
   ],
   "source": [
    "dt=data[0]\n",
    "dt"
   ]
  },
  {
   "cell_type": "code",
   "execution_count": 6,
   "id": "abdd069c",
   "metadata": {},
   "outputs": [
    {
     "data": {
      "text/plain": [
       "'質疑75大球星名單 湯普森自認應該入選'"
      ]
     },
     "execution_count": 6,
     "metadata": {},
     "output_type": "execute_result"
    }
   ],
   "source": [
    "dt.find('a').h3.text.strip()"
   ]
  },
  {
   "cell_type": "code",
   "execution_count": 7,
   "id": "f70a4025",
   "metadata": {},
   "outputs": [
    {
     "data": {
      "text/plain": [
       "'NBA官方今日公佈75大球星的第3波名單，在有球員得票數相同的情況下，總人數達到76人，其中現役球...'"
      ]
     },
     "execution_count": 7,
     "metadata": {},
     "output_type": "execute_result"
    }
   ],
   "source": [
    "dt.find('a').find('p').text.strip()"
   ]
  },
  {
   "cell_type": "code",
   "execution_count": 8,
   "id": "3251ddb5",
   "metadata": {},
   "outputs": [],
   "source": [
    "domain_url=\"https://nba.udn.com\""
   ]
  },
  {
   "cell_type": "code",
   "execution_count": 9,
   "id": "18c24706",
   "metadata": {},
   "outputs": [
    {
     "data": {
      "text/plain": [
       "'/nba/story/6780/5835174'"
      ]
     },
     "execution_count": 9,
     "metadata": {},
     "output_type": "execute_result"
    }
   ],
   "source": [
    "dt.find('a').get('href')"
   ]
  },
  {
   "cell_type": "markdown",
   "id": "b09bc222",
   "metadata": {},
   "source": [
    "### 照片url"
   ]
  },
  {
   "cell_type": "code",
   "execution_count": 10,
   "id": "ed441e59",
   "metadata": {},
   "outputs": [
    {
     "name": "stdout",
     "output_type": "stream",
     "text": [
      "https://pgw.udn.com.tw/gw/photo.php?u=https://uc.udn.com.tw/photo/2021/10/22/0/14382124.jpg&x=0&y=0&sw=0&sh=0&sl=W&fw=220&exp=3600\n"
     ]
    }
   ],
   "source": [
    "image_url=dt.find('a').find('img').get('data-src')\n",
    "print(image_url)"
   ]
  },
  {
   "cell_type": "code",
   "execution_count": 11,
   "id": "bd381b86",
   "metadata": {},
   "outputs": [
    {
     "data": {
      "text/plain": [
       "(35, 91)"
      ]
     },
     "execution_count": 11,
     "metadata": {},
     "output_type": "execute_result"
    }
   ],
   "source": [
    "image_url.index('?u='),image_url.index('&x')"
   ]
  },
  {
   "cell_type": "code",
   "execution_count": 12,
   "id": "a3515862",
   "metadata": {},
   "outputs": [
    {
     "data": {
      "text/plain": [
       "'https://uc.udn.com.tw/photo/2021/10/22/0/14382124.jpg'"
      ]
     },
     "execution_count": 12,
     "metadata": {},
     "output_type": "execute_result"
    }
   ],
   "source": [
    "image_url[image_url.index('?u=')+3:image_url.index('&x')]"
   ]
  },
  {
   "cell_type": "code",
   "execution_count": null,
   "id": "41f71c95",
   "metadata": {},
   "outputs": [],
   "source": []
  },
  {
   "cell_type": "markdown",
   "id": "fc9d33c1",
   "metadata": {},
   "source": [
    "### 開始"
   ]
  },
  {
   "cell_type": "code",
   "execution_count": 13,
   "id": "64ed4253",
   "metadata": {
    "collapsed": true
   },
   "outputs": [
    {
     "data": {
      "text/plain": [
       "[<dt><a href=\"https://nba.udn.com/nba/video/96/565407\"><img src=\"https://pgw.udn.com.tw/gw/photo.php?u=https://uc.udn.com.tw/photo/2020/07/22/1/8230503.jpeg&amp;x=0&amp;y=0&amp;sw=0&amp;sh=0&amp;sl=W&amp;fw=1050&amp;exp=3600\"/><span class=\"wmark\"></span><h3> Kevin Garnett生涯十大好球</h3></a></dt>,\n",
       " <dt><a href=\"https://nba.udn.com/nba/video/96/524354\"><img src=\"https://pgw.udn.com.tw/gw/photo.php?u=https://uc.udn.com.tw/photo/2018/08/13/99/5123260.jpg&amp;x=0&amp;y=0&amp;sw=0&amp;sh=0&amp;sl=W&amp;fw=1050&amp;exp=3600\"/><span class=\"wmark\"></span><h3> Tim Duncan生涯十大好球</h3></a></dt>,\n",
       " <dt><a href=\"/nba/story/6780/5835174\"><span class=\"img-boxs\"><img class=\"lazyload\" data-sizes=\"auto\" data-src=\"https://pgw.udn.com.tw/gw/photo.php?u=https://uc.udn.com.tw/photo/2021/10/22/0/14382124.jpg&amp;x=0&amp;y=0&amp;sw=0&amp;sh=0&amp;sl=W&amp;fw=220&amp;exp=3600\"/></span><h3>質疑75大球星名單 湯普森自認應該入選</h3><b class=\"h24\">2分鐘 以前</b><p>NBA官方今日公佈75大球星的第3波名單，在有球員得票數相同的情況下，總人數達到76人，其中現役球...</p></a></dt>,\n",
       " <dt><a href=\"/nba/story/6780/5835075\"><span class=\"img-boxs\"><img class=\"lazyload\" data-sizes=\"auto\" data-src=\"https://pgw.udn.com.tw/gw/photo.php?u=https://uc.udn.com.tw/photo/2021/10/22/0/14381551.jpg&amp;x=0&amp;y=0&amp;sw=0&amp;sh=0&amp;sl=W&amp;fw=220&amp;exp=3600\"/></span><h3>老鷹6人得分雙位數 主場開幕戰痛宰獨行俠</h3><b class=\"h24\">55分鐘 以前</b><p>基德（Jason Kidd）執掌獨行俠後首戰前往亞特蘭大踢館，然而卻是遭到老鷹攻守全面碾壓。獨行俠...</p></a></dt>,\n",
       " <dt><a href=\"/nba/story/6780/5835042\"><span class=\"img-boxs\"><img class=\"lazyload\" data-sizes=\"auto\" data-src=\"https://pgw.udn.com.tw/gw/photo.php?u=https://uc.udn.com.tw/photo/2021/10/22/0/14381207.jpg&amp;x=0&amp;y=0&amp;sw=0&amp;sh=0&amp;sl=W&amp;fw=220&amp;exp=3600\"/></span><h3>NBA公佈第3波75大 布萊恩、詹姆斯領銜</h3><b class=\"h24\">1小時 以前</b><p>NBA官方為紀念75周年，決議評選更新過往50大球星為75大，並於開季前兩天已經先後公佈50人，今...</p></a></dt>,\n",
       " <dt><a href=\"/nba/story/6780/5834609\"><span class=\"img-boxs\"><img class=\"lazyload\" data-sizes=\"auto\" data-src=\"https://pgw.udn.com.tw/gw/photo.php?u=https://uc.udn.com.tw/photo/2021/10/22/1/14382044.jpg&amp;x=0&amp;y=0&amp;sw=0&amp;sh=0&amp;sl=W&amp;fw=220&amp;exp=3600\"/></span><h3>主場慘敗76人20分 鵜鶘主帥：球隊仍在學習中</h3><b class=\"h24\">2小時 以前</b><p>在明星後衛西蒙斯（Ben Simmons）遭到禁賽的情況下，76人隊昨天作客鵜鶘隊主場迎接賽季開幕...</p></a></dt>,\n",
       " <dt><a href=\"/nba/story/6780/5833704\"><span class=\"img-boxs\"><img class=\"lazyload\" data-sizes=\"auto\" data-src=\"https://pgw.udn.com.tw/gw/photo.php?u=https://uc.udn.com.tw/photo/2021/10/21/0/14377591.jpg&amp;x=0&amp;y=0&amp;sw=0&amp;sh=0&amp;sl=W&amp;fw=220&amp;exp=3600\"/></span><h3>巴恩斯紀錄之夜 希爾德登頂國王三分球榜</h3><b class=\"h24\">17小時 以前</b><p>國王賽季首戰作客波特蘭，靠著巴恩斯（Harrison Barnes）、福克斯（De'Aaron F...</p></a></dt>,\n",
       " <dt><a href=\"/nba/story/6780/5833642\"><span class=\"img-boxs\"><img class=\"lazyload\" data-sizes=\"auto\" data-src=\"https://pgw.udn.com.tw/gw/photo.php?u=https://uc.udn.com.tw/photo/2021/10/21/0/14377451.jpg&amp;x=0&amp;y=0&amp;sw=0&amp;sh=0&amp;sl=W&amp;fw=220&amp;exp=3600\"/></span><h3>莫蘭特紀錄直追楊恩 開幕戰史上第2年輕</h3><b class=\"h24\">18小時 以前</b><p>莫蘭特（Ja Morant）在今日主場開幕戰中，展現當家球星的氣勢，全場29投17中，狂轟37分6...</p></a></dt>,\n",
       " <dt><a href=\"/nba/story/6780/5833430\"><span class=\"img-boxs\"><img class=\"lazyload\" data-sizes=\"auto\" data-src=\"https://pgw.udn.com.tw/gw/photo.php?u=https://uc.udn.com.tw/photo/2021/10/21/0/14376964.jpg&amp;x=0&amp;y=0&amp;sw=0&amp;sh=0&amp;sl=W&amp;fw=220&amp;exp=3600\"/></span><h3>開幕戰「球家」三代同堂 小鮑爾場上場下都吸睛</h3><b class=\"h24\">19小時 以前</b><p>小鮑爾（LaMelo Ball）挾帶新人王氣勢，今日（21號）黃蜂開幕戰不需暖機，立刻就狂飆31分...</p></a></dt>,\n",
       " <dt><a href=\"/nba/story/6780/5833446\"><span class=\"img-boxs\"><img class=\"lazyload\" data-sizes=\"auto\" data-src=\"https://pgw.udn.com.tw/gw/photo.php?u=https://uc.udn.com.tw/photo/2021/10/21/0/14376968.jpg&amp;x=0&amp;y=0&amp;sw=0&amp;sh=0&amp;sl=W&amp;fw=220&amp;exp=3600\"/></span><h3>爵士主場力壓雷霆 戈貝爾強調防守重要性</h3><b class=\"h24\">19小時 以前</b><p>猶他爵士在主場開幕戰以107比86輕取雷霆，用一個典型的統治級防守迎接新賽季到來。\n",
       " 戈貝爾（...</p></a></dt>,\n",
       " <dt><a href=\"/nba/story/6780/5833338\"><span class=\"img-boxs\"><img class=\"lazyload\" data-sizes=\"auto\" data-src=\"https://pgw.udn.com.tw/gw/photo.php?u=https://uc.udn.com.tw/photo/2021/10/21/0/14376818.jpeg&amp;x=0&amp;y=0&amp;sw=0&amp;sh=0&amp;sl=W&amp;fw=220&amp;exp=3600\"/></span><h3>掃西蒙斯事件低氣壓摘勝 76人將帥盼焦點回歸球賽</h3><b class=\"h24\">19小時 以前</b><p>西蒙斯（Ben Simmons）訓練態度不佳遭球團懲處禁賽，所幸76人今日（21號）不受影響以11...</p></a></dt>,\n",
       " <dt><a href=\"/nba/story/6780/5833295\"><span class=\"img-boxs\"><img class=\"lazyload\" data-sizes=\"auto\" data-src=\"https://pgw.udn.com.tw/gw/photo.php?u=https://uc.udn.com.tw/photo/2021/10/21/0/14376365.jpg&amp;x=0&amp;y=0&amp;sw=0&amp;sh=0&amp;sl=W&amp;fw=220&amp;exp=3600\"/></span><h3>馬刺大破魔術 波總生涯開幕戰23勝2敗</h3><b class=\"h24\">19小時 以前</b><p>在波波維奇（Gregg Popovich）執教馬刺的第25個開幕戰，球隊陣容也面臨巨大的變動，走上...</p></a></dt>,\n",
       " <dt><a href=\"/nba/story/6780/5823146\">出任名人堂引薦人 庫柯奇曝喬丹一諾千金</a></dt>,\n",
       " <dt><a href=\"/nba/story/6780/5818940\">詹皇飆30分領三巨頭無用 湖人不敵國王熱身賽全敗</a></dt>,\n",
       " <dt><a href=\"/nba/story/6780/5830127\">柯瑞大三元引領團隊 勇士逆轉湖人搶首勝</a></dt>,\n",
       " <dt><a href=\"/nba/story/6780/5832154\">NBA官方持續公佈75大 喬丹領銜第2波名單</a></dt>,\n",
       " <dt><a href=\"/nba/story/6780/5821324\">柯瑞僅打三節狂轟41分 勇士熱身賽5連勝</a></dt>,\n",
       " <dt><a href=\"/nba/video/96/1218932\" target=\"_blank\"><span class=\"icon_v\"></span><img src=\"https://cdn.udn.com/img/480/photo/web/video/339488_9c2d560ac344aa8b_o.jpg\" width=\"300\"/><span class=\"wmark\"></span><h3 style=\"width:280px\">精彩演出- Tyler Herro壓哨三分球 (10月22日)</h3><b>00:23</b></a></dt>,\n",
       " <dt><a href=\"/nba/video/96/1218933\" target=\"_blank\"><span class=\"icon_v\"></span><img src=\"https://cdn.udn.com/img/480/photo/web/video/339489_92c7f8b8ade890ae_o.jpg\" width=\"300\"/><span class=\"wmark\"></span><h3 style=\"width:280px\">精彩演出- Trae Young單場14記助攻 (10月22日)</h3><b>01:53</b></a></dt>,\n",
       " <dt><a href=\"//tw.global.nba.com/scores/\">比分</a></dt>,\n",
       " <dt><a href=\"//tw.global.nba.com/schedule/#!/7\">賽程</a></dt>,\n",
       " <dt><a href=\"https://nba.udn.com/nba/cate/6756\">影音</a></dt>,\n",
       " <dt><a href=\"https://nba.udn.com/nba/cate/6754\">新聞</a></dt>,\n",
       " <dt><a href=\"https://nba.udn.com/nba/cate/6755\">球評</a></dt>,\n",
       " <dt><a href=\"https://nba.udn.com/photos/index/\" target=\"_blank\">圖輯</a></dt>,\n",
       " <dt><a href=\"//tw.global.nba.com/standings/\">戰績</a></dt>,\n",
       " <dt><a href=\"https://nba.udn.com/nba/cate/7460\">焦點球星</a></dt>,\n",
       " <dt><a href=\"//tw.global.nba.com/teamindex/\">球隊</a></dt>,\n",
       " <dt><a href=\"//tw.global.nba.com/playerindex/\">球員</a></dt>,\n",
       " <dt><a href=\"//tw.global.nba.com/statistics/\">數據</a></dt>,\n",
       " <dt><a href=\"//nba.udn.com/nba/event\">活動</a></dt>,\n",
       " <dt class=\"os\"><a href=\"https://www.nba.com/watch/streaming-subscriptions?cid=nba:leaguepass:institutional:nbacom:intsites:tw:topnav\" target=\"_blank\">League Pass</a></dt>]"
      ]
     },
     "execution_count": 13,
     "metadata": {},
     "output_type": "execute_result"
    }
   ],
   "source": [
    "datas=soup.find_all('dt')\n",
    "datas"
   ]
  },
  {
   "cell_type": "code",
   "execution_count": 14,
   "id": "d82be68f",
   "metadata": {},
   "outputs": [
    {
     "name": "stdout",
     "output_type": "stream",
     "text": [
      "1.質疑75大球星名單 湯普森自認應該入選\n",
      "https://nba.udn.com/nba/story/6780/5835174\n",
      "https://uc.udn.com.tw/photo/2021/10/22/0/14382124.jpg\n",
      "2.老鷹6人得分雙位數 主場開幕戰痛宰獨行俠\n",
      "https://nba.udn.com/nba/story/6780/5835075\n",
      "https://uc.udn.com.tw/photo/2021/10/22/0/14381551.jpg\n",
      "3.NBA公佈第3波75大 布萊恩、詹姆斯領銜\n",
      "https://nba.udn.com/nba/story/6780/5835042\n",
      "https://uc.udn.com.tw/photo/2021/10/22/0/14381207.jpg\n",
      "4.主場慘敗76人20分 鵜鶘主帥：球隊仍在學習中\n",
      "https://nba.udn.com/nba/story/6780/5834609\n",
      "https://uc.udn.com.tw/photo/2021/10/22/1/14382044.jpg\n",
      "5.巴恩斯紀錄之夜 希爾德登頂國王三分球榜\n",
      "https://nba.udn.com/nba/story/6780/5833704\n",
      "https://uc.udn.com.tw/photo/2021/10/21/0/14377591.jpg\n",
      "6.莫蘭特紀錄直追楊恩 開幕戰史上第2年輕\n",
      "https://nba.udn.com/nba/story/6780/5833642\n",
      "https://uc.udn.com.tw/photo/2021/10/21/0/14377451.jpg\n",
      "7.開幕戰「球家」三代同堂 小鮑爾場上場下都吸睛\n",
      "https://nba.udn.com/nba/story/6780/5833430\n",
      "https://uc.udn.com.tw/photo/2021/10/21/0/14376964.jpg\n",
      "8.爵士主場力壓雷霆 戈貝爾強調防守重要性\n",
      "https://nba.udn.com/nba/story/6780/5833446\n",
      "https://uc.udn.com.tw/photo/2021/10/21/0/14376968.jpg\n",
      "9.掃西蒙斯事件低氣壓摘勝 76人將帥盼焦點回歸球賽\n",
      "https://nba.udn.com/nba/story/6780/5833338\n",
      "https://uc.udn.com.tw/photo/2021/10/21/0/14376818.jpeg\n",
      "10.馬刺大破魔術 波總生涯開幕戰23勝2敗\n",
      "https://nba.udn.com/nba/story/6780/5833295\n",
      "https://uc.udn.com.tw/photo/2021/10/21/0/14376365.jpg\n"
     ]
    },
    {
     "data": {
      "text/plain": [
       "[['質疑75大球星名單 湯普森自認應該入選',\n",
       "  'https://nba.udn.com/nba/story/6780/5835174',\n",
       "  'https://uc.udn.com.tw/photo/2021/10/22/0/14382124.jpg'],\n",
       " ['老鷹6人得分雙位數 主場開幕戰痛宰獨行俠',\n",
       "  'https://nba.udn.com/nba/story/6780/5835075',\n",
       "  'https://uc.udn.com.tw/photo/2021/10/22/0/14381551.jpg'],\n",
       " ['NBA公佈第3波75大 布萊恩、詹姆斯領銜',\n",
       "  'https://nba.udn.com/nba/story/6780/5835042',\n",
       "  'https://uc.udn.com.tw/photo/2021/10/22/0/14381207.jpg'],\n",
       " ['主場慘敗76人20分 鵜鶘主帥：球隊仍在學習中',\n",
       "  'https://nba.udn.com/nba/story/6780/5834609',\n",
       "  'https://uc.udn.com.tw/photo/2021/10/22/1/14382044.jpg'],\n",
       " ['巴恩斯紀錄之夜 希爾德登頂國王三分球榜',\n",
       "  'https://nba.udn.com/nba/story/6780/5833704',\n",
       "  'https://uc.udn.com.tw/photo/2021/10/21/0/14377591.jpg'],\n",
       " ['莫蘭特紀錄直追楊恩 開幕戰史上第2年輕',\n",
       "  'https://nba.udn.com/nba/story/6780/5833642',\n",
       "  'https://uc.udn.com.tw/photo/2021/10/21/0/14377451.jpg'],\n",
       " ['開幕戰「球家」三代同堂 小鮑爾場上場下都吸睛',\n",
       "  'https://nba.udn.com/nba/story/6780/5833430',\n",
       "  'https://uc.udn.com.tw/photo/2021/10/21/0/14376964.jpg'],\n",
       " ['爵士主場力壓雷霆 戈貝爾強調防守重要性',\n",
       "  'https://nba.udn.com/nba/story/6780/5833446',\n",
       "  'https://uc.udn.com.tw/photo/2021/10/21/0/14376968.jpg'],\n",
       " ['掃西蒙斯事件低氣壓摘勝 76人將帥盼焦點回歸球賽',\n",
       "  'https://nba.udn.com/nba/story/6780/5833338',\n",
       "  'https://uc.udn.com.tw/photo/2021/10/21/0/14376818.jpeg'],\n",
       " ['馬刺大破魔術 波總生涯開幕戰23勝2敗',\n",
       "  'https://nba.udn.com/nba/story/6780/5833295',\n",
       "  'https://uc.udn.com.tw/photo/2021/10/21/0/14376365.jpg']]"
      ]
     },
     "execution_count": 14,
     "metadata": {},
     "output_type": "execute_result"
    }
   ],
   "source": [
    "count=0\n",
    "nba_list=[]\n",
    "for dt in data:\n",
    "    title=dt.find('a').h3.text.strip()\n",
    "    news_url=\"https://nba.udn.com\"+dt.find('a').get('href')\n",
    "    image_url=dt.find('a').find('img').get('data-src')\n",
    "    image_url=image_url[image_url.index('?u=')+len('?u='):image_url.index('&x')]\n",
    "\n",
    "    print(f'{count+1}.{title}')\n",
    "    print(news_url)\n",
    "    print(image_url)\n",
    "    \n",
    "    nba_list.append([title,news_url,image_url])\n",
    "    count+=1\n",
    "    \n",
    "nba_list"
   ]
  },
  {
   "cell_type": "code",
   "execution_count": 15,
   "id": "5c278dd6",
   "metadata": {},
   "outputs": [],
   "source": [
    "import pandas as pd"
   ]
  },
  {
   "cell_type": "code",
   "execution_count": 16,
   "id": "d675070a",
   "metadata": {},
   "outputs": [
    {
     "data": {
      "text/html": [
       "<div>\n",
       "<style scoped>\n",
       "    .dataframe tbody tr th:only-of-type {\n",
       "        vertical-align: middle;\n",
       "    }\n",
       "\n",
       "    .dataframe tbody tr th {\n",
       "        vertical-align: top;\n",
       "    }\n",
       "\n",
       "    .dataframe thead th {\n",
       "        text-align: right;\n",
       "    }\n",
       "</style>\n",
       "<table border=\"1\" class=\"dataframe\">\n",
       "  <thead>\n",
       "    <tr style=\"text-align: right;\">\n",
       "      <th></th>\n",
       "      <th>title</th>\n",
       "      <th>url</th>\n",
       "      <th>image</th>\n",
       "    </tr>\n",
       "  </thead>\n",
       "  <tbody>\n",
       "    <tr>\n",
       "      <th>0</th>\n",
       "      <td>質疑75大球星名單 湯普森自認應該入選</td>\n",
       "      <td>https://nba.udn.com/nba/story/6780/5835174</td>\n",
       "      <td>https://uc.udn.com.tw/photo/2021/10/22/0/14382...</td>\n",
       "    </tr>\n",
       "    <tr>\n",
       "      <th>1</th>\n",
       "      <td>老鷹6人得分雙位數 主場開幕戰痛宰獨行俠</td>\n",
       "      <td>https://nba.udn.com/nba/story/6780/5835075</td>\n",
       "      <td>https://uc.udn.com.tw/photo/2021/10/22/0/14381...</td>\n",
       "    </tr>\n",
       "    <tr>\n",
       "      <th>2</th>\n",
       "      <td>NBA公佈第3波75大 布萊恩、詹姆斯領銜</td>\n",
       "      <td>https://nba.udn.com/nba/story/6780/5835042</td>\n",
       "      <td>https://uc.udn.com.tw/photo/2021/10/22/0/14381...</td>\n",
       "    </tr>\n",
       "    <tr>\n",
       "      <th>3</th>\n",
       "      <td>主場慘敗76人20分 鵜鶘主帥：球隊仍在學習中</td>\n",
       "      <td>https://nba.udn.com/nba/story/6780/5834609</td>\n",
       "      <td>https://uc.udn.com.tw/photo/2021/10/22/1/14382...</td>\n",
       "    </tr>\n",
       "    <tr>\n",
       "      <th>4</th>\n",
       "      <td>巴恩斯紀錄之夜 希爾德登頂國王三分球榜</td>\n",
       "      <td>https://nba.udn.com/nba/story/6780/5833704</td>\n",
       "      <td>https://uc.udn.com.tw/photo/2021/10/21/0/14377...</td>\n",
       "    </tr>\n",
       "    <tr>\n",
       "      <th>5</th>\n",
       "      <td>莫蘭特紀錄直追楊恩 開幕戰史上第2年輕</td>\n",
       "      <td>https://nba.udn.com/nba/story/6780/5833642</td>\n",
       "      <td>https://uc.udn.com.tw/photo/2021/10/21/0/14377...</td>\n",
       "    </tr>\n",
       "    <tr>\n",
       "      <th>6</th>\n",
       "      <td>開幕戰「球家」三代同堂 小鮑爾場上場下都吸睛</td>\n",
       "      <td>https://nba.udn.com/nba/story/6780/5833430</td>\n",
       "      <td>https://uc.udn.com.tw/photo/2021/10/21/0/14376...</td>\n",
       "    </tr>\n",
       "    <tr>\n",
       "      <th>7</th>\n",
       "      <td>爵士主場力壓雷霆 戈貝爾強調防守重要性</td>\n",
       "      <td>https://nba.udn.com/nba/story/6780/5833446</td>\n",
       "      <td>https://uc.udn.com.tw/photo/2021/10/21/0/14376...</td>\n",
       "    </tr>\n",
       "    <tr>\n",
       "      <th>8</th>\n",
       "      <td>掃西蒙斯事件低氣壓摘勝 76人將帥盼焦點回歸球賽</td>\n",
       "      <td>https://nba.udn.com/nba/story/6780/5833338</td>\n",
       "      <td>https://uc.udn.com.tw/photo/2021/10/21/0/14376...</td>\n",
       "    </tr>\n",
       "    <tr>\n",
       "      <th>9</th>\n",
       "      <td>馬刺大破魔術 波總生涯開幕戰23勝2敗</td>\n",
       "      <td>https://nba.udn.com/nba/story/6780/5833295</td>\n",
       "      <td>https://uc.udn.com.tw/photo/2021/10/21/0/14376...</td>\n",
       "    </tr>\n",
       "  </tbody>\n",
       "</table>\n",
       "</div>"
      ],
      "text/plain": [
       "                      title                                         url  \\\n",
       "0       質疑75大球星名單 湯普森自認應該入選  https://nba.udn.com/nba/story/6780/5835174   \n",
       "1      老鷹6人得分雙位數 主場開幕戰痛宰獨行俠  https://nba.udn.com/nba/story/6780/5835075   \n",
       "2     NBA公佈第3波75大 布萊恩、詹姆斯領銜  https://nba.udn.com/nba/story/6780/5835042   \n",
       "3   主場慘敗76人20分 鵜鶘主帥：球隊仍在學習中  https://nba.udn.com/nba/story/6780/5834609   \n",
       "4       巴恩斯紀錄之夜 希爾德登頂國王三分球榜  https://nba.udn.com/nba/story/6780/5833704   \n",
       "5       莫蘭特紀錄直追楊恩 開幕戰史上第2年輕  https://nba.udn.com/nba/story/6780/5833642   \n",
       "6    開幕戰「球家」三代同堂 小鮑爾場上場下都吸睛  https://nba.udn.com/nba/story/6780/5833430   \n",
       "7       爵士主場力壓雷霆 戈貝爾強調防守重要性  https://nba.udn.com/nba/story/6780/5833446   \n",
       "8  掃西蒙斯事件低氣壓摘勝 76人將帥盼焦點回歸球賽  https://nba.udn.com/nba/story/6780/5833338   \n",
       "9       馬刺大破魔術 波總生涯開幕戰23勝2敗  https://nba.udn.com/nba/story/6780/5833295   \n",
       "\n",
       "                                               image  \n",
       "0  https://uc.udn.com.tw/photo/2021/10/22/0/14382...  \n",
       "1  https://uc.udn.com.tw/photo/2021/10/22/0/14381...  \n",
       "2  https://uc.udn.com.tw/photo/2021/10/22/0/14381...  \n",
       "3  https://uc.udn.com.tw/photo/2021/10/22/1/14382...  \n",
       "4  https://uc.udn.com.tw/photo/2021/10/21/0/14377...  \n",
       "5  https://uc.udn.com.tw/photo/2021/10/21/0/14377...  \n",
       "6  https://uc.udn.com.tw/photo/2021/10/21/0/14376...  \n",
       "7  https://uc.udn.com.tw/photo/2021/10/21/0/14376...  \n",
       "8  https://uc.udn.com.tw/photo/2021/10/21/0/14376...  \n",
       "9  https://uc.udn.com.tw/photo/2021/10/21/0/14376...  "
      ]
     },
     "execution_count": 16,
     "metadata": {},
     "output_type": "execute_result"
    }
   ],
   "source": [
    "df=pd.DataFrame(nba_list,columns=['title','url','image'])\n",
    "df"
   ]
  },
  {
   "cell_type": "code",
   "execution_count": 17,
   "id": "7580b802",
   "metadata": {},
   "outputs": [],
   "source": [
    "df.to_csv('nba_udn.csv',encoding='utf-8-sig')"
   ]
  },
  {
   "cell_type": "code",
   "execution_count": null,
   "id": "c10affeb",
   "metadata": {},
   "outputs": [],
   "source": []
  },
  {
   "cell_type": "code",
   "execution_count": null,
   "id": "ee352522",
   "metadata": {},
   "outputs": [],
   "source": []
  }
 ],
 "metadata": {
  "kernelspec": {
   "display_name": "Python 3",
   "language": "python",
   "name": "python3"
  },
  "language_info": {
   "codemirror_mode": {
    "name": "ipython",
    "version": 3
   },
   "file_extension": ".py",
   "mimetype": "text/x-python",
   "name": "python",
   "nbconvert_exporter": "python",
   "pygments_lexer": "ipython3",
   "version": "3.8.8"
  }
 },
 "nbformat": 4,
 "nbformat_minor": 5
}
