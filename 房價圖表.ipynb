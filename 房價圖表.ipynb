{
 "cells": [
  {
   "cell_type": "markdown",
   "id": "d2581187",
   "metadata": {},
   "source": [
    "### 開啟檔案"
   ]
  },
  {
   "cell_type": "code",
   "execution_count": 84,
   "id": "916cdabf",
   "metadata": {},
   "outputs": [],
   "source": [
    "import pandas as pd"
   ]
  },
  {
   "cell_type": "code",
   "execution_count": 85,
   "id": "6d883bff",
   "metadata": {},
   "outputs": [
    {
     "name": "stdout",
     "output_type": "stream",
     "text": [
      "    Unnamed: 0    縣市  房貸負擔率(%)  房貸負擔率(百分點)季變動值  房貸負擔率(百分點)年變動值  房價所得比(倍)  房價所得比(倍)季變動值  房價所得比(倍)年變動值\n",
      "0            0    全國     36.27           -0.27            1.63      9.07         -0.06          0.41\n",
      "1            1   新北市     48.48           -0.53            2.44     12.13         -0.12          0.62\n",
      "2            2   臺北市     63.11            0.94            5.54     15.79          0.25          1.40\n",
      "3            3   桃園市     30.29            0.34            0.60      7.58          0.09          0.16\n",
      "4            4   臺中市     39.46           -1.17            1.05      9.87         -0.29          0.27\n",
      "5            5   臺南市     31.64            0.52            2.46      7.92          0.14          0.63\n",
      "6            6   高雄市     30.36           -0.04            1.28      7.60          0.00          0.33\n",
      "7            7   宜蘭縣     34.83           -0.23            1.86      8.71         -0.05          0.47\n",
      "8            8   新竹縣     33.00            1.51            0.81      8.26          0.39          0.21\n",
      "9            9   苗栗縣     31.73            0.55            2.86      7.94          0.15          0.72\n",
      "10          10   彰化縣     34.20            0.26           -0.45      8.56          0.08         -0.10\n",
      "11          11   南投縣     34.57           -0.13            4.53      8.65         -0.02          1.14\n",
      "12          12   雲林縣     27.76            0.20           -1.85      6.95          0.06         -0.45\n",
      "13          13   嘉義縣     22.30            1.21            0.80      5.58          0.31          0.21\n",
      "14          14   屏東縣     23.07            0.01            0.80      5.77          0.01          0.20\n",
      "15          15   臺東縣     31.76           -0.26            2.22      7.95         -0.05          0.57\n",
      "16          16   花蓮縣     33.96            0.39            2.84      8.50          0.11          0.72\n",
      "17          17  澎湖縣*     33.30           -3.80            5.38      8.33         -0.95          1.35\n",
      "18          18   基隆市     22.80           -0.06           -0.14      5.70         -0.02         -0.03\n",
      "19          19   新竹市     29.66            0.97            2.61      7.42          0.25          0.66\n",
      "20          20   嘉義市     22.71           -0.03            3.18      5.68         -0.01          0.80\n"
     ]
    }
   ],
   "source": [
    "df=pd.read_csv('各縣市房價比.csv',encoding='utf-8')\n",
    "print(df.to_string())"
   ]
  },
  {
   "cell_type": "code",
   "execution_count": 86,
   "id": "28c5ff61",
   "metadata": {},
   "outputs": [
    {
     "name": "stdout",
     "output_type": "stream",
     "text": [
      "<class 'pandas.core.frame.DataFrame'>\n",
      "RangeIndex: 21 entries, 0 to 20\n",
      "Data columns (total 8 columns):\n",
      " #   Column          Non-Null Count  Dtype  \n",
      "---  ------          --------------  -----  \n",
      " 0   Unnamed: 0      21 non-null     int64  \n",
      " 1   縣市              21 non-null     object \n",
      " 2   房貸負擔率(%)        21 non-null     float64\n",
      " 3   房貸負擔率(百分點)季變動值  21 non-null     float64\n",
      " 4   房貸負擔率(百分點)年變動值  21 non-null     float64\n",
      " 5   房價所得比(倍)        21 non-null     float64\n",
      " 6   房價所得比(倍)季變動值    21 non-null     float64\n",
      " 7   房價所得比(倍)年變動值    21 non-null     float64\n",
      "dtypes: float64(6), int64(1), object(1)\n",
      "memory usage: 1.4+ KB\n"
     ]
    }
   ],
   "source": [
    "df.info()"
   ]
  },
  {
   "cell_type": "code",
   "execution_count": 87,
   "id": "8484e068",
   "metadata": {},
   "outputs": [],
   "source": [
    "house = df.drop(\"Unnamed: 0\", axis='columns')"
   ]
  },
  {
   "cell_type": "code",
   "execution_count": 88,
   "id": "98d4a87c",
   "metadata": {},
   "outputs": [
    {
     "data": {
      "text/html": [
       "<div>\n",
       "<style scoped>\n",
       "    .dataframe tbody tr th:only-of-type {\n",
       "        vertical-align: middle;\n",
       "    }\n",
       "\n",
       "    .dataframe tbody tr th {\n",
       "        vertical-align: top;\n",
       "    }\n",
       "\n",
       "    .dataframe thead th {\n",
       "        text-align: right;\n",
       "    }\n",
       "</style>\n",
       "<table border=\"1\" class=\"dataframe\">\n",
       "  <thead>\n",
       "    <tr style=\"text-align: right;\">\n",
       "      <th></th>\n",
       "      <th>縣市</th>\n",
       "      <th>房貸負擔率(%)</th>\n",
       "      <th>房貸負擔率(百分點)季變動值</th>\n",
       "      <th>房貸負擔率(百分點)年變動值</th>\n",
       "      <th>房價所得比(倍)</th>\n",
       "      <th>房價所得比(倍)季變動值</th>\n",
       "      <th>房價所得比(倍)年變動值</th>\n",
       "    </tr>\n",
       "  </thead>\n",
       "  <tbody>\n",
       "    <tr>\n",
       "      <th>0</th>\n",
       "      <td>全國</td>\n",
       "      <td>36.27</td>\n",
       "      <td>-0.27</td>\n",
       "      <td>1.63</td>\n",
       "      <td>9.07</td>\n",
       "      <td>-0.06</td>\n",
       "      <td>0.41</td>\n",
       "    </tr>\n",
       "    <tr>\n",
       "      <th>1</th>\n",
       "      <td>新北市</td>\n",
       "      <td>48.48</td>\n",
       "      <td>-0.53</td>\n",
       "      <td>2.44</td>\n",
       "      <td>12.13</td>\n",
       "      <td>-0.12</td>\n",
       "      <td>0.62</td>\n",
       "    </tr>\n",
       "    <tr>\n",
       "      <th>2</th>\n",
       "      <td>臺北市</td>\n",
       "      <td>63.11</td>\n",
       "      <td>0.94</td>\n",
       "      <td>5.54</td>\n",
       "      <td>15.79</td>\n",
       "      <td>0.25</td>\n",
       "      <td>1.40</td>\n",
       "    </tr>\n",
       "    <tr>\n",
       "      <th>3</th>\n",
       "      <td>桃園市</td>\n",
       "      <td>30.29</td>\n",
       "      <td>0.34</td>\n",
       "      <td>0.60</td>\n",
       "      <td>7.58</td>\n",
       "      <td>0.09</td>\n",
       "      <td>0.16</td>\n",
       "    </tr>\n",
       "    <tr>\n",
       "      <th>4</th>\n",
       "      <td>臺中市</td>\n",
       "      <td>39.46</td>\n",
       "      <td>-1.17</td>\n",
       "      <td>1.05</td>\n",
       "      <td>9.87</td>\n",
       "      <td>-0.29</td>\n",
       "      <td>0.27</td>\n",
       "    </tr>\n",
       "    <tr>\n",
       "      <th>5</th>\n",
       "      <td>臺南市</td>\n",
       "      <td>31.64</td>\n",
       "      <td>0.52</td>\n",
       "      <td>2.46</td>\n",
       "      <td>7.92</td>\n",
       "      <td>0.14</td>\n",
       "      <td>0.63</td>\n",
       "    </tr>\n",
       "    <tr>\n",
       "      <th>6</th>\n",
       "      <td>高雄市</td>\n",
       "      <td>30.36</td>\n",
       "      <td>-0.04</td>\n",
       "      <td>1.28</td>\n",
       "      <td>7.60</td>\n",
       "      <td>0.00</td>\n",
       "      <td>0.33</td>\n",
       "    </tr>\n",
       "    <tr>\n",
       "      <th>7</th>\n",
       "      <td>宜蘭縣</td>\n",
       "      <td>34.83</td>\n",
       "      <td>-0.23</td>\n",
       "      <td>1.86</td>\n",
       "      <td>8.71</td>\n",
       "      <td>-0.05</td>\n",
       "      <td>0.47</td>\n",
       "    </tr>\n",
       "    <tr>\n",
       "      <th>8</th>\n",
       "      <td>新竹縣</td>\n",
       "      <td>33.00</td>\n",
       "      <td>1.51</td>\n",
       "      <td>0.81</td>\n",
       "      <td>8.26</td>\n",
       "      <td>0.39</td>\n",
       "      <td>0.21</td>\n",
       "    </tr>\n",
       "    <tr>\n",
       "      <th>9</th>\n",
       "      <td>苗栗縣</td>\n",
       "      <td>31.73</td>\n",
       "      <td>0.55</td>\n",
       "      <td>2.86</td>\n",
       "      <td>7.94</td>\n",
       "      <td>0.15</td>\n",
       "      <td>0.72</td>\n",
       "    </tr>\n",
       "    <tr>\n",
       "      <th>10</th>\n",
       "      <td>彰化縣</td>\n",
       "      <td>34.20</td>\n",
       "      <td>0.26</td>\n",
       "      <td>-0.45</td>\n",
       "      <td>8.56</td>\n",
       "      <td>0.08</td>\n",
       "      <td>-0.10</td>\n",
       "    </tr>\n",
       "    <tr>\n",
       "      <th>11</th>\n",
       "      <td>南投縣</td>\n",
       "      <td>34.57</td>\n",
       "      <td>-0.13</td>\n",
       "      <td>4.53</td>\n",
       "      <td>8.65</td>\n",
       "      <td>-0.02</td>\n",
       "      <td>1.14</td>\n",
       "    </tr>\n",
       "    <tr>\n",
       "      <th>12</th>\n",
       "      <td>雲林縣</td>\n",
       "      <td>27.76</td>\n",
       "      <td>0.20</td>\n",
       "      <td>-1.85</td>\n",
       "      <td>6.95</td>\n",
       "      <td>0.06</td>\n",
       "      <td>-0.45</td>\n",
       "    </tr>\n",
       "    <tr>\n",
       "      <th>13</th>\n",
       "      <td>嘉義縣</td>\n",
       "      <td>22.30</td>\n",
       "      <td>1.21</td>\n",
       "      <td>0.80</td>\n",
       "      <td>5.58</td>\n",
       "      <td>0.31</td>\n",
       "      <td>0.21</td>\n",
       "    </tr>\n",
       "    <tr>\n",
       "      <th>14</th>\n",
       "      <td>屏東縣</td>\n",
       "      <td>23.07</td>\n",
       "      <td>0.01</td>\n",
       "      <td>0.80</td>\n",
       "      <td>5.77</td>\n",
       "      <td>0.01</td>\n",
       "      <td>0.20</td>\n",
       "    </tr>\n",
       "    <tr>\n",
       "      <th>15</th>\n",
       "      <td>臺東縣</td>\n",
       "      <td>31.76</td>\n",
       "      <td>-0.26</td>\n",
       "      <td>2.22</td>\n",
       "      <td>7.95</td>\n",
       "      <td>-0.05</td>\n",
       "      <td>0.57</td>\n",
       "    </tr>\n",
       "    <tr>\n",
       "      <th>16</th>\n",
       "      <td>花蓮縣</td>\n",
       "      <td>33.96</td>\n",
       "      <td>0.39</td>\n",
       "      <td>2.84</td>\n",
       "      <td>8.50</td>\n",
       "      <td>0.11</td>\n",
       "      <td>0.72</td>\n",
       "    </tr>\n",
       "    <tr>\n",
       "      <th>17</th>\n",
       "      <td>澎湖縣*</td>\n",
       "      <td>33.30</td>\n",
       "      <td>-3.80</td>\n",
       "      <td>5.38</td>\n",
       "      <td>8.33</td>\n",
       "      <td>-0.95</td>\n",
       "      <td>1.35</td>\n",
       "    </tr>\n",
       "    <tr>\n",
       "      <th>18</th>\n",
       "      <td>基隆市</td>\n",
       "      <td>22.80</td>\n",
       "      <td>-0.06</td>\n",
       "      <td>-0.14</td>\n",
       "      <td>5.70</td>\n",
       "      <td>-0.02</td>\n",
       "      <td>-0.03</td>\n",
       "    </tr>\n",
       "    <tr>\n",
       "      <th>19</th>\n",
       "      <td>新竹市</td>\n",
       "      <td>29.66</td>\n",
       "      <td>0.97</td>\n",
       "      <td>2.61</td>\n",
       "      <td>7.42</td>\n",
       "      <td>0.25</td>\n",
       "      <td>0.66</td>\n",
       "    </tr>\n",
       "    <tr>\n",
       "      <th>20</th>\n",
       "      <td>嘉義市</td>\n",
       "      <td>22.71</td>\n",
       "      <td>-0.03</td>\n",
       "      <td>3.18</td>\n",
       "      <td>5.68</td>\n",
       "      <td>-0.01</td>\n",
       "      <td>0.80</td>\n",
       "    </tr>\n",
       "  </tbody>\n",
       "</table>\n",
       "</div>"
      ],
      "text/plain": [
       "      縣市  房貸負擔率(%)  房貸負擔率(百分點)季變動值  房貸負擔率(百分點)年變動值  房價所得比(倍)  房價所得比(倍)季變動值  \\\n",
       "0     全國     36.27           -0.27            1.63      9.07         -0.06   \n",
       "1    新北市     48.48           -0.53            2.44     12.13         -0.12   \n",
       "2    臺北市     63.11            0.94            5.54     15.79          0.25   \n",
       "3    桃園市     30.29            0.34            0.60      7.58          0.09   \n",
       "4    臺中市     39.46           -1.17            1.05      9.87         -0.29   \n",
       "5    臺南市     31.64            0.52            2.46      7.92          0.14   \n",
       "6    高雄市     30.36           -0.04            1.28      7.60          0.00   \n",
       "7    宜蘭縣     34.83           -0.23            1.86      8.71         -0.05   \n",
       "8    新竹縣     33.00            1.51            0.81      8.26          0.39   \n",
       "9    苗栗縣     31.73            0.55            2.86      7.94          0.15   \n",
       "10   彰化縣     34.20            0.26           -0.45      8.56          0.08   \n",
       "11   南投縣     34.57           -0.13            4.53      8.65         -0.02   \n",
       "12   雲林縣     27.76            0.20           -1.85      6.95          0.06   \n",
       "13   嘉義縣     22.30            1.21            0.80      5.58          0.31   \n",
       "14   屏東縣     23.07            0.01            0.80      5.77          0.01   \n",
       "15   臺東縣     31.76           -0.26            2.22      7.95         -0.05   \n",
       "16   花蓮縣     33.96            0.39            2.84      8.50          0.11   \n",
       "17  澎湖縣*     33.30           -3.80            5.38      8.33         -0.95   \n",
       "18   基隆市     22.80           -0.06           -0.14      5.70         -0.02   \n",
       "19   新竹市     29.66            0.97            2.61      7.42          0.25   \n",
       "20   嘉義市     22.71           -0.03            3.18      5.68         -0.01   \n",
       "\n",
       "    房價所得比(倍)年變動值  \n",
       "0           0.41  \n",
       "1           0.62  \n",
       "2           1.40  \n",
       "3           0.16  \n",
       "4           0.27  \n",
       "5           0.63  \n",
       "6           0.33  \n",
       "7           0.47  \n",
       "8           0.21  \n",
       "9           0.72  \n",
       "10         -0.10  \n",
       "11          1.14  \n",
       "12         -0.45  \n",
       "13          0.21  \n",
       "14          0.20  \n",
       "15          0.57  \n",
       "16          0.72  \n",
       "17          1.35  \n",
       "18         -0.03  \n",
       "19          0.66  \n",
       "20          0.80  "
      ]
     },
     "execution_count": 88,
     "metadata": {},
     "output_type": "execute_result"
    }
   ],
   "source": [
    "house"
   ]
  },
  {
   "cell_type": "markdown",
   "id": "dc110509",
   "metadata": {},
   "source": [
    "### 開始畫圖"
   ]
  },
  {
   "cell_type": "code",
   "execution_count": 89,
   "id": "6ad1a53d",
   "metadata": {},
   "outputs": [],
   "source": [
    "import matplotlib.pyplot as plt"
   ]
  },
  {
   "cell_type": "code",
   "execution_count": 90,
   "id": "a72ebd0a",
   "metadata": {},
   "outputs": [],
   "source": [
    "plt.rcParams['font.sans-serif']=['Microsoft JhengHei']\n",
    "plt.rcParams['axes.unicode_minus']=False"
   ]
  },
  {
   "cell_type": "code",
   "execution_count": 91,
   "id": "de48c35e",
   "metadata": {},
   "outputs": [
    {
     "data": {
      "text/plain": [
       "<AxesSubplot:>"
      ]
     },
     "execution_count": 91,
     "metadata": {},
     "output_type": "execute_result"
    },
    {
     "data": {
      "image/png": "[encoded data removed]",
      "text/plain": [
       "<Figure size 432x288 with 1 Axes>"
      ]
     },
     "metadata": {
      "needs_background": "light"
     },
     "output_type": "display_data"
    }
   ],
   "source": [
    "house.plot()"
   ]
  },
  {
   "cell_type": "code",
   "execution_count": 92,
   "id": "4bcd7b5a",
   "metadata": {},
   "outputs": [],
   "source": [
    "import numpy as np"
   ]
  },
  {
   "cell_type": "code",
   "execution_count": 93,
   "id": "543ce3bf",
   "metadata": {},
   "outputs": [
    {
     "data": {
      "text/plain": [
       "array([['全國', 36.27, -0.27, 1.63, 9.07, -0.06, 0.41],\n",
       "       ['新北市', 48.48, -0.53, 2.44, 12.13, -0.12, 0.62],\n",
       "       ['臺北市', 63.11, 0.94, 5.54, 15.79, 0.25, 1.4],\n",
       "       ['桃園市', 30.29, 0.34, 0.6, 7.58, 0.09, 0.16],\n",
       "       ['臺中市', 39.46, -1.17, 1.05, 9.87, -0.29, 0.27],\n",
       "       ['臺南市', 31.64, 0.52, 2.46, 7.92, 0.14, 0.63],\n",
       "       ['高雄市', 30.36, -0.04, 1.28, 7.6, 0.0, 0.33],\n",
       "       ['宜蘭縣', 34.83, -0.23, 1.86, 8.71, -0.05, 0.47],\n",
       "       ['新竹縣', 33.0, 1.51, 0.81, 8.26, 0.39, 0.21],\n",
       "       ['苗栗縣', 31.73, 0.55, 2.86, 7.94, 0.15, 0.72],\n",
       "       ['彰化縣', 34.2, 0.26, -0.45, 8.56, 0.08, -0.1],\n",
       "       ['南投縣', 34.57, -0.13, 4.53, 8.65, -0.02, 1.14],\n",
       "       ['雲林縣', 27.76, 0.2, -1.85, 6.95, 0.06, -0.45],\n",
       "       ['嘉義縣', 22.3, 1.21, 0.8, 5.58, 0.31, 0.21],\n",
       "       ['屏東縣', 23.07, 0.01, 0.8, 5.77, 0.01, 0.2],\n",
       "       ['臺東縣', 31.76, -0.26, 2.22, 7.95, -0.05, 0.57],\n",
       "       ['花蓮縣', 33.96, 0.39, 2.84, 8.5, 0.11, 0.72],\n",
       "       ['澎湖縣*', 33.3, -3.8, 5.38, 8.33, -0.95, 1.35],\n",
       "       ['基隆市', 22.8, -0.06, -0.14, 5.7, -0.02, -0.03],\n",
       "       ['新竹市', 29.66, 0.97, 2.61, 7.42, 0.25, 0.66],\n",
       "       ['嘉義市', 22.71, -0.03, 3.18, 5.68, -0.01, 0.8]], dtype=object)"
      ]
     },
     "execution_count": 93,
     "metadata": {},
     "output_type": "execute_result"
    }
   ],
   "source": [
    "data=np.array(house)\n",
    "data"
   ]
  },
  {
   "cell_type": "code",
   "execution_count": 102,
   "id": "50b19855",
   "metadata": {},
   "outputs": [
    {
     "data": {
      "text/plain": [
       "<matplotlib.legend.Legend at 0x1b82920c190>"
      ]
     },
     "execution_count": 102,
     "metadata": {},
     "output_type": "execute_result"
    },
    {
     "data": {
      "image/png": "[encoded data removed]",
      "text/plain": [
       "<Figure size 432x288 with 1 Axes>"
      ]
     },
     "metadata": {},
     "output_type": "display_data"
    }
   ],
   "source": [
    "plt.pie(data[:,1],labels=data[:,0],autopct=\"%.1f%%\")\n",
    "plt.legend(data[:,0],loc=\"upper left\")"
   ]
  },
  {
   "cell_type": "code",
   "execution_count": null,
   "id": "49c1ba27",
   "metadata": {},
   "outputs": [],
   "source": []
  },
  {
   "cell_type": "code",
   "execution_count": null,
   "id": "4def7528",
   "metadata": {},
   "outputs": [],
   "source": []
  }
 ],
 "metadata": {
  "kernelspec": {
   "display_name": "Python 3",
   "language": "python",
   "name": "python3"
  },
  "language_info": {
   "codemirror_mode": {
    "name": "ipython",
    "version": 3
   },
   "file_extension": ".py",
   "mimetype": "text/x-python",
   "name": "python",
   "nbconvert_exporter": "python",
   "pygments_lexer": "ipython3",
   "version": "3.8.8"
  }
 },
 "nbformat": 4,
 "nbformat_minor": 5
}
