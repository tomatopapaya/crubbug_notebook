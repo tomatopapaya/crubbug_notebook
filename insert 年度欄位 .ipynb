{
 "cells": [
  {
   "cell_type": "code",
   "execution_count": 6,
   "id": "48e02205",
   "metadata": {},
   "outputs": [],
   "source": [
    "import pandas as pd"
   ]
  },
  {
   "cell_type": "code",
   "execution_count": 8,
   "id": "3450ef95",
   "metadata": {},
   "outputs": [
    {
     "name": "stdout",
     "output_type": "stream",
     "text": [
      "    Unnamed: 0    年分   縣市  房貸負擔率(%)  房貸負擔率(百分點)季變動值  房貸負擔率(百分點)年變動值  房價所得比(倍)  房價所得比(倍)季變動值  房價所得比(倍)年變動值\n",
      "0            0  2017   全國     38.90            0.86            1.76      9.46          0.23          0.49\n",
      "1            1  2017  臺北市     64.29            0.39            1.90     15.64          0.12          0.57\n",
      "2            2  2017  新北市     52.19            0.74            0.38     12.70          0.20          0.18\n",
      "3            3  2017  臺中市     39.60            1.00            0.92      9.63          0.26          0.29\n",
      "4            4  2017  新竹市     36.14           -0.40            3.71      8.79         -0.08          0.96\n",
      "5            5  2017  新竹縣     35.93            0.92            1.35      8.74          0.24          0.39\n",
      "6            6  2017  彰化縣     35.38           -0.78            1.93      8.61         -0.18          0.53\n",
      "7            7  2017  高雄市     34.93            1.30            1.36      8.50          0.33          0.39\n",
      "8            8  2017  桃園市     34.10           -0.85            0.12      8.30         -0.19          0.09\n",
      "9            9  2017  宜蘭縣     34.06           -0.63            2.04      8.29         -0.14          0.55\n",
      "10          10  2017  花蓮縣     33.80            2.22            1.12      8.22          0.55          0.33\n",
      "11          11  2017  澎湖縣     33.39           -1.39            2.23      8.12         -0.32          0.60\n",
      "12          12  2017  苗栗縣     33.03            1.27            5.51      8.03          0.32          1.39\n",
      "13          13  2017  南投縣     32.76            1.45            3.33      7.97          0.37          0.86\n",
      "14          14  2017  臺南市     31.14            0.79            0.77      7.58          0.20          0.24\n",
      "15          15  2017  雲林縣     30.47            1.22            2.43      7.41          0.31          0.64\n",
      "16          16  2017  臺東縣     30.25            0.88            3.00      7.36          0.23          0.78\n",
      "17          17  2017  基隆市     24.16            0.78            1.44      5.88          0.20          0.39\n",
      "18          18  2017  嘉義市     23.35           -1.58            0.32      5.68         -0.38          0.12\n",
      "19          19  2017  屏東縣     23.01            0.12           -0.48      5.60          0.04         -0.07\n",
      "20          20  2017  嘉義縣     22.83           -0.13           -0.21      5.55         -0.02         -0.01\n"
     ]
    }
   ],
   "source": [
    "df=pd.read_csv('C://Users//ASUS//Desktop//我的專題報告//106年房價比.csv',encoding='utf-8')\n",
    "print(df.to_string())"
   ]
  },
  {
   "cell_type": "code",
   "execution_count": 9,
   "id": "c502fe37",
   "metadata": {},
   "outputs": [
    {
     "ename": "ValueError",
     "evalue": "cannot insert 年分, already exists",
     "output_type": "error",
     "traceback": [
      "\u001b[1;31m---------------------------------------------------------------------------\u001b[0m",
      "\u001b[1;31mValueError\u001b[0m                                Traceback (most recent call last)",
      "\u001b[1;32m<ipython-input-9-f287cac3c5de>\u001b[0m in \u001b[0;36m<module>\u001b[1;34m\u001b[0m\n\u001b[1;32m----> 1\u001b[1;33m \u001b[0mdf\u001b[0m\u001b[1;33m.\u001b[0m\u001b[0minsert\u001b[0m\u001b[1;33m(\u001b[0m\u001b[1;36m0\u001b[0m\u001b[1;33m,\u001b[0m\u001b[1;34m\"年分\"\u001b[0m\u001b[1;33m,\u001b[0m\u001b[1;34m\"2017\"\u001b[0m\u001b[1;33m)\u001b[0m\u001b[1;33m\u001b[0m\u001b[1;33m\u001b[0m\u001b[0m\n\u001b[0m",
      "\u001b[1;32m~\\anaconda3\\lib\\site-packages\\pandas\\core\\frame.py\u001b[0m in \u001b[0;36minsert\u001b[1;34m(self, loc, column, value, allow_duplicates)\u001b[0m\n\u001b[0;32m   3761\u001b[0m         \u001b[0mself\u001b[0m\u001b[1;33m.\u001b[0m\u001b[0m_ensure_valid_index\u001b[0m\u001b[1;33m(\u001b[0m\u001b[0mvalue\u001b[0m\u001b[1;33m)\u001b[0m\u001b[1;33m\u001b[0m\u001b[1;33m\u001b[0m\u001b[0m\n\u001b[0;32m   3762\u001b[0m         \u001b[0mvalue\u001b[0m \u001b[1;33m=\u001b[0m \u001b[0mself\u001b[0m\u001b[1;33m.\u001b[0m\u001b[0m_sanitize_column\u001b[0m\u001b[1;33m(\u001b[0m\u001b[0mcolumn\u001b[0m\u001b[1;33m,\u001b[0m \u001b[0mvalue\u001b[0m\u001b[1;33m,\u001b[0m \u001b[0mbroadcast\u001b[0m\u001b[1;33m=\u001b[0m\u001b[1;32mFalse\u001b[0m\u001b[1;33m)\u001b[0m\u001b[1;33m\u001b[0m\u001b[1;33m\u001b[0m\u001b[0m\n\u001b[1;32m-> 3763\u001b[1;33m         \u001b[0mself\u001b[0m\u001b[1;33m.\u001b[0m\u001b[0m_mgr\u001b[0m\u001b[1;33m.\u001b[0m\u001b[0minsert\u001b[0m\u001b[1;33m(\u001b[0m\u001b[0mloc\u001b[0m\u001b[1;33m,\u001b[0m \u001b[0mcolumn\u001b[0m\u001b[1;33m,\u001b[0m \u001b[0mvalue\u001b[0m\u001b[1;33m,\u001b[0m \u001b[0mallow_duplicates\u001b[0m\u001b[1;33m=\u001b[0m\u001b[0mallow_duplicates\u001b[0m\u001b[1;33m)\u001b[0m\u001b[1;33m\u001b[0m\u001b[1;33m\u001b[0m\u001b[0m\n\u001b[0m\u001b[0;32m   3764\u001b[0m \u001b[1;33m\u001b[0m\u001b[0m\n\u001b[0;32m   3765\u001b[0m     \u001b[1;32mdef\u001b[0m \u001b[0massign\u001b[0m\u001b[1;33m(\u001b[0m\u001b[0mself\u001b[0m\u001b[1;33m,\u001b[0m \u001b[1;33m**\u001b[0m\u001b[0mkwargs\u001b[0m\u001b[1;33m)\u001b[0m \u001b[1;33m->\u001b[0m \u001b[0mDataFrame\u001b[0m\u001b[1;33m:\u001b[0m\u001b[1;33m\u001b[0m\u001b[1;33m\u001b[0m\u001b[0m\n",
      "\u001b[1;32m~\\anaconda3\\lib\\site-packages\\pandas\\core\\internals\\managers.py\u001b[0m in \u001b[0;36minsert\u001b[1;34m(self, loc, item, value, allow_duplicates)\u001b[0m\n\u001b[0;32m   1189\u001b[0m         \u001b[1;32mif\u001b[0m \u001b[1;32mnot\u001b[0m \u001b[0mallow_duplicates\u001b[0m \u001b[1;32mand\u001b[0m \u001b[0mitem\u001b[0m \u001b[1;32min\u001b[0m \u001b[0mself\u001b[0m\u001b[1;33m.\u001b[0m\u001b[0mitems\u001b[0m\u001b[1;33m:\u001b[0m\u001b[1;33m\u001b[0m\u001b[1;33m\u001b[0m\u001b[0m\n\u001b[0;32m   1190\u001b[0m             \u001b[1;31m# Should this be a different kind of error??\u001b[0m\u001b[1;33m\u001b[0m\u001b[1;33m\u001b[0m\u001b[1;33m\u001b[0m\u001b[0m\n\u001b[1;32m-> 1191\u001b[1;33m             \u001b[1;32mraise\u001b[0m \u001b[0mValueError\u001b[0m\u001b[1;33m(\u001b[0m\u001b[1;34mf\"cannot insert {item}, already exists\"\u001b[0m\u001b[1;33m)\u001b[0m\u001b[1;33m\u001b[0m\u001b[1;33m\u001b[0m\u001b[0m\n\u001b[0m\u001b[0;32m   1192\u001b[0m \u001b[1;33m\u001b[0m\u001b[0m\n\u001b[0;32m   1193\u001b[0m         \u001b[1;32mif\u001b[0m \u001b[1;32mnot\u001b[0m \u001b[0misinstance\u001b[0m\u001b[1;33m(\u001b[0m\u001b[0mloc\u001b[0m\u001b[1;33m,\u001b[0m \u001b[0mint\u001b[0m\u001b[1;33m)\u001b[0m\u001b[1;33m:\u001b[0m\u001b[1;33m\u001b[0m\u001b[1;33m\u001b[0m\u001b[0m\n",
      "\u001b[1;31mValueError\u001b[0m: cannot insert 年分, already exists"
     ]
    }
   ],
   "source": [
    "df.insert(0,\"年分\",\"2017\")"
   ]
  },
  {
   "cell_type": "code",
   "execution_count": 10,
   "id": "90724242",
   "metadata": {},
   "outputs": [
    {
     "name": "stdout",
     "output_type": "stream",
     "text": [
      "    Unnamed: 0    年分   縣市  房貸負擔率(%)  房貸負擔率(百分點)季變動值  房貸負擔率(百分點)年變動值  房價所得比(倍)  \\\n",
      "0            0  2017   全國     38.90            0.86            1.76      9.46   \n",
      "1            1  2017  臺北市     64.29            0.39            1.90     15.64   \n",
      "2            2  2017  新北市     52.19            0.74            0.38     12.70   \n",
      "3            3  2017  臺中市     39.60            1.00            0.92      9.63   \n",
      "4            4  2017  新竹市     36.14           -0.40            3.71      8.79   \n",
      "5            5  2017  新竹縣     35.93            0.92            1.35      8.74   \n",
      "6            6  2017  彰化縣     35.38           -0.78            1.93      8.61   \n",
      "7            7  2017  高雄市     34.93            1.30            1.36      8.50   \n",
      "8            8  2017  桃園市     34.10           -0.85            0.12      8.30   \n",
      "9            9  2017  宜蘭縣     34.06           -0.63            2.04      8.29   \n",
      "10          10  2017  花蓮縣     33.80            2.22            1.12      8.22   \n",
      "11          11  2017  澎湖縣     33.39           -1.39            2.23      8.12   \n",
      "12          12  2017  苗栗縣     33.03            1.27            5.51      8.03   \n",
      "13          13  2017  南投縣     32.76            1.45            3.33      7.97   \n",
      "14          14  2017  臺南市     31.14            0.79            0.77      7.58   \n",
      "15          15  2017  雲林縣     30.47            1.22            2.43      7.41   \n",
      "16          16  2017  臺東縣     30.25            0.88            3.00      7.36   \n",
      "17          17  2017  基隆市     24.16            0.78            1.44      5.88   \n",
      "18          18  2017  嘉義市     23.35           -1.58            0.32      5.68   \n",
      "19          19  2017  屏東縣     23.01            0.12           -0.48      5.60   \n",
      "20          20  2017  嘉義縣     22.83           -0.13           -0.21      5.55   \n",
      "\n",
      "    房價所得比(倍)季變動值  房價所得比(倍)年變動值  \n",
      "0           0.23          0.49  \n",
      "1           0.12          0.57  \n",
      "2           0.20          0.18  \n",
      "3           0.26          0.29  \n",
      "4          -0.08          0.96  \n",
      "5           0.24          0.39  \n",
      "6          -0.18          0.53  \n",
      "7           0.33          0.39  \n",
      "8          -0.19          0.09  \n",
      "9          -0.14          0.55  \n",
      "10          0.55          0.33  \n",
      "11         -0.32          0.60  \n",
      "12          0.32          1.39  \n",
      "13          0.37          0.86  \n",
      "14          0.20          0.24  \n",
      "15          0.31          0.64  \n",
      "16          0.23          0.78  \n",
      "17          0.20          0.39  \n",
      "18         -0.38          0.12  \n",
      "19          0.04         -0.07  \n",
      "20         -0.02         -0.01  \n"
     ]
    }
   ],
   "source": [
    "print(df)"
   ]
  },
  {
   "cell_type": "code",
   "execution_count": 11,
   "id": "88459fee",
   "metadata": {},
   "outputs": [],
   "source": [
    "df.to_csv('106年房價比.csv',encoding='utf-8-sig')"
   ]
  },
  {
   "cell_type": "code",
   "execution_count": 12,
   "id": "dbb5f141",
   "metadata": {},
   "outputs": [
    {
     "name": "stdout",
     "output_type": "stream",
     "text": [
      "   Unnamed: 0    年分   縣市  房貸負擔率(%)  房貸負擔率(百分點)季變動值  房貸負擔率(百分點)年變動值  房價所得比(倍)  \\\n",
      "1           1  2017  臺北市     64.29            0.39             1.9     15.64   \n",
      "\n",
      "   房價所得比(倍)季變動值  房價所得比(倍)年變動值  \n",
      "1          0.12          0.57  \n"
     ]
    }
   ],
   "source": [
    "print(df[df[\"縣市\"].isin([\"臺北市\"])])"
   ]
  },
  {
   "cell_type": "code",
   "execution_count": null,
   "id": "85e9c8bc",
   "metadata": {},
   "outputs": [],
   "source": []
  }
 ],
 "metadata": {
  "kernelspec": {
   "display_name": "Python 3",
   "language": "python",
   "name": "python3"
  },
  "language_info": {
   "codemirror_mode": {
    "name": "ipython",
    "version": 3
   },
   "file_extension": ".py",
   "mimetype": "text/x-python",
   "name": "python",
   "nbconvert_exporter": "python",
   "pygments_lexer": "ipython3",
   "version": "3.8.8"
  }
 },
 "nbformat": 4,
 "nbformat_minor": 5
}
