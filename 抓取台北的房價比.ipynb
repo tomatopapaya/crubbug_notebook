{
 "cells": [
  {
   "cell_type": "code",
   "execution_count": 87,
   "id": "063b2d17",
   "metadata": {},
   "outputs": [],
   "source": [
    "import pandas as pd"
   ]
  },
  {
   "cell_type": "code",
   "execution_count": 88,
   "id": "0f89c0f8",
   "metadata": {},
   "outputs": [],
   "source": [
    "import numpy as np"
   ]
  },
  {
   "cell_type": "code",
   "execution_count": 89,
   "id": "91c71eb3",
   "metadata": {},
   "outputs": [],
   "source": [
    "import matplotlib.pyplot as plt\n",
    "plt.rcParams['font.sans-serif'] = ['Microsoft JhengHei']\n",
    "plt.rcParams['axes.unicode_minus'] = False"
   ]
  },
  {
   "cell_type": "code",
   "execution_count": 90,
   "id": "1790abb9",
   "metadata": {},
   "outputs": [
    {
     "name": "stdout",
     "output_type": "stream",
     "text": [
      "     Unnamed: 0  Unnamed: 0.1    年分   縣市  房貸負擔率(%) 房貸負擔率(百分點)季變動值  房貸負擔率(百分點)年變動值  房價所得比(倍)  房價所得比(倍)季變動值  房價所得比(倍)年變動值\n",
      "0             0             0  2017   全國     38.90           0.86            1.76      9.46          0.23          0.49\n",
      "1             1             1  2017  臺北市     64.29           0.39            1.90     15.64          0.12          0.57\n",
      "2             2             2  2017  新北市     52.19           0.74            0.38     12.70          0.20          0.18\n",
      "3             3             3  2017  臺中市     39.60            1.0            0.92      9.63          0.26          0.29\n",
      "4             4             4  2017  新竹市     36.14           -0.4            3.71      8.79         -0.08          0.96\n",
      "5             5             5  2017  新竹縣     35.93           0.92            1.35      8.74          0.24          0.39\n",
      "6             6             6  2017  彰化縣     35.38          -0.78            1.93      8.61         -0.18          0.53\n",
      "7             7             7  2017  高雄市     34.93            1.3            1.36      8.50          0.33          0.39\n",
      "8             8             8  2017  桃園市     34.10          -0.85            0.12      8.30         -0.19          0.09\n",
      "9             9             9  2017  宜蘭縣     34.06          -0.63            2.04      8.29         -0.14          0.55\n",
      "10           10            10  2017  花蓮縣     33.80           2.22            1.12      8.22          0.55          0.33\n",
      "11           11            11  2017  澎湖縣     33.39          -1.39            2.23      8.12         -0.32          0.60\n",
      "12           12            12  2017  苗栗縣     33.03           1.27            5.51      8.03          0.32          1.39\n",
      "13           13            13  2017  南投縣     32.76           1.45            3.33      7.97          0.37          0.86\n",
      "14           14            14  2017  臺南市     31.14           0.79            0.77      7.58          0.20          0.24\n",
      "15           15            15  2017  雲林縣     30.47           1.22            2.43      7.41          0.31          0.64\n",
      "16           16            16  2017  臺東縣     30.25           0.88            3.00      7.36          0.23          0.78\n",
      "17           17            17  2017  基隆市     24.16           0.78            1.44      5.88          0.20          0.39\n",
      "18           18            18  2017  嘉義市     23.35          -1.58            0.32      5.68         -0.38          0.12\n",
      "19           19            19  2017  屏東縣     23.01           0.12           -0.48      5.60          0.04         -0.07\n",
      "20           20            20  2017  嘉義縣     22.83          -0.13           -0.21      5.55         -0.02         -0.01\n",
      "21            0             0  2018   全國     36.90          -0.35           -2.00      9.00         -0.08         -0.46\n",
      "22            1             1  2018  臺北市     61.56           0.02           -2.72     15.01          0.01         -0.63\n",
      "23            2             2  2018  新北市     50.32          -1.98           -1.87     12.27         -0.48         -0.43\n",
      "24            3             3  2018  臺中市     38.14          -1.17           -1.46      9.30         -0.28         -0.34\n",
      "25            4             4  2018  彰化縣     34.54           -0.8           -0.83      8.42         -0.19         -0.18\n",
      "26            5             5  2018  新竹縣     34.31           0.72           -1.62      8.37          0.18         -0.38\n",
      "27            6             6  2018  桃園市     33.32           0.19           -0.78      8.12          0.05         -0.17\n",
      "28            7             7  2018  宜蘭縣     32.93           0.28           -1.13      8.03          0.07         -0.26\n",
      "29            8             8  2018  高雄市     32.56          -0.94           -2.37      7.94         -0.23         -0.56\n",
      "30            9             9  2018  花蓮縣     32.31          -1.18           -1.49      7.88         -0.28         -0.35\n",
      "31           10            10  2018  新竹市     31.81          -0.93           -4.33      7.76         -0.22         -1.04\n",
      "32           11            11  2018  南投縣     31.72           0.17           -1.04      7.73          0.04         -0.24\n",
      "33           12            12  2018  苗栗縣     31.35           0.79           -1.68      7.64          0.19         -0.39\n",
      "34           13            13  2018  澎湖縣     30.59           1.77           -2.80      7.46          0.43         -0.66\n",
      "35           14            14  2018  臺南市     29.53          -0.39           -1.61      7.20         -0.09         -0.37\n",
      "36           15            15  2018  臺東縣     28.23          -0.83           -2.02      6.88         -0.20         -0.48\n",
      "37           16            16  2018  雲林縣     27.04          -0.93           -3.43      6.59         -0.22         -0.82\n",
      "38           17            17  2018  屏東縣     23.36            1.1            0.35      5.70          0.27          0.10\n",
      "39           18            18  2018  嘉義市     22.99          -0.17           -0.36      5.61         -0.04         -0.07\n",
      "40           19            19  2018  嘉義縣     21.90          -0.95           -0.93      5.34         -0.23         -0.22\n",
      "41           20            20  2018  基隆市     21.58          -1.66           -2.57      5.26         -0.40         -0.61\n",
      "42            0             0  2019   全國     36.06           0.53           -0.84      8.79          0.13         -0.21\n",
      "43            1             1  2019  新北市     48.59          -0.77           -1.73     11.85         -0.18         -0.42\n",
      "44            2             2  2019  臺北市     59.25           1.18           -2.31     14.45          0.30         -0.56\n",
      "45            3             3  2019  桃園市     30.16          -0.17           -3.16      7.35         -0.04         -0.77\n",
      "46            4             4  2019  臺中市     38.00          -1.97           -0.14      9.27         -0.48         -0.03\n",
      "47            5             5  2019  臺南市     29.18           0.29           -0.35      7.12          0.08         -0.08\n",
      "48            6             6  2019  高雄市     31.48           0.72           -1.08      7.68          0.18         -0.26\n",
      "49            7             7  2019  宜蘭縣     29.97          -0.34           -2.96      7.31         -0.08         -0.72\n",
      "50            8             8  2019  新竹縣     33.77           1.66           -0.54      8.24          0.41         -0.13\n",
      "51            9             9  2019  苗栗縣     29.39           -0.4           -1.96      7.17         -0.09         -0.47\n",
      "52           10            10  2019  彰化縣     36.68           2.46            2.14      8.95          0.60          0.53\n",
      "53           11            11  2019  南投縣     33.14           0.64            1.42      8.08          0.16          0.35\n",
      "54           12            12  2019  雲林縣     26.79          -1.93           -0.25      6.53         -0.47         -0.06\n",
      "55           13            13  2019  嘉義縣     25.27           2.55            3.37      6.16          0.62          0.82\n",
      "56           14            14  2019  屏東縣     22.21          -0.49           -1.15      5.42         -0.12         -0.28\n",
      "57           15            15  2019  臺東縣     31.34           2.62            3.11      7.64          0.64          0.76\n",
      "58           16            16  2019  花蓮縣     35.63           2.46            3.32      8.69          0.60          0.81\n",
      "59           17            17  2019  澎湖縣     34.65          -1.11            4.06      8.45         -0.27          0.99\n",
      "60           18            18  2019  基隆市     22.99           -0.4            1.41      5.61         -0.10          0.35\n",
      "61           19            19  2019  新竹市     27.49          -0.85           -4.32      6.70         -0.20         -1.06\n",
      "62           20            20  2019  嘉義市     21.35          -0.91           -1.64      5.21         -0.22         -0.40\n",
      "63            0             0  2020   全國     34.64          -0.66           -1.42      8.66          0.04         -0.13\n",
      "64            1             1  2020  新北市     46.04          -1.90           -2.55     11.51         -0.20         -0.34\n",
      "65            2             2  2020  臺北市     57.57           0.51           -1.68     14.39          0.45         -0.06\n",
      "66            3             3  2020  桃園市     29.69          -0.92           -0.47      7.42         -0.05          0.07\n",
      "67            4             4  2020  臺中市     38.41          -2.58            0.41      9.60         -0.41          0.33\n",
      "68            5             5  2020  臺南市     29.18          -0.63            0.00      7.29          0.01          0.17\n",
      "69            6             6  2020  高雄市     29.08          -0.75           -2.40      7.27         -0.01         -0.41\n",
      "70            7             7  2020  宜蘭縣     32.97          1.95             3.00      8.24          0.66          0.93\n",
      "71            8             8  2020  新竹縣     32.19          1.01            -1.58      8.05          0.43         -0.19\n",
      "72            9             9  2020  苗栗縣     28.87          1.55            -0.52      7.22          0.55          0.05\n",
      "73           10            10  2020  彰化縣     34.65          0.21            -2.03      8.66          0.25         -0.29\n",
      "74           11            11  2020  南投縣     30.04          -4.00           -3.10      7.51         -0.80         -0.57\n",
      "75           12            12  2020  雲林縣     29.61           0.06            2.82      7.40          0.18          0.87\n",
      "76           13            13  2020  嘉義縣     21.50         -2.95            -3.77      5.37         -0.60         -0.79\n",
      "77           14            14  2020  屏東縣     22.27      0.29 0.06            5.57      0.20          0.15           NaN\n",
      "78           15            15  2020  臺東縣     29.54         -1.36            -1.80      7.38         -0.17         -0.26\n",
      "79           16            16  2020  花蓮縣     31.12          1.80            -4.51      7.78          0.62         -0.91\n",
      "80           17            17  2020  澎湖縣     27.92          -2.35           -6.73      6.98         -0.41         -1.47\n",
      "81           18            18  2020  基隆市     22.94         -0.36            -0.05      5.73          0.04          0.12\n",
      "82           19            19  2020  新竹市     27.05         -0.35            -0.44      6.76          0.07          0.06\n",
      "83           20            20  2020  嘉義市     19.53         -0.04            -1.82      4.88          0.10         -0.33\n",
      "84            0             0  2021   全國     36.27          -0.27            1.63      9.07         -0.06          0.41\n",
      "85            1             1  2021  新北市     48.48          -0.53            2.44     12.13         -0.12          0.62\n",
      "86            2             2  2021  臺北市     63.11           0.94            5.54     15.79          0.25          1.40\n",
      "87            3             3  2021  桃園市     30.29           0.34            0.60      7.58          0.09          0.16\n",
      "88            4             4  2021  臺中市     39.46          -1.17            1.05      9.87         -0.29          0.27\n",
      "89            5             5  2021  臺南市     31.64           0.52            2.46      7.92          0.14          0.63\n",
      "90            6             6  2021  高雄市     30.36          -0.04            1.28      7.60          0.00          0.33\n",
      "91            7             7  2021  宜蘭縣     34.83          -0.23            1.86      8.71         -0.05          0.47\n",
      "92            8             8  2021  新竹縣     33.00           1.51            0.81      8.26          0.39          0.21\n",
      "93            9             9  2021  苗栗縣     31.73           0.55            2.86      7.94          0.15          0.72\n",
      "94           10            10  2021  彰化縣     34.20           0.26           -0.45      8.56          0.08         -0.10\n",
      "95           11            11  2021  南投縣     34.57          -0.13            4.53      8.65         -0.02          1.14\n",
      "96           12            12  2021  雲林縣     27.76            0.2           -1.85      6.95          0.06         -0.45\n",
      "97           13            13  2021  嘉義縣     22.30           1.21            0.80      5.58          0.31          0.21\n",
      "98           14            14  2021  屏東縣     23.07           0.01            0.80      5.77          0.01          0.20\n",
      "99           15            15  2021  臺東縣     31.76          -0.26            2.22      7.95         -0.05          0.57\n",
      "100          16            16  2021  花蓮縣     33.96           0.39            2.84      8.50          0.11          0.72\n",
      "101          17            17  2021  澎湖縣     33.30           -3.8            5.38      8.33         -0.95          1.35\n",
      "102          18            18  2021  基隆市     22.80          -0.06           -0.14      5.70         -0.02         -0.03\n",
      "103          19            19  2021  新竹市     29.66           0.97            2.61      7.42          0.25          0.66\n",
      "104          20            20  2021  嘉義市     22.71          -0.03            3.18      5.68         -0.01          0.80\n"
     ]
    }
   ],
   "source": [
    "df=pd.read_csv('C://Users//ASUS//Desktop//我的專題報告/各年度縣市房價比.csv',encoding='utf-8')\n",
    "print(df.to_string())"
   ]
  },
  {
   "cell_type": "code",
   "execution_count": 91,
   "id": "19486c88",
   "metadata": {},
   "outputs": [],
   "source": [
    "del df['Unnamed: 0'] "
   ]
  },
  {
   "cell_type": "code",
   "execution_count": 92,
   "id": "5f81e284",
   "metadata": {},
   "outputs": [],
   "source": [
    "del df['Unnamed: 0.1'] "
   ]
  },
  {
   "cell_type": "code",
   "execution_count": 93,
   "id": "cc93a1ef",
   "metadata": {},
   "outputs": [
    {
     "name": "stdout",
     "output_type": "stream",
     "text": [
      "      年分   縣市  房貸負擔率(%) 房貸負擔率(百分點)季變動值  房貸負擔率(百分點)年變動值  房價所得比(倍)  \\\n",
      "1   2017  臺北市     64.29           0.39            1.90     15.64   \n",
      "22  2018  臺北市     61.56           0.02           -2.72     15.01   \n",
      "44  2019  臺北市     59.25           1.18           -2.31     14.45   \n",
      "65  2020  臺北市     57.57           0.51           -1.68     14.39   \n",
      "86  2021  臺北市     63.11           0.94            5.54     15.79   \n",
      "\n",
      "    房價所得比(倍)季變動值  房價所得比(倍)年變動值  \n",
      "1           0.12          0.57  \n",
      "22          0.01         -0.63  \n",
      "44          0.30         -0.56  \n",
      "65          0.45         -0.06  \n",
      "86          0.25          1.40  \n"
     ]
    }
   ],
   "source": [
    "print(df[df[\"縣市\"].isin([\"臺北市\"])])"
   ]
  },
  {
   "cell_type": "code",
   "execution_count": 94,
   "id": "927e56d8",
   "metadata": {},
   "outputs": [],
   "source": [
    "df1=df[df[\"縣市\"].isin([\"臺北市\"])]"
   ]
  },
  {
   "cell_type": "code",
   "execution_count": 95,
   "id": "9d1e3c31",
   "metadata": {},
   "outputs": [],
   "source": [
    "df2=df[df[\"縣市\"].isin([\"桃園市\"])]"
   ]
  },
  {
   "cell_type": "code",
   "execution_count": 96,
   "id": "f0a0dce6",
   "metadata": {},
   "outputs": [],
   "source": [
    "df3=df[df[\"縣市\"].isin([\"臺中市\"])]"
   ]
  },
  {
   "cell_type": "code",
   "execution_count": 97,
   "id": "d36ce467",
   "metadata": {},
   "outputs": [],
   "source": [
    "df4=df[df[\"縣市\"].isin([\"臺南市\"])]"
   ]
  },
  {
   "cell_type": "code",
   "execution_count": 98,
   "id": "2aac6118",
   "metadata": {},
   "outputs": [],
   "source": [
    "df5=df[df[\"縣市\"].isin([\"高雄市\"])]"
   ]
  },
  {
   "cell_type": "code",
   "execution_count": 103,
   "id": "5c887391",
   "metadata": {},
   "outputs": [],
   "source": [
    "taipei = np.array(df1)"
   ]
  },
  {
   "cell_type": "code",
   "execution_count": 105,
   "id": "01139191",
   "metadata": {},
   "outputs": [],
   "source": [
    "Taoyuan = np.array(df2)"
   ]
  },
  {
   "cell_type": "code",
   "execution_count": 106,
   "id": "ed5a5922",
   "metadata": {},
   "outputs": [],
   "source": [
    "Taichung = np.array(df3)"
   ]
  },
  {
   "cell_type": "code",
   "execution_count": 107,
   "id": "b9353477",
   "metadata": {},
   "outputs": [],
   "source": [
    "Tainan = np.array(df4)"
   ]
  },
  {
   "cell_type": "code",
   "execution_count": 119,
   "id": "ea689d41",
   "metadata": {},
   "outputs": [],
   "source": [
    "Kaohsiung= np.array(df5)"
   ]
  },
  {
   "cell_type": "code",
   "execution_count": 120,
   "id": "fd5c8a9a",
   "metadata": {},
   "outputs": [
    {
     "data": {
      "text/plain": [
       "[<matplotlib.lines.Line2D at 0x2a9d9be4040>]"
      ]
     },
     "execution_count": 120,
     "metadata": {},
     "output_type": "execute_result"
    },
    {
     "data": {
      "image/png": "[encoded data removed]",
      "text/plain": [
       "<Figure size 432x288 with 1 Axes>"
      ]
     },
     "metadata": {
      "needs_background": "light"
     },
     "output_type": "display_data"
    }
   ],
   "source": [
    "plt.plot(taipei[:, 0], taipei[:, 5], '-*', color='green')"
   ]
  },
  {
   "cell_type": "code",
   "execution_count": 121,
   "id": "1cc9d0c6",
   "metadata": {},
   "outputs": [
    {
     "data": {
      "text/plain": [
       "[<matplotlib.lines.Line2D at 0x2a9d9c452e0>]"
      ]
     },
     "execution_count": 121,
     "metadata": {},
     "output_type": "execute_result"
    },
    {
     "data": {
      "image/png": "[encoded data removed]",
      "text/plain": [
       "<Figure size 432x288 with 1 Axes>"
      ]
     },
     "metadata": {
      "needs_background": "light"
     },
     "output_type": "display_data"
    }
   ],
   "source": [
    "plt.plot(Taoyuan[:, 0], Taoyuan[:, 5], '-*', color='green')"
   ]
  },
  {
   "cell_type": "code",
   "execution_count": 122,
   "id": "fa6d1e45",
   "metadata": {},
   "outputs": [
    {
     "data": {
      "text/plain": [
       "[<matplotlib.lines.Line2D at 0x2a9d9c9f4c0>]"
      ]
     },
     "execution_count": 122,
     "metadata": {},
     "output_type": "execute_result"
    },
    {
     "data": {
      "image/png": "[encoded data removed]",
      "text/plain": [
       "<Figure size 432x288 with 1 Axes>"
      ]
     },
     "metadata": {
      "needs_background": "light"
     },
     "output_type": "display_data"
    }
   ],
   "source": [
    "plt.plot(Tainan[:, 0], Tainan[:, 5], '-*', color='green')"
   ]
  },
  {
   "cell_type": "code",
   "execution_count": 124,
   "id": "a5ad72bd",
   "metadata": {},
   "outputs": [],
   "source": [
    "plt.show()"
   ]
  },
  {
   "cell_type": "code",
   "execution_count": 117,
   "id": "3cdba064",
   "metadata": {},
   "outputs": [
    {
     "data": {
      "text/html": [
       "<div>\n",
       "<style scoped>\n",
       "    .dataframe tbody tr th:only-of-type {\n",
       "        vertical-align: middle;\n",
       "    }\n",
       "\n",
       "    .dataframe tbody tr th {\n",
       "        vertical-align: top;\n",
       "    }\n",
       "\n",
       "    .dataframe thead th {\n",
       "        text-align: right;\n",
       "    }\n",
       "</style>\n",
       "<table border=\"1\" class=\"dataframe\">\n",
       "  <thead>\n",
       "    <tr style=\"text-align: right;\">\n",
       "      <th></th>\n",
       "      <th>年分</th>\n",
       "      <th>縣市</th>\n",
       "      <th>房貸負擔率(%)</th>\n",
       "      <th>房貸負擔率(百分點)季變動值</th>\n",
       "      <th>房貸負擔率(百分點)年變動值</th>\n",
       "      <th>房價所得比(倍)</th>\n",
       "      <th>房價所得比(倍)季變動值</th>\n",
       "      <th>房價所得比(倍)年變動值</th>\n",
       "    </tr>\n",
       "  </thead>\n",
       "  <tbody>\n",
       "    <tr>\n",
       "      <th>1</th>\n",
       "      <td>2017</td>\n",
       "      <td>臺北市</td>\n",
       "      <td>64.29</td>\n",
       "      <td>0.39</td>\n",
       "      <td>1.90</td>\n",
       "      <td>15.64</td>\n",
       "      <td>0.12</td>\n",
       "      <td>0.57</td>\n",
       "    </tr>\n",
       "    <tr>\n",
       "      <th>22</th>\n",
       "      <td>2018</td>\n",
       "      <td>臺北市</td>\n",
       "      <td>61.56</td>\n",
       "      <td>0.02</td>\n",
       "      <td>-2.72</td>\n",
       "      <td>15.01</td>\n",
       "      <td>0.01</td>\n",
       "      <td>-0.63</td>\n",
       "    </tr>\n",
       "    <tr>\n",
       "      <th>44</th>\n",
       "      <td>2019</td>\n",
       "      <td>臺北市</td>\n",
       "      <td>59.25</td>\n",
       "      <td>1.18</td>\n",
       "      <td>-2.31</td>\n",
       "      <td>14.45</td>\n",
       "      <td>0.30</td>\n",
       "      <td>-0.56</td>\n",
       "    </tr>\n",
       "    <tr>\n",
       "      <th>65</th>\n",
       "      <td>2020</td>\n",
       "      <td>臺北市</td>\n",
       "      <td>57.57</td>\n",
       "      <td>0.51</td>\n",
       "      <td>-1.68</td>\n",
       "      <td>14.39</td>\n",
       "      <td>0.45</td>\n",
       "      <td>-0.06</td>\n",
       "    </tr>\n",
       "    <tr>\n",
       "      <th>86</th>\n",
       "      <td>2021</td>\n",
       "      <td>臺北市</td>\n",
       "      <td>63.11</td>\n",
       "      <td>0.94</td>\n",
       "      <td>5.54</td>\n",
       "      <td>15.79</td>\n",
       "      <td>0.25</td>\n",
       "      <td>1.40</td>\n",
       "    </tr>\n",
       "  </tbody>\n",
       "</table>\n",
       "</div>"
      ],
      "text/plain": [
       "      年分   縣市  房貸負擔率(%) 房貸負擔率(百分點)季變動值  房貸負擔率(百分點)年變動值  房價所得比(倍)  \\\n",
       "1   2017  臺北市     64.29           0.39            1.90     15.64   \n",
       "22  2018  臺北市     61.56           0.02           -2.72     15.01   \n",
       "44  2019  臺北市     59.25           1.18           -2.31     14.45   \n",
       "65  2020  臺北市     57.57           0.51           -1.68     14.39   \n",
       "86  2021  臺北市     63.11           0.94            5.54     15.79   \n",
       "\n",
       "    房價所得比(倍)季變動值  房價所得比(倍)年變動值  \n",
       "1           0.12          0.57  \n",
       "22          0.01         -0.63  \n",
       "44          0.30         -0.56  \n",
       "65          0.45         -0.06  \n",
       "86          0.25          1.40  "
      ]
     },
     "execution_count": 117,
     "metadata": {},
     "output_type": "execute_result"
    }
   ],
   "source": [
    "df1"
   ]
  },
  {
   "cell_type": "code",
   "execution_count": 118,
   "id": "3feaea24",
   "metadata": {},
   "outputs": [
    {
     "data": {
      "text/html": [
       "<div>\n",
       "<style scoped>\n",
       "    .dataframe tbody tr th:only-of-type {\n",
       "        vertical-align: middle;\n",
       "    }\n",
       "\n",
       "    .dataframe tbody tr th {\n",
       "        vertical-align: top;\n",
       "    }\n",
       "\n",
       "    .dataframe thead th {\n",
       "        text-align: right;\n",
       "    }\n",
       "</style>\n",
       "<table border=\"1\" class=\"dataframe\">\n",
       "  <thead>\n",
       "    <tr style=\"text-align: right;\">\n",
       "      <th></th>\n",
       "      <th>年分</th>\n",
       "      <th>縣市</th>\n",
       "      <th>房貸負擔率(%)</th>\n",
       "      <th>房貸負擔率(百分點)季變動值</th>\n",
       "      <th>房貸負擔率(百分點)年變動值</th>\n",
       "      <th>房價所得比(倍)</th>\n",
       "      <th>房價所得比(倍)季變動值</th>\n",
       "      <th>房價所得比(倍)年變動值</th>\n",
       "    </tr>\n",
       "  </thead>\n",
       "  <tbody>\n",
       "    <tr>\n",
       "      <th>8</th>\n",
       "      <td>2017</td>\n",
       "      <td>桃園市</td>\n",
       "      <td>34.10</td>\n",
       "      <td>-0.85</td>\n",
       "      <td>0.12</td>\n",
       "      <td>8.30</td>\n",
       "      <td>-0.19</td>\n",
       "      <td>0.09</td>\n",
       "    </tr>\n",
       "    <tr>\n",
       "      <th>27</th>\n",
       "      <td>2018</td>\n",
       "      <td>桃園市</td>\n",
       "      <td>33.32</td>\n",
       "      <td>0.19</td>\n",
       "      <td>-0.78</td>\n",
       "      <td>8.12</td>\n",
       "      <td>0.05</td>\n",
       "      <td>-0.17</td>\n",
       "    </tr>\n",
       "    <tr>\n",
       "      <th>45</th>\n",
       "      <td>2019</td>\n",
       "      <td>桃園市</td>\n",
       "      <td>30.16</td>\n",
       "      <td>-0.17</td>\n",
       "      <td>-3.16</td>\n",
       "      <td>7.35</td>\n",
       "      <td>-0.04</td>\n",
       "      <td>-0.77</td>\n",
       "    </tr>\n",
       "    <tr>\n",
       "      <th>66</th>\n",
       "      <td>2020</td>\n",
       "      <td>桃園市</td>\n",
       "      <td>29.69</td>\n",
       "      <td>-0.92</td>\n",
       "      <td>-0.47</td>\n",
       "      <td>7.42</td>\n",
       "      <td>-0.05</td>\n",
       "      <td>0.07</td>\n",
       "    </tr>\n",
       "    <tr>\n",
       "      <th>87</th>\n",
       "      <td>2021</td>\n",
       "      <td>桃園市</td>\n",
       "      <td>30.29</td>\n",
       "      <td>0.34</td>\n",
       "      <td>0.60</td>\n",
       "      <td>7.58</td>\n",
       "      <td>0.09</td>\n",
       "      <td>0.16</td>\n",
       "    </tr>\n",
       "  </tbody>\n",
       "</table>\n",
       "</div>"
      ],
      "text/plain": [
       "      年分   縣市  房貸負擔率(%) 房貸負擔率(百分點)季變動值  房貸負擔率(百分點)年變動值  房價所得比(倍)  \\\n",
       "8   2017  桃園市     34.10          -0.85            0.12      8.30   \n",
       "27  2018  桃園市     33.32           0.19           -0.78      8.12   \n",
       "45  2019  桃園市     30.16          -0.17           -3.16      7.35   \n",
       "66  2020  桃園市     29.69          -0.92           -0.47      7.42   \n",
       "87  2021  桃園市     30.29           0.34            0.60      7.58   \n",
       "\n",
       "    房價所得比(倍)季變動值  房價所得比(倍)年變動值  \n",
       "8          -0.19          0.09  \n",
       "27          0.05         -0.17  \n",
       "45         -0.04         -0.77  \n",
       "66         -0.05          0.07  \n",
       "87          0.09          0.16  "
      ]
     },
     "execution_count": 118,
     "metadata": {},
     "output_type": "execute_result"
    }
   ],
   "source": [
    "df2"
   ]
  },
  {
   "cell_type": "code",
   "execution_count": null,
   "id": "495aad08",
   "metadata": {},
   "outputs": [],
   "source": []
  }
 ],
 "metadata": {
  "kernelspec": {
   "display_name": "Python 3",
   "language": "python",
   "name": "python3"
  },
  "language_info": {
   "codemirror_mode": {
    "name": "ipython",
    "version": 3
   },
   "file_extension": ".py",
   "mimetype": "text/x-python",
   "name": "python",
   "nbconvert_exporter": "python",
   "pygments_lexer": "ipython3",
   "version": "3.8.8"
  }
 },
 "nbformat": 4,
 "nbformat_minor": 5
}
